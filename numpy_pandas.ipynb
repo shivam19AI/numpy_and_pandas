{
 "cells": [
  {
   "cell_type": "code",
   "execution_count": 1,
   "id": "2757da49",
   "metadata": {},
   "outputs": [],
   "source": [
    "import numpy as np"
   ]
  },
  {
   "cell_type": "code",
   "execution_count": 2,
   "id": "817236d5",
   "metadata": {},
   "outputs": [
    {
     "name": "stdout",
     "output_type": "stream",
     "text": [
      "Requirement already satisfied: numpy in c:\\users\\kumar\\anaconda3\\lib\\site-packages (1.21.5)\n"
     ]
    }
   ],
   "source": [
    "!pip install numpy"
   ]
  },
  {
   "cell_type": "code",
   "execution_count": 3,
   "id": "e5d5353f",
   "metadata": {},
   "outputs": [],
   "source": [
    "arr=np.array([4,5,6])"
   ]
  },
  {
   "cell_type": "code",
   "execution_count": 4,
   "id": "a606c750",
   "metadata": {},
   "outputs": [
    {
     "name": "stdout",
     "output_type": "stream",
     "text": [
      "[4 5 6]\n"
     ]
    }
   ],
   "source": [
    "print(arr)"
   ]
  },
  {
   "cell_type": "code",
   "execution_count": 5,
   "id": "f4b6778c",
   "metadata": {},
   "outputs": [],
   "source": [
    "arr2=np.array([[5,6,7],[8,9,4],[2,7,8]])"
   ]
  },
  {
   "cell_type": "code",
   "execution_count": 6,
   "id": "482148ea",
   "metadata": {},
   "outputs": [
    {
     "data": {
      "text/plain": [
       "array([[5, 6, 7],\n",
       "       [8, 9, 4],\n",
       "       [2, 7, 8]])"
      ]
     },
     "execution_count": 6,
     "metadata": {},
     "output_type": "execute_result"
    }
   ],
   "source": [
    "arr2"
   ]
  },
  {
   "cell_type": "code",
   "execution_count": 7,
   "id": "4ab050c6",
   "metadata": {},
   "outputs": [
    {
     "data": {
      "text/plain": [
       "array([[0., 0., 0., 0., 0.],\n",
       "       [0., 0., 0., 0., 0.],\n",
       "       [0., 0., 0., 0., 0.],\n",
       "       [0., 0., 0., 0., 0.]])"
      ]
     },
     "execution_count": 7,
     "metadata": {},
     "output_type": "execute_result"
    }
   ],
   "source": [
    "np.zeros((4,5))"
   ]
  },
  {
   "cell_type": "code",
   "execution_count": 9,
   "id": "aca2f75f",
   "metadata": {},
   "outputs": [
    {
     "data": {
      "text/plain": [
       "array([10, 12, 14, 16, 18])"
      ]
     },
     "execution_count": 9,
     "metadata": {},
     "output_type": "execute_result"
    }
   ],
   "source": [
    "np.arange(10,20,2)"
   ]
  },
  {
   "cell_type": "code",
   "execution_count": 10,
   "id": "b3c54424",
   "metadata": {},
   "outputs": [
    {
     "data": {
      "text/plain": [
       "array([10, 15, 20, 25, 30, 35, 40, 45, 50, 55, 60, 65, 70, 75, 80, 85, 90,\n",
       "       95])"
      ]
     },
     "execution_count": 10,
     "metadata": {},
     "output_type": "execute_result"
    }
   ],
   "source": [
    "np.arange(10,100,5)"
   ]
  },
  {
   "cell_type": "code",
   "execution_count": 11,
   "id": "95b5f48c",
   "metadata": {},
   "outputs": [],
   "source": [
    "arr3=np.arange(1,10,2)"
   ]
  },
  {
   "cell_type": "code",
   "execution_count": 12,
   "id": "52f4a93e",
   "metadata": {},
   "outputs": [
    {
     "data": {
      "text/plain": [
       "array([1, 3, 5, 7, 9])"
      ]
     },
     "execution_count": 12,
     "metadata": {},
     "output_type": "execute_result"
    }
   ],
   "source": [
    "arr3"
   ]
  },
  {
   "cell_type": "code",
   "execution_count": 18,
   "id": "e7fa0930",
   "metadata": {},
   "outputs": [],
   "source": [
    "# yadi hame 100 to 300 ko 9 part me devide karna hai to linspace ka use karenge and 300 hundred ko bhi print kar dega"
   ]
  },
  {
   "cell_type": "code",
   "execution_count": 19,
   "id": "2795cc9f",
   "metadata": {},
   "outputs": [],
   "source": [
    "arr4=np.linspace(100,300,9)"
   ]
  },
  {
   "cell_type": "code",
   "execution_count": 20,
   "id": "17cf8ffc",
   "metadata": {},
   "outputs": [
    {
     "data": {
      "text/plain": [
       "array([100., 125., 150., 175., 200., 225., 250., 275., 300.])"
      ]
     },
     "execution_count": 20,
     "metadata": {},
     "output_type": "execute_result"
    }
   ],
   "source": [
    "arr4"
   ]
  },
  {
   "cell_type": "code",
   "execution_count": 21,
   "id": "d2156735",
   "metadata": {},
   "outputs": [],
   "source": [
    "arr5=np.linspace(1,2,6)"
   ]
  },
  {
   "cell_type": "code",
   "execution_count": 22,
   "id": "b77b6630",
   "metadata": {},
   "outputs": [
    {
     "data": {
      "text/plain": [
       "array([1. , 1.2, 1.4, 1.6, 1.8, 2. ])"
      ]
     },
     "execution_count": 22,
     "metadata": {},
     "output_type": "execute_result"
    }
   ],
   "source": [
    "arr5"
   ]
  },
  {
   "cell_type": "code",
   "execution_count": 23,
   "id": "db9671ad",
   "metadata": {},
   "outputs": [],
   "source": [
    "arr6=np.full((5,5),10)"
   ]
  },
  {
   "cell_type": "code",
   "execution_count": 24,
   "id": "e885f7bb",
   "metadata": {},
   "outputs": [
    {
     "data": {
      "text/plain": [
       "array([[10, 10, 10, 10, 10],\n",
       "       [10, 10, 10, 10, 10],\n",
       "       [10, 10, 10, 10, 10],\n",
       "       [10, 10, 10, 10, 10],\n",
       "       [10, 10, 10, 10, 10]])"
      ]
     },
     "execution_count": 24,
     "metadata": {},
     "output_type": "execute_result"
    }
   ],
   "source": [
    "arr6"
   ]
  },
  {
   "cell_type": "code",
   "execution_count": 25,
   "id": "777d2d3f",
   "metadata": {},
   "outputs": [],
   "source": [
    "arr7=np.full((6,7),9)"
   ]
  },
  {
   "cell_type": "code",
   "execution_count": 26,
   "id": "bbb00839",
   "metadata": {},
   "outputs": [
    {
     "data": {
      "text/plain": [
       "array([[9, 9, 9, 9, 9, 9, 9],\n",
       "       [9, 9, 9, 9, 9, 9, 9],\n",
       "       [9, 9, 9, 9, 9, 9, 9],\n",
       "       [9, 9, 9, 9, 9, 9, 9],\n",
       "       [9, 9, 9, 9, 9, 9, 9],\n",
       "       [9, 9, 9, 9, 9, 9, 9]])"
      ]
     },
     "execution_count": 26,
     "metadata": {},
     "output_type": "execute_result"
    }
   ],
   "source": [
    "arr7"
   ]
  },
  {
   "cell_type": "code",
   "execution_count": 28,
   "id": "91ce8027",
   "metadata": {},
   "outputs": [],
   "source": [
    "# EXPLORING NUMPY ARRAY (SHAPE,RESHAPE,NDIM,SIZE ETC)"
   ]
  },
  {
   "cell_type": "code",
   "execution_count": 29,
   "id": "175827d6",
   "metadata": {},
   "outputs": [],
   "source": [
    "arr8=np.array([[7,8,9],[10,56,78]])"
   ]
  },
  {
   "cell_type": "code",
   "execution_count": 30,
   "id": "e9704050",
   "metadata": {},
   "outputs": [
    {
     "data": {
      "text/plain": [
       "array([[ 7,  8,  9],\n",
       "       [10, 56, 78]])"
      ]
     },
     "execution_count": 30,
     "metadata": {},
     "output_type": "execute_result"
    }
   ],
   "source": [
    "arr8"
   ]
  },
  {
   "cell_type": "code",
   "execution_count": 32,
   "id": "21d21a06",
   "metadata": {},
   "outputs": [
    {
     "data": {
      "text/plain": [
       "(2, 3)"
      ]
     },
     "execution_count": 32,
     "metadata": {},
     "output_type": "execute_result"
    }
   ],
   "source": [
    "arr8.shape"
   ]
  },
  {
   "cell_type": "code",
   "execution_count": 35,
   "id": "fdea6cf6",
   "metadata": {},
   "outputs": [],
   "source": [
    "arr9=np.array([[7,8,9],[10,56,78],[8,5,3]])"
   ]
  },
  {
   "cell_type": "code",
   "execution_count": 36,
   "id": "734ed5d4",
   "metadata": {},
   "outputs": [
    {
     "data": {
      "text/plain": [
       "(3, 3)"
      ]
     },
     "execution_count": 36,
     "metadata": {},
     "output_type": "execute_result"
    }
   ],
   "source": [
    "arr9.shape"
   ]
  },
  {
   "cell_type": "code",
   "execution_count": 37,
   "id": "7b291251",
   "metadata": {},
   "outputs": [],
   "source": [
    "arr10=np.array([[7,8,9],[10,56,78]])"
   ]
  },
  {
   "cell_type": "code",
   "execution_count": 38,
   "id": "cf56a3d6",
   "metadata": {},
   "outputs": [],
   "source": [
    "arr10.shape=(3,2)"
   ]
  },
  {
   "cell_type": "code",
   "execution_count": 39,
   "id": "3e1a1494",
   "metadata": {},
   "outputs": [
    {
     "data": {
      "text/plain": [
       "array([[ 7,  8],\n",
       "       [ 9, 10],\n",
       "       [56, 78]])"
      ]
     },
     "execution_count": 39,
     "metadata": {},
     "output_type": "execute_result"
    }
   ],
   "source": [
    "arr10"
   ]
  },
  {
   "cell_type": "code",
   "execution_count": 40,
   "id": "ac20c347",
   "metadata": {},
   "outputs": [
    {
     "data": {
      "text/plain": [
       "(3, 2)"
      ]
     },
     "execution_count": 40,
     "metadata": {},
     "output_type": "execute_result"
    }
   ],
   "source": [
    "arr10.shape"
   ]
  },
  {
   "cell_type": "code",
   "execution_count": 42,
   "id": "c00ea388",
   "metadata": {},
   "outputs": [],
   "source": [
    "arr11=arr10.reshape(2,1,3)"
   ]
  },
  {
   "cell_type": "code",
   "execution_count": 43,
   "id": "793fa976",
   "metadata": {},
   "outputs": [
    {
     "data": {
      "text/plain": [
       "array([[[ 7,  8,  9]],\n",
       "\n",
       "       [[10, 56, 78]]])"
      ]
     },
     "execution_count": 43,
     "metadata": {},
     "output_type": "execute_result"
    }
   ],
   "source": [
    "arr11"
   ]
  },
  {
   "cell_type": "code",
   "execution_count": 44,
   "id": "efcad764",
   "metadata": {},
   "outputs": [
    {
     "data": {
      "text/plain": [
       "(2, 1, 3)"
      ]
     },
     "execution_count": 44,
     "metadata": {},
     "output_type": "execute_result"
    }
   ],
   "source": [
    "arr11.shape"
   ]
  },
  {
   "cell_type": "code",
   "execution_count": 48,
   "id": "b0ab0534",
   "metadata": {},
   "outputs": [
    {
     "data": {
      "text/plain": [
       "3"
      ]
     },
     "execution_count": 48,
     "metadata": {},
     "output_type": "execute_result"
    }
   ],
   "source": [
    "arr11.ndim"
   ]
  },
  {
   "cell_type": "code",
   "execution_count": 47,
   "id": "8e57af42",
   "metadata": {},
   "outputs": [
    {
     "data": {
      "text/plain": [
       "6"
      ]
     },
     "execution_count": 47,
     "metadata": {},
     "output_type": "execute_result"
    }
   ],
   "source": [
    "# number of elements in array\n",
    "arr11.size"
   ]
  },
  {
   "cell_type": "code",
   "execution_count": 1,
   "id": "a1c0e60c",
   "metadata": {},
   "outputs": [],
   "source": [
    "import numpy as np"
   ]
  },
  {
   "cell_type": "code",
   "execution_count": 4,
   "id": "abeba40b",
   "metadata": {},
   "outputs": [],
   "source": [
    "# 1 TO 100 TAK KE NUMBER KO RANDOMLY 12 PART ME DEVIDE KARKE PRINT KARA SAKTE HAI"
   ]
  },
  {
   "cell_type": "code",
   "execution_count": 5,
   "id": "a1ee259b",
   "metadata": {},
   "outputs": [],
   "source": [
    "arr=np.random.randint(1,100,12)"
   ]
  },
  {
   "cell_type": "code",
   "execution_count": 6,
   "id": "65fa3a36",
   "metadata": {},
   "outputs": [
    {
     "data": {
      "text/plain": [
       "array([68, 93, 13,  9, 84, 34, 86,  3, 89, 65, 73, 79])"
      ]
     },
     "execution_count": 6,
     "metadata": {},
     "output_type": "execute_result"
    }
   ],
   "source": [
    "arr"
   ]
  },
  {
   "cell_type": "code",
   "execution_count": 7,
   "id": "adac8096",
   "metadata": {},
   "outputs": [
    {
     "data": {
      "text/plain": [
       "(12,)"
      ]
     },
     "execution_count": 7,
     "metadata": {},
     "output_type": "execute_result"
    }
   ],
   "source": [
    "arr.shape"
   ]
  },
  {
   "cell_type": "code",
   "execution_count": 8,
   "id": "39eb70e0",
   "metadata": {},
   "outputs": [],
   "source": [
    "arr=arr.reshape(6,2)"
   ]
  },
  {
   "cell_type": "code",
   "execution_count": 9,
   "id": "e5fcc90c",
   "metadata": {},
   "outputs": [
    {
     "data": {
      "text/plain": [
       "array([[68, 93],\n",
       "       [13,  9],\n",
       "       [84, 34],\n",
       "       [86,  3],\n",
       "       [89, 65],\n",
       "       [73, 79]])"
      ]
     },
     "execution_count": 9,
     "metadata": {},
     "output_type": "execute_result"
    }
   ],
   "source": [
    "arr"
   ]
  },
  {
   "cell_type": "code",
   "execution_count": 10,
   "id": "0d40293a",
   "metadata": {},
   "outputs": [],
   "source": [
    "arr=arr.reshape(12)"
   ]
  },
  {
   "cell_type": "code",
   "execution_count": 11,
   "id": "dc480278",
   "metadata": {},
   "outputs": [
    {
     "data": {
      "text/plain": [
       "array([68, 93, 13,  9, 84, 34, 86,  3, 89, 65, 73, 79])"
      ]
     },
     "execution_count": 11,
     "metadata": {},
     "output_type": "execute_result"
    }
   ],
   "source": [
    "arr"
   ]
  },
  {
   "cell_type": "code",
   "execution_count": 12,
   "id": "79ef1d82",
   "metadata": {},
   "outputs": [],
   "source": [
    "# MATHEMATICAL OPERATIONS USING NUMPY"
   ]
  },
  {
   "cell_type": "code",
   "execution_count": 18,
   "id": "999a659f",
   "metadata": {},
   "outputs": [],
   "source": [
    "# array comprision true and false"
   ]
  },
  {
   "cell_type": "code",
   "execution_count": 14,
   "id": "4294fa48",
   "metadata": {},
   "outputs": [],
   "source": [
    "import numpy as np"
   ]
  },
  {
   "cell_type": "code",
   "execution_count": 28,
   "id": "5a53e031",
   "metadata": {},
   "outputs": [],
   "source": [
    "arr1=np.array([1,2,3])\n",
    "arr2=np.array([5,6,3])\n",
    "arr3=np.array([1,2,3])"
   ]
  },
  {
   "cell_type": "code",
   "execution_count": 29,
   "id": "1d80f01e",
   "metadata": {},
   "outputs": [
    {
     "data": {
      "text/plain": [
       "array([0, 0, 1])"
      ]
     },
     "execution_count": 29,
     "metadata": {},
     "output_type": "execute_result"
    }
   ],
   "source": [
    "np.equal(arr1,arr2,arr3)"
   ]
  },
  {
   "cell_type": "code",
   "execution_count": 30,
   "id": "9f0dc883",
   "metadata": {},
   "outputs": [],
   "source": [
    "arr1=np.array([1,2,3])\n",
    "arr2=np.array([5,6,3])\n",
    "arr3=np.array([1,2,3])"
   ]
  },
  {
   "cell_type": "code",
   "execution_count": 31,
   "id": "41daeda6",
   "metadata": {},
   "outputs": [
    {
     "data": {
      "text/plain": [
       "array([ True,  True,  True])"
      ]
     },
     "execution_count": 31,
     "metadata": {},
     "output_type": "execute_result"
    }
   ],
   "source": [
    "np.equal(arr1,arr3)"
   ]
  },
  {
   "cell_type": "code",
   "execution_count": 34,
   "id": "9844551a",
   "metadata": {},
   "outputs": [],
   "source": [
    "arr1=np.array([1,2,3])\n",
    "arr2=np.array([5,6,3])\n",
    "arr3=np.array([1,2,3])"
   ]
  },
  {
   "cell_type": "code",
   "execution_count": 36,
   "id": "fa57670c",
   "metadata": {},
   "outputs": [
    {
     "data": {
      "text/plain": [
       "False"
      ]
     },
     "execution_count": 36,
     "metadata": {},
     "output_type": "execute_result"
    }
   ],
   "source": [
    "np.array_equal(arr1,arr2)"
   ]
  },
  {
   "cell_type": "code",
   "execution_count": 37,
   "id": "e6b76eaf",
   "metadata": {},
   "outputs": [
    {
     "data": {
      "text/plain": [
       "True"
      ]
     },
     "execution_count": 37,
     "metadata": {},
     "output_type": "execute_result"
    }
   ],
   "source": [
    "np.array_equal(arr1,arr3)"
   ]
  },
  {
   "cell_type": "code",
   "execution_count": 38,
   "id": "b2201d07",
   "metadata": {},
   "outputs": [
    {
     "data": {
      "text/plain": [
       "array([1, 2, 3])"
      ]
     },
     "execution_count": 38,
     "metadata": {},
     "output_type": "execute_result"
    }
   ],
   "source": [
    "arr1"
   ]
  },
  {
   "cell_type": "code",
   "execution_count": 39,
   "id": "8955a90f",
   "metadata": {},
   "outputs": [
    {
     "data": {
      "text/plain": [
       "array([5, 6, 3])"
      ]
     },
     "execution_count": 39,
     "metadata": {},
     "output_type": "execute_result"
    }
   ],
   "source": [
    "arr2"
   ]
  },
  {
   "cell_type": "code",
   "execution_count": 40,
   "id": "ae80f8a4",
   "metadata": {},
   "outputs": [
    {
     "data": {
      "text/plain": [
       "array([1, 2, 3])"
      ]
     },
     "execution_count": 40,
     "metadata": {},
     "output_type": "execute_result"
    }
   ],
   "source": [
    "arr3"
   ]
  },
  {
   "cell_type": "code",
   "execution_count": 41,
   "id": "4cf11d6c",
   "metadata": {},
   "outputs": [
    {
     "data": {
      "text/plain": [
       "6"
      ]
     },
     "execution_count": 41,
     "metadata": {},
     "output_type": "execute_result"
    }
   ],
   "source": [
    "np.sum(arr1)"
   ]
  },
  {
   "cell_type": "code",
   "execution_count": 42,
   "id": "c439d29e",
   "metadata": {},
   "outputs": [
    {
     "data": {
      "text/plain": [
       "14"
      ]
     },
     "execution_count": 42,
     "metadata": {},
     "output_type": "execute_result"
    }
   ],
   "source": [
    "np.sum(arr2)"
   ]
  },
  {
   "cell_type": "code",
   "execution_count": 43,
   "id": "766b2dec",
   "metadata": {},
   "outputs": [
    {
     "data": {
      "text/plain": [
       "6"
      ]
     },
     "execution_count": 43,
     "metadata": {},
     "output_type": "execute_result"
    }
   ],
   "source": [
    "np.sum(arr3)"
   ]
  },
  {
   "cell_type": "code",
   "execution_count": 44,
   "id": "da5d2d1b",
   "metadata": {},
   "outputs": [
    {
     "data": {
      "text/plain": [
       "20"
      ]
     },
     "execution_count": 44,
     "metadata": {},
     "output_type": "execute_result"
    }
   ],
   "source": [
    "np.sum([[1,2],[8,9]])"
   ]
  },
  {
   "cell_type": "code",
   "execution_count": 47,
   "id": "ce84942c",
   "metadata": {},
   "outputs": [
    {
     "data": {
      "text/plain": [
       "array([ 9, 11])"
      ]
     },
     "execution_count": 47,
     "metadata": {},
     "output_type": "execute_result"
    }
   ],
   "source": [
    "np.sum([[1,2],[8,9]],axis=0) # column wise sum"
   ]
  },
  {
   "cell_type": "code",
   "execution_count": 48,
   "id": "74703a4c",
   "metadata": {},
   "outputs": [
    {
     "data": {
      "text/plain": [
       "array([ 3, 17])"
      ]
     },
     "execution_count": 48,
     "metadata": {},
     "output_type": "execute_result"
    }
   ],
   "source": [
    "np.sum([[1,2],[8,9]],axis=1) # row wise sum"
   ]
  },
  {
   "cell_type": "code",
   "execution_count": 49,
   "id": "0542e449",
   "metadata": {},
   "outputs": [],
   "source": [
    "# np.sum(),np.subtract(),np.multiply(),np.divide()"
   ]
  },
  {
   "cell_type": "code",
   "execution_count": 51,
   "id": "88dbc10e",
   "metadata": {},
   "outputs": [
    {
     "data": {
      "text/plain": [
       "array([1, 2, 3])"
      ]
     },
     "execution_count": 51,
     "metadata": {},
     "output_type": "execute_result"
    }
   ],
   "source": [
    "arr1"
   ]
  },
  {
   "cell_type": "code",
   "execution_count": 52,
   "id": "cf543262",
   "metadata": {},
   "outputs": [
    {
     "data": {
      "text/plain": [
       "array([5, 6, 3])"
      ]
     },
     "execution_count": 52,
     "metadata": {},
     "output_type": "execute_result"
    }
   ],
   "source": [
    "arr2"
   ]
  },
  {
   "cell_type": "code",
   "execution_count": 53,
   "id": "14a327c5",
   "metadata": {},
   "outputs": [
    {
     "data": {
      "text/plain": [
       "array([-4, -4,  0])"
      ]
     },
     "execution_count": 53,
     "metadata": {},
     "output_type": "execute_result"
    }
   ],
   "source": [
    "np.subtract(arr1,arr2)"
   ]
  },
  {
   "cell_type": "code",
   "execution_count": 54,
   "id": "f03d18a5",
   "metadata": {},
   "outputs": [
    {
     "data": {
      "text/plain": [
       "array([ 5, 12,  9])"
      ]
     },
     "execution_count": 54,
     "metadata": {},
     "output_type": "execute_result"
    }
   ],
   "source": [
    "np.multiply(arr1,arr2)"
   ]
  },
  {
   "cell_type": "code",
   "execution_count": 55,
   "id": "40c617d9",
   "metadata": {},
   "outputs": [
    {
     "data": {
      "text/plain": [
       "array([0.2       , 0.33333333, 1.        ])"
      ]
     },
     "execution_count": 55,
     "metadata": {},
     "output_type": "execute_result"
    }
   ],
   "source": [
    "np.divide(arr1,arr2)"
   ]
  },
  {
   "cell_type": "code",
   "execution_count": 56,
   "id": "f68ebced",
   "metadata": {},
   "outputs": [
    {
     "data": {
      "text/plain": [
       "array([0.84147098, 0.90929743, 0.14112001])"
      ]
     },
     "execution_count": 56,
     "metadata": {},
     "output_type": "execute_result"
    }
   ],
   "source": [
    "np.sin(arr1)"
   ]
  },
  {
   "cell_type": "code",
   "execution_count": 57,
   "id": "47addcbe",
   "metadata": {},
   "outputs": [],
   "source": [
    "# sin(),cos(),exp(),log(),sqrt()"
   ]
  },
  {
   "cell_type": "code",
   "execution_count": 58,
   "id": "8539e97d",
   "metadata": {},
   "outputs": [
    {
     "data": {
      "text/plain": [
       "array([1.        , 1.41421356, 1.73205081])"
      ]
     },
     "execution_count": 58,
     "metadata": {},
     "output_type": "execute_result"
    }
   ],
   "source": [
    "np.sqrt(arr1)"
   ]
  },
  {
   "cell_type": "code",
   "execution_count": 59,
   "id": "c100d9f1",
   "metadata": {},
   "outputs": [
    {
     "data": {
      "text/plain": [
       "array([0.        , 0.69314718, 1.09861229])"
      ]
     },
     "execution_count": 59,
     "metadata": {},
     "output_type": "execute_result"
    }
   ],
   "source": [
    "np.log(arr1)"
   ]
  },
  {
   "cell_type": "code",
   "execution_count": 60,
   "id": "d8f33967",
   "metadata": {},
   "outputs": [
    {
     "data": {
      "text/plain": [
       "array([5, 6, 3])"
      ]
     },
     "execution_count": 60,
     "metadata": {},
     "output_type": "execute_result"
    }
   ],
   "source": [
    "arr2"
   ]
  },
  {
   "cell_type": "code",
   "execution_count": 61,
   "id": "c3683ed8",
   "metadata": {},
   "outputs": [
    {
     "data": {
      "text/plain": [
       "4.666666666666667"
      ]
     },
     "execution_count": 61,
     "metadata": {},
     "output_type": "execute_result"
    }
   ],
   "source": [
    "np.mean(arr2)"
   ]
  },
  {
   "cell_type": "code",
   "execution_count": 62,
   "id": "d1084d9b",
   "metadata": {},
   "outputs": [
    {
     "data": {
      "text/plain": [
       "1.247219128924647"
      ]
     },
     "execution_count": 62,
     "metadata": {},
     "output_type": "execute_result"
    }
   ],
   "source": [
    "np.std(arr2)"
   ]
  },
  {
   "cell_type": "code",
   "execution_count": 64,
   "id": "46c957fd",
   "metadata": {},
   "outputs": [
    {
     "data": {
      "text/plain": [
       "1.5555555555555554"
      ]
     },
     "execution_count": 64,
     "metadata": {},
     "output_type": "execute_result"
    }
   ],
   "source": [
    "np.var(arr2)"
   ]
  },
  {
   "cell_type": "code",
   "execution_count": 65,
   "id": "ffaab292",
   "metadata": {},
   "outputs": [
    {
     "data": {
      "text/plain": [
       "5.0"
      ]
     },
     "execution_count": 65,
     "metadata": {},
     "output_type": "execute_result"
    }
   ],
   "source": [
    "np.median(arr2)"
   ]
  },
  {
   "cell_type": "code",
   "execution_count": 66,
   "id": "89dcf24d",
   "metadata": {},
   "outputs": [
    {
     "data": {
      "text/plain": [
       "6"
      ]
     },
     "execution_count": 66,
     "metadata": {},
     "output_type": "execute_result"
    }
   ],
   "source": [
    "np.max(arr2)"
   ]
  },
  {
   "cell_type": "code",
   "execution_count": 67,
   "id": "ddd8efcb",
   "metadata": {},
   "outputs": [
    {
     "data": {
      "text/plain": [
       "3"
      ]
     },
     "execution_count": 67,
     "metadata": {},
     "output_type": "execute_result"
    }
   ],
   "source": [
    "np.min(arr2)"
   ]
  },
  {
   "cell_type": "code",
   "execution_count": 68,
   "id": "0d47814f",
   "metadata": {},
   "outputs": [
    {
     "data": {
      "text/plain": [
       "array([1, 2, 3])"
      ]
     },
     "execution_count": 68,
     "metadata": {},
     "output_type": "execute_result"
    }
   ],
   "source": [
    "arr1"
   ]
  },
  {
   "cell_type": "code",
   "execution_count": 69,
   "id": "6c8e2976",
   "metadata": {},
   "outputs": [
    {
     "data": {
      "text/plain": [
       "array([5, 6, 3])"
      ]
     },
     "execution_count": 69,
     "metadata": {},
     "output_type": "execute_result"
    }
   ],
   "source": [
    "arr2"
   ]
  },
  {
   "cell_type": "code",
   "execution_count": 70,
   "id": "4778202f",
   "metadata": {},
   "outputs": [
    {
     "data": {
      "text/plain": [
       "array([6, 8, 6])"
      ]
     },
     "execution_count": 70,
     "metadata": {},
     "output_type": "execute_result"
    }
   ],
   "source": [
    "arr1+arr2"
   ]
  },
  {
   "cell_type": "code",
   "execution_count": 71,
   "id": "94608dde",
   "metadata": {},
   "outputs": [],
   "source": [
    "a=np.array([[3,4,5],[6,7,8],[1,2,3]])\n",
    "b=np.array([1,2,3])"
   ]
  },
  {
   "cell_type": "code",
   "execution_count": 72,
   "id": "b8d3ce4a",
   "metadata": {},
   "outputs": [
    {
     "data": {
      "text/plain": [
       "array([[ 4,  6,  8],\n",
       "       [ 7,  9, 11],\n",
       "       [ 2,  4,  6]])"
      ]
     },
     "execution_count": 72,
     "metadata": {},
     "output_type": "execute_result"
    }
   ],
   "source": [
    "a+b"
   ]
  },
  {
   "cell_type": "code",
   "execution_count": 1,
   "id": "fea6f744",
   "metadata": {},
   "outputs": [],
   "source": [
    "# indexing and slicing"
   ]
  },
  {
   "cell_type": "code",
   "execution_count": 2,
   "id": "c314b3f0",
   "metadata": {},
   "outputs": [],
   "source": [
    "import numpy as np"
   ]
  },
  {
   "cell_type": "code",
   "execution_count": 3,
   "id": "71ae1c0a",
   "metadata": {},
   "outputs": [],
   "source": [
    "arr1=np.array([10,20,30,40,50])\n",
    "arr2=np.array([[10,20,30],[40,50,60]])"
   ]
  },
  {
   "cell_type": "code",
   "execution_count": 4,
   "id": "416af139",
   "metadata": {},
   "outputs": [
    {
     "data": {
      "text/plain": [
       "array([10, 20, 30, 40, 50])"
      ]
     },
     "execution_count": 4,
     "metadata": {},
     "output_type": "execute_result"
    }
   ],
   "source": [
    "arr1"
   ]
  },
  {
   "cell_type": "code",
   "execution_count": 5,
   "id": "d732fca1",
   "metadata": {},
   "outputs": [
    {
     "data": {
      "text/plain": [
       "array([[10, 20, 30],\n",
       "       [40, 50, 60]])"
      ]
     },
     "execution_count": 5,
     "metadata": {},
     "output_type": "execute_result"
    }
   ],
   "source": [
    "arr2"
   ]
  },
  {
   "cell_type": "code",
   "execution_count": 6,
   "id": "31c43f62",
   "metadata": {},
   "outputs": [
    {
     "data": {
      "text/plain": [
       "30"
      ]
     },
     "execution_count": 6,
     "metadata": {},
     "output_type": "execute_result"
    }
   ],
   "source": [
    "arr1[2]"
   ]
  },
  {
   "cell_type": "code",
   "execution_count": 7,
   "id": "2aea1f1e",
   "metadata": {},
   "outputs": [
    {
     "data": {
      "text/plain": [
       "30"
      ]
     },
     "execution_count": 7,
     "metadata": {},
     "output_type": "execute_result"
    }
   ],
   "source": [
    "arr1[-3]"
   ]
  },
  {
   "cell_type": "code",
   "execution_count": 8,
   "id": "68df8217",
   "metadata": {},
   "outputs": [
    {
     "data": {
      "text/plain": [
       "50"
      ]
     },
     "execution_count": 8,
     "metadata": {},
     "output_type": "execute_result"
    }
   ],
   "source": [
    "arr1[-1]"
   ]
  },
  {
   "cell_type": "code",
   "execution_count": 9,
   "id": "3cf06a62",
   "metadata": {},
   "outputs": [
    {
     "data": {
      "text/plain": [
       "array([20, 30, 40])"
      ]
     },
     "execution_count": 9,
     "metadata": {},
     "output_type": "execute_result"
    }
   ],
   "source": [
    "arr1[1:4]"
   ]
  },
  {
   "cell_type": "code",
   "execution_count": 10,
   "id": "f7ea1bee",
   "metadata": {},
   "outputs": [
    {
     "data": {
      "text/plain": [
       "array([10, 20, 30, 40, 50])"
      ]
     },
     "execution_count": 10,
     "metadata": {},
     "output_type": "execute_result"
    }
   ],
   "source": [
    "arr1[:]"
   ]
  },
  {
   "cell_type": "code",
   "execution_count": 11,
   "id": "a7fe3f44",
   "metadata": {},
   "outputs": [
    {
     "data": {
      "text/plain": [
       "array([20, 30, 40, 50])"
      ]
     },
     "execution_count": 11,
     "metadata": {},
     "output_type": "execute_result"
    }
   ],
   "source": [
    "arr1[1:]"
   ]
  },
  {
   "cell_type": "code",
   "execution_count": 14,
   "id": "751b9628",
   "metadata": {},
   "outputs": [
    {
     "data": {
      "text/plain": [
       "array([40, 50])"
      ]
     },
     "execution_count": 14,
     "metadata": {},
     "output_type": "execute_result"
    }
   ],
   "source": [
    "arr1[-2:]"
   ]
  },
  {
   "cell_type": "code",
   "execution_count": 16,
   "id": "3480528e",
   "metadata": {},
   "outputs": [
    {
     "data": {
      "text/plain": [
       "array([50])"
      ]
     },
     "execution_count": 16,
     "metadata": {},
     "output_type": "execute_result"
    }
   ],
   "source": [
    "arr1[-1:]"
   ]
  },
  {
   "cell_type": "code",
   "execution_count": 18,
   "id": "3493bd17",
   "metadata": {},
   "outputs": [
    {
     "data": {
      "text/plain": [
       "array([10, 20, 30, 40, 50])"
      ]
     },
     "execution_count": 18,
     "metadata": {},
     "output_type": "execute_result"
    }
   ],
   "source": [
    "arr1[-5:]"
   ]
  },
  {
   "cell_type": "code",
   "execution_count": 19,
   "id": "ad2ed1b5",
   "metadata": {},
   "outputs": [
    {
     "data": {
      "text/plain": [
       "array([[10, 20, 30],\n",
       "       [40, 50, 60]])"
      ]
     },
     "execution_count": 19,
     "metadata": {},
     "output_type": "execute_result"
    }
   ],
   "source": [
    "arr2"
   ]
  },
  {
   "cell_type": "code",
   "execution_count": 20,
   "id": "e72173ce",
   "metadata": {},
   "outputs": [
    {
     "data": {
      "text/plain": [
       "60"
      ]
     },
     "execution_count": 20,
     "metadata": {},
     "output_type": "execute_result"
    }
   ],
   "source": [
    "arr2[1][2]"
   ]
  },
  {
   "cell_type": "code",
   "execution_count": 21,
   "id": "ffd1134e",
   "metadata": {},
   "outputs": [
    {
     "data": {
      "text/plain": [
       "50"
      ]
     },
     "execution_count": 21,
     "metadata": {},
     "output_type": "execute_result"
    }
   ],
   "source": [
    "arr2[1][1]"
   ]
  },
  {
   "cell_type": "code",
   "execution_count": 22,
   "id": "7e52cf3a",
   "metadata": {},
   "outputs": [
    {
     "data": {
      "text/plain": [
       "20"
      ]
     },
     "execution_count": 22,
     "metadata": {},
     "output_type": "execute_result"
    }
   ],
   "source": [
    "arr2[0][1]"
   ]
  },
  {
   "cell_type": "code",
   "execution_count": 23,
   "id": "35aa4bbe",
   "metadata": {},
   "outputs": [
    {
     "data": {
      "text/plain": [
       "array([20, 30])"
      ]
     },
     "execution_count": 23,
     "metadata": {},
     "output_type": "execute_result"
    }
   ],
   "source": [
    "arr2[0][1:]"
   ]
  },
  {
   "cell_type": "code",
   "execution_count": 25,
   "id": "ab314c64",
   "metadata": {},
   "outputs": [],
   "source": [
    "arr3=np.array([[1,2,3],[4,5,6],[7,8,9]])"
   ]
  },
  {
   "cell_type": "code",
   "execution_count": 26,
   "id": "8bbb0544",
   "metadata": {},
   "outputs": [
    {
     "data": {
      "text/plain": [
       "array([[1, 2, 3],\n",
       "       [4, 5, 6],\n",
       "       [7, 8, 9]])"
      ]
     },
     "execution_count": 26,
     "metadata": {},
     "output_type": "execute_result"
    }
   ],
   "source": [
    "arr3"
   ]
  },
  {
   "cell_type": "code",
   "execution_count": 27,
   "id": "1854e0a2",
   "metadata": {},
   "outputs": [
    {
     "data": {
      "text/plain": [
       "(3, 3)"
      ]
     },
     "execution_count": 27,
     "metadata": {},
     "output_type": "execute_result"
    }
   ],
   "source": [
    "arr3.shape"
   ]
  },
  {
   "cell_type": "code",
   "execution_count": 28,
   "id": "1dfe73e7",
   "metadata": {},
   "outputs": [
    {
     "data": {
      "text/plain": [
       "array([[4, 5, 6],\n",
       "       [7, 8, 9]])"
      ]
     },
     "execution_count": 28,
     "metadata": {},
     "output_type": "execute_result"
    }
   ],
   "source": [
    "arr3[1:]"
   ]
  },
  {
   "cell_type": "code",
   "execution_count": 31,
   "id": "95ade6b8",
   "metadata": {},
   "outputs": [
    {
     "data": {
      "text/plain": [
       "array([[5, 6],\n",
       "       [8, 9]])"
      ]
     },
     "execution_count": 31,
     "metadata": {},
     "output_type": "execute_result"
    }
   ],
   "source": [
    "arr3[1:,1:]   # esme 1st row and 1st column ko read karega"
   ]
  },
  {
   "cell_type": "code",
   "execution_count": 32,
   "id": "398cf275",
   "metadata": {},
   "outputs": [
    {
     "data": {
      "text/plain": [
       "array([[3],\n",
       "       [6],\n",
       "       [9]])"
      ]
     },
     "execution_count": 32,
     "metadata": {},
     "output_type": "execute_result"
    }
   ],
   "source": [
    "arr3[0:,2:]"
   ]
  },
  {
   "cell_type": "code",
   "execution_count": 33,
   "id": "c8a1281f",
   "metadata": {},
   "outputs": [
    {
     "data": {
      "text/plain": [
       "array([[2, 3],\n",
       "       [5, 6],\n",
       "       [8, 9]])"
      ]
     },
     "execution_count": 33,
     "metadata": {},
     "output_type": "execute_result"
    }
   ],
   "source": [
    "arr3[0:,1:]"
   ]
  },
  {
   "cell_type": "code",
   "execution_count": 34,
   "id": "6750204c",
   "metadata": {},
   "outputs": [
    {
     "data": {
      "text/plain": [
       "array([[1, 2],\n",
       "       [4, 5],\n",
       "       [7, 8]])"
      ]
     },
     "execution_count": 34,
     "metadata": {},
     "output_type": "execute_result"
    }
   ],
   "source": [
    "arr3[0:,:2]"
   ]
  },
  {
   "cell_type": "code",
   "execution_count": 35,
   "id": "050b21d8",
   "metadata": {},
   "outputs": [
    {
     "data": {
      "text/plain": [
       "array([[1, 2],\n",
       "       [4, 5],\n",
       "       [7, 8]])"
      ]
     },
     "execution_count": 35,
     "metadata": {},
     "output_type": "execute_result"
    }
   ],
   "source": [
    "arr3[:,:2]"
   ]
  },
  {
   "cell_type": "code",
   "execution_count": 37,
   "id": "5f53891d",
   "metadata": {},
   "outputs": [],
   "source": [
    "    import numpy as np               "
   ]
  },
  {
   "cell_type": "code",
   "execution_count": 38,
   "id": "13b319a4",
   "metadata": {},
   "outputs": [],
   "source": [
    "a1=np.array([[2,3],[8,9]])\n",
    "a2=np.array([[5,6]])"
   ]
  },
  {
   "cell_type": "code",
   "execution_count": 39,
   "id": "092f43a9",
   "metadata": {},
   "outputs": [
    {
     "data": {
      "text/plain": [
       "array([[2, 3],\n",
       "       [8, 9]])"
      ]
     },
     "execution_count": 39,
     "metadata": {},
     "output_type": "execute_result"
    }
   ],
   "source": [
    "a1"
   ]
  },
  {
   "cell_type": "code",
   "execution_count": 40,
   "id": "f3d3b6a7",
   "metadata": {},
   "outputs": [
    {
     "data": {
      "text/plain": [
       "array([[5, 6]])"
      ]
     },
     "execution_count": 40,
     "metadata": {},
     "output_type": "execute_result"
    }
   ],
   "source": [
    "a2"
   ]
  },
  {
   "cell_type": "code",
   "execution_count": 47,
   "id": "48c60225",
   "metadata": {},
   "outputs": [
    {
     "data": {
      "text/plain": [
       "array([[2, 3],\n",
       "       [8, 9],\n",
       "       [5, 6]])"
      ]
     },
     "execution_count": 47,
     "metadata": {},
     "output_type": "execute_result"
    }
   ],
   "source": [
    "np.concatenate((a1,a2),axis=0)  # row wise concatenate"
   ]
  },
  {
   "cell_type": "code",
   "execution_count": 48,
   "id": "68c45abd",
   "metadata": {},
   "outputs": [
    {
     "data": {
      "text/plain": [
       "array([[2, 3],\n",
       "       [8, 9],\n",
       "       [5, 6]])"
      ]
     },
     "execution_count": 48,
     "metadata": {},
     "output_type": "execute_result"
    }
   ],
   "source": [
    "np.concatenate((a1,a2))"
   ]
  },
  {
   "cell_type": "code",
   "execution_count": 49,
   "id": "30bea16d",
   "metadata": {},
   "outputs": [
    {
     "data": {
      "text/plain": [
       "array([[2, 3, 5],\n",
       "       [8, 9, 6]])"
      ]
     },
     "execution_count": 49,
     "metadata": {},
     "output_type": "execute_result"
    }
   ],
   "source": [
    "np.concatenate((a1,a2.T),axis=1)   # column wise concatenate"
   ]
  },
  {
   "cell_type": "code",
   "execution_count": 51,
   "id": "b0742bf5",
   "metadata": {},
   "outputs": [
    {
     "data": {
      "text/plain": [
       "array([[5, 6, 7],\n",
       "       [8, 4, 2]])"
      ]
     },
     "execution_count": 51,
     "metadata": {},
     "output_type": "execute_result"
    }
   ],
   "source": [
    "b1=np.array([5,6,7])\n",
    "b2=np.array([8,4,2])      # one diamension array hai to dono (stack)join hokar two diamension ban jayega\n",
    "np.stack((b1,b2))"
   ]
  },
  {
   "cell_type": "code",
   "execution_count": 54,
   "id": "e2f52b0a",
   "metadata": {},
   "outputs": [
    {
     "data": {
      "text/plain": [
       "array([[5, 6, 7],\n",
       "       [8, 4, 2]])"
      ]
     },
     "execution_count": 54,
     "metadata": {},
     "output_type": "execute_result"
    }
   ],
   "source": [
    "np.stack((b1,b2),axis=0)    # axis=0,row wise join"
   ]
  },
  {
   "cell_type": "code",
   "execution_count": 55,
   "id": "ea18443a",
   "metadata": {},
   "outputs": [
    {
     "data": {
      "text/plain": [
       "array([[5, 8],\n",
       "       [6, 4],\n",
       "       [7, 2]])"
      ]
     },
     "execution_count": 55,
     "metadata": {},
     "output_type": "execute_result"
    }
   ],
   "source": [
    "np.stack((b1,b2),axis=1)    # axis=1,column wise join"
   ]
  },
  {
   "cell_type": "code",
   "execution_count": 56,
   "id": "64e6531f",
   "metadata": {},
   "outputs": [
    {
     "data": {
      "text/plain": [
       "array([[5, 6, 7],\n",
       "       [8, 4, 2]])"
      ]
     },
     "execution_count": 56,
     "metadata": {},
     "output_type": "execute_result"
    }
   ],
   "source": [
    "np.vstack((b1,b2))"
   ]
  },
  {
   "cell_type": "code",
   "execution_count": 57,
   "id": "eb91b207",
   "metadata": {},
   "outputs": [
    {
     "data": {
      "text/plain": [
       "array([5, 6, 7, 8, 4, 2])"
      ]
     },
     "execution_count": 57,
     "metadata": {},
     "output_type": "execute_result"
    }
   ],
   "source": [
    "np.hstack((b1,b2))"
   ]
  },
  {
   "cell_type": "code",
   "execution_count": 58,
   "id": "81e1a82e",
   "metadata": {},
   "outputs": [
    {
     "data": {
      "text/plain": [
       "array([[6],\n",
       "       [8],\n",
       "       [9],\n",
       "       [4],\n",
       "       [2],\n",
       "       [3]])"
      ]
     },
     "execution_count": 58,
     "metadata": {},
     "output_type": "execute_result"
    }
   ],
   "source": [
    "c1=np.array([[6],[8],[9]])\n",
    "c2=np.array([[4],[2],[3]])\n",
    "np.vstack((c1,c2))"
   ]
  },
  {
   "cell_type": "code",
   "execution_count": 59,
   "id": "74243bfd",
   "metadata": {},
   "outputs": [
    {
     "data": {
      "text/plain": [
       "array([[6, 4],\n",
       "       [8, 2],\n",
       "       [9, 3]])"
      ]
     },
     "execution_count": 59,
     "metadata": {},
     "output_type": "execute_result"
    }
   ],
   "source": [
    "c1=np.array([[6],[8],[9]])\n",
    "c2=np.array([[4],[2],[3]])\n",
    "np.hstack((c1,c2))"
   ]
  },
  {
   "cell_type": "code",
   "execution_count": 60,
   "id": "c6d0fc55",
   "metadata": {},
   "outputs": [
    {
     "data": {
      "text/plain": [
       "array([[6],\n",
       "       [8],\n",
       "       [9]])"
      ]
     },
     "execution_count": 60,
     "metadata": {},
     "output_type": "execute_result"
    }
   ],
   "source": [
    "c1"
   ]
  },
  {
   "cell_type": "code",
   "execution_count": 61,
   "id": "7b44e991",
   "metadata": {},
   "outputs": [
    {
     "data": {
      "text/plain": [
       "array([[4],\n",
       "       [2],\n",
       "       [3]])"
      ]
     },
     "execution_count": 61,
     "metadata": {},
     "output_type": "execute_result"
    }
   ],
   "source": [
    "c2"
   ]
  },
  {
   "cell_type": "code",
   "execution_count": 62,
   "id": "e53462cf",
   "metadata": {},
   "outputs": [
    {
     "data": {
      "text/plain": [
       "array([[6, 4],\n",
       "       [8, 2],\n",
       "       [9, 3]])"
      ]
     },
     "execution_count": 62,
     "metadata": {},
     "output_type": "execute_result"
    }
   ],
   "source": [
    "np.column_stack((c1,c2))"
   ]
  },
  {
   "cell_type": "code",
   "execution_count": 63,
   "id": "d9247606",
   "metadata": {},
   "outputs": [
    {
     "data": {
      "text/plain": [
       "array([[6],\n",
       "       [8],\n",
       "       [9],\n",
       "       [4],\n",
       "       [2],\n",
       "       [3]])"
      ]
     },
     "execution_count": 63,
     "metadata": {},
     "output_type": "execute_result"
    }
   ],
   "source": [
    "np.row_stack((c1,c2))"
   ]
  },
  {
   "cell_type": "code",
   "execution_count": 1,
   "id": "5cbd7f2a",
   "metadata": {},
   "outputs": [],
   "source": [
    "import numpy as np"
   ]
  },
  {
   "cell_type": "code",
   "execution_count": 3,
   "id": "a9372c05",
   "metadata": {},
   "outputs": [],
   "source": [
    "a1=np.arange(20)"
   ]
  },
  {
   "cell_type": "code",
   "execution_count": 4,
   "id": "6f3004b1",
   "metadata": {},
   "outputs": [
    {
     "data": {
      "text/plain": [
       "array([ 0,  1,  2,  3,  4,  5,  6,  7,  8,  9, 10, 11, 12, 13, 14, 15, 16,\n",
       "       17, 18, 19])"
      ]
     },
     "execution_count": 4,
     "metadata": {},
     "output_type": "execute_result"
    }
   ],
   "source": [
    "a1"
   ]
  },
  {
   "cell_type": "code",
   "execution_count": 5,
   "id": "5ddfb3cd",
   "metadata": {},
   "outputs": [
    {
     "data": {
      "text/plain": [
       "[array([0, 1, 2, 3]),\n",
       " array([4, 5, 6, 7]),\n",
       " array([ 8,  9, 10, 11]),\n",
       " array([12, 13, 14, 15]),\n",
       " array([16, 17, 18, 19])]"
      ]
     },
     "execution_count": 5,
     "metadata": {},
     "output_type": "execute_result"
    }
   ],
   "source": [
    "np.split(a1,5)"
   ]
  },
  {
   "cell_type": "code",
   "execution_count": 6,
   "id": "499fdb55",
   "metadata": {},
   "outputs": [
    {
     "data": {
      "text/plain": [
       "[array([0, 1, 2, 3, 4, 5, 6, 7, 8, 9]),\n",
       " array([10, 11, 12, 13, 14, 15, 16, 17, 18, 19])]"
      ]
     },
     "execution_count": 6,
     "metadata": {},
     "output_type": "execute_result"
    }
   ],
   "source": [
    "np.split(a1,2)"
   ]
  },
  {
   "cell_type": "code",
   "execution_count": 8,
   "id": "d175afcf",
   "metadata": {},
   "outputs": [
    {
     "data": {
      "text/plain": [
       "[array([0, 1]),\n",
       " array([2, 3, 4]),\n",
       " array([5, 6]),\n",
       " array([ 7,  8,  9, 10, 11, 12, 13, 14, 15, 16, 17, 18, 19])]"
      ]
     },
     "execution_count": 8,
     "metadata": {},
     "output_type": "execute_result"
    }
   ],
   "source": [
    "np.split(a1,[2,5,7])  # pahle 2 element ka fir 3 element ka fir 2 element ka fir jo bach jayega uska array bana dega"
   ]
  },
  {
   "cell_type": "code",
   "execution_count": 10,
   "id": "f4eb9afd",
   "metadata": {},
   "outputs": [
    {
     "data": {
      "text/plain": [
       "[array([0, 1, 2, 3]),\n",
       " array([4, 5, 6, 7]),\n",
       " array([ 8,  9, 10]),\n",
       " array([11, 12, 13]),\n",
       " array([14, 15, 16]),\n",
       " array([17, 18, 19])]"
      ]
     },
     "execution_count": 10,
     "metadata": {},
     "output_type": "execute_result"
    }
   ],
   "source": [
    "np.array_split(a1,6)"
   ]
  },
  {
   "cell_type": "code",
   "execution_count": 11,
   "id": "7f21fdde",
   "metadata": {},
   "outputs": [],
   "source": [
    "a2=np.array([[2,3,4,5],[5,6,7,8],[1,5,4,8],[9,2,5,8]])"
   ]
  },
  {
   "cell_type": "code",
   "execution_count": 12,
   "id": "f9342027",
   "metadata": {},
   "outputs": [
    {
     "data": {
      "text/plain": [
       "array([[2, 3, 4, 5],\n",
       "       [5, 6, 7, 8],\n",
       "       [1, 5, 4, 8],\n",
       "       [9, 2, 5, 8]])"
      ]
     },
     "execution_count": 12,
     "metadata": {},
     "output_type": "execute_result"
    }
   ],
   "source": [
    "a2"
   ]
  },
  {
   "cell_type": "code",
   "execution_count": 14,
   "id": "3953c44d",
   "metadata": {},
   "outputs": [
    {
     "data": {
      "text/plain": [
       "[array([[2, 3],\n",
       "        [5, 6],\n",
       "        [1, 5],\n",
       "        [9, 2]]),\n",
       " array([[4, 5],\n",
       "        [7, 8],\n",
       "        [4, 8],\n",
       "        [5, 8]])]"
      ]
     },
     "execution_count": 14,
     "metadata": {},
     "output_type": "execute_result"
    }
   ],
   "source": [
    "np.hsplit(a2,2)  # column wise 2 part me horizontal split kar dega"
   ]
  },
  {
   "cell_type": "code",
   "execution_count": 16,
   "id": "1ef4c717",
   "metadata": {},
   "outputs": [
    {
     "data": {
      "text/plain": [
       "[array([[2, 3, 4, 5],\n",
       "        [5, 6, 7, 8]]),\n",
       " array([[1, 5, 4, 8],\n",
       "        [9, 2, 5, 8]])]"
      ]
     },
     "execution_count": 16,
     "metadata": {},
     "output_type": "execute_result"
    }
   ],
   "source": [
    "np.vsplit(a2,2)    # row wise vertically 2 part me divide kar dega"
   ]
  },
  {
   "cell_type": "code",
   "execution_count": 18,
   "id": "2027869c",
   "metadata": {},
   "outputs": [
    {
     "data": {
      "text/plain": [
       "[array([[2, 3],\n",
       "        [5, 6],\n",
       "        [1, 5],\n",
       "        [9, 2]]),\n",
       " array([[4],\n",
       "        [7],\n",
       "        [4],\n",
       "        [5]]),\n",
       " array([[5],\n",
       "        [8],\n",
       "        [8],\n",
       "        [8]])]"
      ]
     },
     "execution_count": 18,
     "metadata": {},
     "output_type": "execute_result"
    }
   ],
   "source": [
    "np.hsplit(a2,np.array([2,3]))  # pahle 2 column ko horizontaly print kar diya and 2+1=3 matlab 3rd column and 4th column ko"
   ]
  },
  {
   "cell_type": "code",
   "execution_count": 2,
   "id": "72f89f64",
   "metadata": {},
   "outputs": [],
   "source": [
    "import numpy as np"
   ]
  },
  {
   "cell_type": "code",
   "execution_count": 3,
   "id": "9075027b",
   "metadata": {},
   "outputs": [],
   "source": [
    "a1=np.array([[12,34,56],[67,54,12]])"
   ]
  },
  {
   "cell_type": "code",
   "execution_count": 4,
   "id": "b8aa49e4",
   "metadata": {},
   "outputs": [
    {
     "data": {
      "text/plain": [
       "array([[12, 34, 56],\n",
       "       [67, 54, 12]])"
      ]
     },
     "execution_count": 4,
     "metadata": {},
     "output_type": "execute_result"
    }
   ],
   "source": [
    "a1"
   ]
  },
  {
   "cell_type": "code",
   "execution_count": 5,
   "id": "e7d0a07e",
   "metadata": {},
   "outputs": [
    {
     "data": {
      "text/plain": [
       "3"
      ]
     },
     "execution_count": 5,
     "metadata": {},
     "output_type": "execute_result"
    }
   ],
   "source": [
    "#argmax()\n",
    "np.argmax(a1)"
   ]
  },
  {
   "cell_type": "code",
   "execution_count": 17,
   "id": "151f7823",
   "metadata": {},
   "outputs": [
    {
     "data": {
      "text/plain": [
       "array([1, 1, 0], dtype=int64)"
      ]
     },
     "execution_count": 17,
     "metadata": {},
     "output_type": "execute_result"
    }
   ],
   "source": [
    "np.argmax(a1,axis=0)   # verticaly dekhega har ek column ko dekhega ki sabse bada element kis row me hai us row ka index index me hai"
   ]
  },
  {
   "cell_type": "code",
   "execution_count": 18,
   "id": "da9d2545",
   "metadata": {},
   "outputs": [
    {
     "data": {
      "text/plain": [
       "array([2, 0], dtype=int64)"
      ]
     },
     "execution_count": 18,
     "metadata": {},
     "output_type": "execute_result"
    }
   ],
   "source": [
    "np.argmax(a1,axis=1)   # har horizontal row ko dekhega ki sabse bada  element kon se column index number me hai"
   ]
  },
  {
   "cell_type": "code",
   "execution_count": 10,
   "id": "4bf47e22",
   "metadata": {},
   "outputs": [
    {
     "data": {
      "text/plain": [
       "array([[12, 34, 56],\n",
       "       [67, 54, 12]])"
      ]
     },
     "execution_count": 10,
     "metadata": {},
     "output_type": "execute_result"
    }
   ],
   "source": [
    "a1"
   ]
  },
  {
   "cell_type": "code",
   "execution_count": 23,
   "id": "32a43225",
   "metadata": {},
   "outputs": [
    {
     "data": {
      "text/plain": [
       "array([0, 0, 1], dtype=int64)"
      ]
     },
     "execution_count": 23,
     "metadata": {},
     "output_type": "execute_result"
    }
   ],
   "source": [
    "np.argmin(a1,axis=0) # verticaly check hoga aur requirment ke anusar us row ka index likh dega"
   ]
  },
  {
   "cell_type": "code",
   "execution_count": 24,
   "id": "cdb4b831",
   "metadata": {},
   "outputs": [
    {
     "data": {
      "text/plain": [
       "array([0, 2], dtype=int64)"
      ]
     },
     "execution_count": 24,
     "metadata": {},
     "output_type": "execute_result"
    }
   ],
   "source": [
    "np.argmin(a1,axis=1) # horizontaly check hoga aur requirement ke sath us column ka index print hoga"
   ]
  },
  {
   "cell_type": "code",
   "execution_count": 19,
   "id": "cb2c0791",
   "metadata": {},
   "outputs": [],
   "source": [
    "a2=np.array([1,9,3,8,5,2,7,6,4])"
   ]
  },
  {
   "cell_type": "code",
   "execution_count": 22,
   "id": "68aeb4ae",
   "metadata": {},
   "outputs": [
    {
     "data": {
      "text/plain": [
       "array([0, 5, 2, 8, 4, 7, 6, 3, 1], dtype=int64)"
      ]
     },
     "execution_count": 22,
     "metadata": {},
     "output_type": "execute_result"
    }
   ],
   "source": [
    "np.argsort(a2) # minimum number ko uske index me covert karke batayega"
   ]
  },
  {
   "cell_type": "markdown",
   "id": "56290cfa",
   "metadata": {},
   "source": [
    "PANDAS READING"
   ]
  },
  {
   "cell_type": "code",
   "execution_count": 1,
   "id": "2b707cf5",
   "metadata": {},
   "outputs": [],
   "source": [
    "import pandas as pd"
   ]
  },
  {
   "cell_type": "code",
   "execution_count": 2,
   "id": "eb1b8ba8",
   "metadata": {},
   "outputs": [],
   "source": [
    "data=pd.read_csv('covid_dataset.csv')"
   ]
  },
  {
   "cell_type": "code",
   "execution_count": 3,
   "id": "54348b42",
   "metadata": {},
   "outputs": [
    {
     "data": {
      "text/html": [
       "<div>\n",
       "<style scoped>\n",
       "    .dataframe tbody tr th:only-of-type {\n",
       "        vertical-align: middle;\n",
       "    }\n",
       "\n",
       "    .dataframe tbody tr th {\n",
       "        vertical-align: top;\n",
       "    }\n",
       "\n",
       "    .dataframe thead th {\n",
       "        text-align: right;\n",
       "    }\n",
       "</style>\n",
       "<table border=\"1\" class=\"dataframe\">\n",
       "  <thead>\n",
       "    <tr style=\"text-align: right;\">\n",
       "      <th></th>\n",
       "      <th>Country/Region</th>\n",
       "      <th>Confirmed</th>\n",
       "      <th>Deaths</th>\n",
       "      <th>Recovered</th>\n",
       "      <th>Active</th>\n",
       "      <th>New cases</th>\n",
       "      <th>New deaths</th>\n",
       "      <th>New recovered</th>\n",
       "      <th>Deaths / 100 Cases</th>\n",
       "      <th>Recovered / 100 Cases</th>\n",
       "      <th>Deaths / 100 Recovered</th>\n",
       "      <th>Confirmed last week</th>\n",
       "      <th>1 week change</th>\n",
       "      <th>1 week % increase</th>\n",
       "      <th>WHO Region</th>\n",
       "    </tr>\n",
       "  </thead>\n",
       "  <tbody>\n",
       "    <tr>\n",
       "      <th>0</th>\n",
       "      <td>Afghanistan</td>\n",
       "      <td>36263</td>\n",
       "      <td>1269</td>\n",
       "      <td>25198</td>\n",
       "      <td>9796</td>\n",
       "      <td>106</td>\n",
       "      <td>10</td>\n",
       "      <td>18</td>\n",
       "      <td>3.50</td>\n",
       "      <td>69.49</td>\n",
       "      <td>5.04</td>\n",
       "      <td>35526</td>\n",
       "      <td>737</td>\n",
       "      <td>2.07</td>\n",
       "      <td>Eastern Mediterranean</td>\n",
       "    </tr>\n",
       "    <tr>\n",
       "      <th>1</th>\n",
       "      <td>Albania</td>\n",
       "      <td>4880</td>\n",
       "      <td>144</td>\n",
       "      <td>2745</td>\n",
       "      <td>1991</td>\n",
       "      <td>117</td>\n",
       "      <td>6</td>\n",
       "      <td>63</td>\n",
       "      <td>2.95</td>\n",
       "      <td>56.25</td>\n",
       "      <td>5.25</td>\n",
       "      <td>4171</td>\n",
       "      <td>709</td>\n",
       "      <td>17.00</td>\n",
       "      <td>Europe</td>\n",
       "    </tr>\n",
       "    <tr>\n",
       "      <th>2</th>\n",
       "      <td>Algeria</td>\n",
       "      <td>27973</td>\n",
       "      <td>1163</td>\n",
       "      <td>18837</td>\n",
       "      <td>7973</td>\n",
       "      <td>616</td>\n",
       "      <td>8</td>\n",
       "      <td>749</td>\n",
       "      <td>4.16</td>\n",
       "      <td>67.34</td>\n",
       "      <td>6.17</td>\n",
       "      <td>23691</td>\n",
       "      <td>4282</td>\n",
       "      <td>18.07</td>\n",
       "      <td>Africa</td>\n",
       "    </tr>\n",
       "    <tr>\n",
       "      <th>3</th>\n",
       "      <td>Andorra</td>\n",
       "      <td>907</td>\n",
       "      <td>52</td>\n",
       "      <td>803</td>\n",
       "      <td>52</td>\n",
       "      <td>10</td>\n",
       "      <td>0</td>\n",
       "      <td>0</td>\n",
       "      <td>5.73</td>\n",
       "      <td>88.53</td>\n",
       "      <td>6.48</td>\n",
       "      <td>884</td>\n",
       "      <td>23</td>\n",
       "      <td>2.60</td>\n",
       "      <td>Europe</td>\n",
       "    </tr>\n",
       "    <tr>\n",
       "      <th>4</th>\n",
       "      <td>Angola</td>\n",
       "      <td>950</td>\n",
       "      <td>41</td>\n",
       "      <td>242</td>\n",
       "      <td>667</td>\n",
       "      <td>18</td>\n",
       "      <td>1</td>\n",
       "      <td>0</td>\n",
       "      <td>4.32</td>\n",
       "      <td>25.47</td>\n",
       "      <td>16.94</td>\n",
       "      <td>749</td>\n",
       "      <td>201</td>\n",
       "      <td>26.84</td>\n",
       "      <td>Africa</td>\n",
       "    </tr>\n",
       "    <tr>\n",
       "      <th>...</th>\n",
       "      <td>...</td>\n",
       "      <td>...</td>\n",
       "      <td>...</td>\n",
       "      <td>...</td>\n",
       "      <td>...</td>\n",
       "      <td>...</td>\n",
       "      <td>...</td>\n",
       "      <td>...</td>\n",
       "      <td>...</td>\n",
       "      <td>...</td>\n",
       "      <td>...</td>\n",
       "      <td>...</td>\n",
       "      <td>...</td>\n",
       "      <td>...</td>\n",
       "      <td>...</td>\n",
       "    </tr>\n",
       "    <tr>\n",
       "      <th>182</th>\n",
       "      <td>West Bank and Gaza</td>\n",
       "      <td>10621</td>\n",
       "      <td>78</td>\n",
       "      <td>3752</td>\n",
       "      <td>6791</td>\n",
       "      <td>152</td>\n",
       "      <td>2</td>\n",
       "      <td>0</td>\n",
       "      <td>0.73</td>\n",
       "      <td>35.33</td>\n",
       "      <td>2.08</td>\n",
       "      <td>8916</td>\n",
       "      <td>1705</td>\n",
       "      <td>19.12</td>\n",
       "      <td>Eastern Mediterranean</td>\n",
       "    </tr>\n",
       "    <tr>\n",
       "      <th>183</th>\n",
       "      <td>Western Sahara</td>\n",
       "      <td>10</td>\n",
       "      <td>1</td>\n",
       "      <td>8</td>\n",
       "      <td>1</td>\n",
       "      <td>0</td>\n",
       "      <td>0</td>\n",
       "      <td>0</td>\n",
       "      <td>10.00</td>\n",
       "      <td>80.00</td>\n",
       "      <td>12.50</td>\n",
       "      <td>10</td>\n",
       "      <td>0</td>\n",
       "      <td>0.00</td>\n",
       "      <td>Africa</td>\n",
       "    </tr>\n",
       "    <tr>\n",
       "      <th>184</th>\n",
       "      <td>Yemen</td>\n",
       "      <td>1691</td>\n",
       "      <td>483</td>\n",
       "      <td>833</td>\n",
       "      <td>375</td>\n",
       "      <td>10</td>\n",
       "      <td>4</td>\n",
       "      <td>36</td>\n",
       "      <td>28.56</td>\n",
       "      <td>49.26</td>\n",
       "      <td>57.98</td>\n",
       "      <td>1619</td>\n",
       "      <td>72</td>\n",
       "      <td>4.45</td>\n",
       "      <td>Eastern Mediterranean</td>\n",
       "    </tr>\n",
       "    <tr>\n",
       "      <th>185</th>\n",
       "      <td>Zambia</td>\n",
       "      <td>4552</td>\n",
       "      <td>140</td>\n",
       "      <td>2815</td>\n",
       "      <td>1597</td>\n",
       "      <td>71</td>\n",
       "      <td>1</td>\n",
       "      <td>465</td>\n",
       "      <td>3.08</td>\n",
       "      <td>61.84</td>\n",
       "      <td>4.97</td>\n",
       "      <td>3326</td>\n",
       "      <td>1226</td>\n",
       "      <td>36.86</td>\n",
       "      <td>Africa</td>\n",
       "    </tr>\n",
       "    <tr>\n",
       "      <th>186</th>\n",
       "      <td>Zimbabwe</td>\n",
       "      <td>2704</td>\n",
       "      <td>36</td>\n",
       "      <td>542</td>\n",
       "      <td>2126</td>\n",
       "      <td>192</td>\n",
       "      <td>2</td>\n",
       "      <td>24</td>\n",
       "      <td>1.33</td>\n",
       "      <td>20.04</td>\n",
       "      <td>6.64</td>\n",
       "      <td>1713</td>\n",
       "      <td>991</td>\n",
       "      <td>57.85</td>\n",
       "      <td>Africa</td>\n",
       "    </tr>\n",
       "  </tbody>\n",
       "</table>\n",
       "<p>187 rows × 15 columns</p>\n",
       "</div>"
      ],
      "text/plain": [
       "         Country/Region  Confirmed  Deaths  Recovered  Active  New cases  \\\n",
       "0           Afghanistan      36263    1269      25198    9796        106   \n",
       "1               Albania       4880     144       2745    1991        117   \n",
       "2               Algeria      27973    1163      18837    7973        616   \n",
       "3               Andorra        907      52        803      52         10   \n",
       "4                Angola        950      41        242     667         18   \n",
       "..                  ...        ...     ...        ...     ...        ...   \n",
       "182  West Bank and Gaza      10621      78       3752    6791        152   \n",
       "183      Western Sahara         10       1          8       1          0   \n",
       "184               Yemen       1691     483        833     375         10   \n",
       "185              Zambia       4552     140       2815    1597         71   \n",
       "186            Zimbabwe       2704      36        542    2126        192   \n",
       "\n",
       "     New deaths  New recovered  Deaths / 100 Cases  Recovered / 100 Cases  \\\n",
       "0            10             18                3.50                  69.49   \n",
       "1             6             63                2.95                  56.25   \n",
       "2             8            749                4.16                  67.34   \n",
       "3             0              0                5.73                  88.53   \n",
       "4             1              0                4.32                  25.47   \n",
       "..          ...            ...                 ...                    ...   \n",
       "182           2              0                0.73                  35.33   \n",
       "183           0              0               10.00                  80.00   \n",
       "184           4             36               28.56                  49.26   \n",
       "185           1            465                3.08                  61.84   \n",
       "186           2             24                1.33                  20.04   \n",
       "\n",
       "     Deaths / 100 Recovered  Confirmed last week  1 week change  \\\n",
       "0                      5.04                35526            737   \n",
       "1                      5.25                 4171            709   \n",
       "2                      6.17                23691           4282   \n",
       "3                      6.48                  884             23   \n",
       "4                     16.94                  749            201   \n",
       "..                      ...                  ...            ...   \n",
       "182                    2.08                 8916           1705   \n",
       "183                   12.50                   10              0   \n",
       "184                   57.98                 1619             72   \n",
       "185                    4.97                 3326           1226   \n",
       "186                    6.64                 1713            991   \n",
       "\n",
       "     1 week % increase             WHO Region  \n",
       "0                 2.07  Eastern Mediterranean  \n",
       "1                17.00                 Europe  \n",
       "2                18.07                 Africa  \n",
       "3                 2.60                 Europe  \n",
       "4                26.84                 Africa  \n",
       "..                 ...                    ...  \n",
       "182              19.12  Eastern Mediterranean  \n",
       "183               0.00                 Africa  \n",
       "184               4.45  Eastern Mediterranean  \n",
       "185              36.86                 Africa  \n",
       "186              57.85                 Africa  \n",
       "\n",
       "[187 rows x 15 columns]"
      ]
     },
     "execution_count": 3,
     "metadata": {},
     "output_type": "execute_result"
    }
   ],
   "source": [
    "data"
   ]
  },
  {
   "cell_type": "code",
   "execution_count": 4,
   "id": "73d8bc48",
   "metadata": {},
   "outputs": [
    {
     "data": {
      "text/plain": [
       "pandas.core.frame.DataFrame"
      ]
     },
     "execution_count": 4,
     "metadata": {},
     "output_type": "execute_result"
    }
   ],
   "source": [
    "type(data)"
   ]
  },
  {
   "cell_type": "code",
   "execution_count": 5,
   "id": "c1dc90f8",
   "metadata": {},
   "outputs": [
    {
     "data": {
      "text/html": [
       "<div>\n",
       "<style scoped>\n",
       "    .dataframe tbody tr th:only-of-type {\n",
       "        vertical-align: middle;\n",
       "    }\n",
       "\n",
       "    .dataframe tbody tr th {\n",
       "        vertical-align: top;\n",
       "    }\n",
       "\n",
       "    .dataframe thead th {\n",
       "        text-align: right;\n",
       "    }\n",
       "</style>\n",
       "<table border=\"1\" class=\"dataframe\">\n",
       "  <thead>\n",
       "    <tr style=\"text-align: right;\">\n",
       "      <th></th>\n",
       "      <th>Country/Region</th>\n",
       "      <th>Confirmed</th>\n",
       "      <th>Deaths</th>\n",
       "      <th>Recovered</th>\n",
       "      <th>Active</th>\n",
       "      <th>New cases</th>\n",
       "      <th>New deaths</th>\n",
       "      <th>New recovered</th>\n",
       "      <th>Deaths / 100 Cases</th>\n",
       "      <th>Recovered / 100 Cases</th>\n",
       "      <th>Deaths / 100 Recovered</th>\n",
       "      <th>Confirmed last week</th>\n",
       "      <th>1 week change</th>\n",
       "      <th>1 week % increase</th>\n",
       "      <th>WHO Region</th>\n",
       "    </tr>\n",
       "  </thead>\n",
       "  <tbody>\n",
       "    <tr>\n",
       "      <th>0</th>\n",
       "      <td>Afghanistan</td>\n",
       "      <td>36263</td>\n",
       "      <td>1269</td>\n",
       "      <td>25198</td>\n",
       "      <td>9796</td>\n",
       "      <td>106</td>\n",
       "      <td>10</td>\n",
       "      <td>18</td>\n",
       "      <td>3.50</td>\n",
       "      <td>69.49</td>\n",
       "      <td>5.04</td>\n",
       "      <td>35526</td>\n",
       "      <td>737</td>\n",
       "      <td>2.07</td>\n",
       "      <td>Eastern Mediterranean</td>\n",
       "    </tr>\n",
       "    <tr>\n",
       "      <th>1</th>\n",
       "      <td>Albania</td>\n",
       "      <td>4880</td>\n",
       "      <td>144</td>\n",
       "      <td>2745</td>\n",
       "      <td>1991</td>\n",
       "      <td>117</td>\n",
       "      <td>6</td>\n",
       "      <td>63</td>\n",
       "      <td>2.95</td>\n",
       "      <td>56.25</td>\n",
       "      <td>5.25</td>\n",
       "      <td>4171</td>\n",
       "      <td>709</td>\n",
       "      <td>17.00</td>\n",
       "      <td>Europe</td>\n",
       "    </tr>\n",
       "    <tr>\n",
       "      <th>2</th>\n",
       "      <td>Algeria</td>\n",
       "      <td>27973</td>\n",
       "      <td>1163</td>\n",
       "      <td>18837</td>\n",
       "      <td>7973</td>\n",
       "      <td>616</td>\n",
       "      <td>8</td>\n",
       "      <td>749</td>\n",
       "      <td>4.16</td>\n",
       "      <td>67.34</td>\n",
       "      <td>6.17</td>\n",
       "      <td>23691</td>\n",
       "      <td>4282</td>\n",
       "      <td>18.07</td>\n",
       "      <td>Africa</td>\n",
       "    </tr>\n",
       "    <tr>\n",
       "      <th>3</th>\n",
       "      <td>Andorra</td>\n",
       "      <td>907</td>\n",
       "      <td>52</td>\n",
       "      <td>803</td>\n",
       "      <td>52</td>\n",
       "      <td>10</td>\n",
       "      <td>0</td>\n",
       "      <td>0</td>\n",
       "      <td>5.73</td>\n",
       "      <td>88.53</td>\n",
       "      <td>6.48</td>\n",
       "      <td>884</td>\n",
       "      <td>23</td>\n",
       "      <td>2.60</td>\n",
       "      <td>Europe</td>\n",
       "    </tr>\n",
       "    <tr>\n",
       "      <th>4</th>\n",
       "      <td>Angola</td>\n",
       "      <td>950</td>\n",
       "      <td>41</td>\n",
       "      <td>242</td>\n",
       "      <td>667</td>\n",
       "      <td>18</td>\n",
       "      <td>1</td>\n",
       "      <td>0</td>\n",
       "      <td>4.32</td>\n",
       "      <td>25.47</td>\n",
       "      <td>16.94</td>\n",
       "      <td>749</td>\n",
       "      <td>201</td>\n",
       "      <td>26.84</td>\n",
       "      <td>Africa</td>\n",
       "    </tr>\n",
       "  </tbody>\n",
       "</table>\n",
       "</div>"
      ],
      "text/plain": [
       "  Country/Region  Confirmed  Deaths  Recovered  Active  New cases  New deaths  \\\n",
       "0    Afghanistan      36263    1269      25198    9796        106          10   \n",
       "1        Albania       4880     144       2745    1991        117           6   \n",
       "2        Algeria      27973    1163      18837    7973        616           8   \n",
       "3        Andorra        907      52        803      52         10           0   \n",
       "4         Angola        950      41        242     667         18           1   \n",
       "\n",
       "   New recovered  Deaths / 100 Cases  Recovered / 100 Cases  \\\n",
       "0             18                3.50                  69.49   \n",
       "1             63                2.95                  56.25   \n",
       "2            749                4.16                  67.34   \n",
       "3              0                5.73                  88.53   \n",
       "4              0                4.32                  25.47   \n",
       "\n",
       "   Deaths / 100 Recovered  Confirmed last week  1 week change  \\\n",
       "0                    5.04                35526            737   \n",
       "1                    5.25                 4171            709   \n",
       "2                    6.17                23691           4282   \n",
       "3                    6.48                  884             23   \n",
       "4                   16.94                  749            201   \n",
       "\n",
       "   1 week % increase             WHO Region  \n",
       "0               2.07  Eastern Mediterranean  \n",
       "1              17.00                 Europe  \n",
       "2              18.07                 Africa  \n",
       "3               2.60                 Europe  \n",
       "4              26.84                 Africa  "
      ]
     },
     "execution_count": 5,
     "metadata": {},
     "output_type": "execute_result"
    }
   ],
   "source": [
    "data.head(5)"
   ]
  },
  {
   "cell_type": "markdown",
   "id": "5c149e11",
   "metadata": {},
   "source": [
    " read pandas excel file\n",
    " \n",
    " data=pd.read_excel('iris.xlsx')"
   ]
  },
  {
   "cell_type": "code",
   "execution_count": 7,
   "id": "5e831c18",
   "metadata": {},
   "outputs": [],
   "source": [
    "pd.set_option(\"display.max_rows\",None,\"display.max_columns\",None)"
   ]
  },
  {
   "cell_type": "code",
   "execution_count": 8,
   "id": "988424af",
   "metadata": {},
   "outputs": [
    {
     "data": {
      "text/html": [
       "<div>\n",
       "<style scoped>\n",
       "    .dataframe tbody tr th:only-of-type {\n",
       "        vertical-align: middle;\n",
       "    }\n",
       "\n",
       "    .dataframe tbody tr th {\n",
       "        vertical-align: top;\n",
       "    }\n",
       "\n",
       "    .dataframe thead th {\n",
       "        text-align: right;\n",
       "    }\n",
       "</style>\n",
       "<table border=\"1\" class=\"dataframe\">\n",
       "  <thead>\n",
       "    <tr style=\"text-align: right;\">\n",
       "      <th></th>\n",
       "      <th>Country/Region</th>\n",
       "      <th>Confirmed</th>\n",
       "      <th>Deaths</th>\n",
       "      <th>Recovered</th>\n",
       "      <th>Active</th>\n",
       "      <th>New cases</th>\n",
       "      <th>New deaths</th>\n",
       "      <th>New recovered</th>\n",
       "      <th>Deaths / 100 Cases</th>\n",
       "      <th>Recovered / 100 Cases</th>\n",
       "      <th>Deaths / 100 Recovered</th>\n",
       "      <th>Confirmed last week</th>\n",
       "      <th>1 week change</th>\n",
       "      <th>1 week % increase</th>\n",
       "      <th>WHO Region</th>\n",
       "    </tr>\n",
       "  </thead>\n",
       "  <tbody>\n",
       "    <tr>\n",
       "      <th>0</th>\n",
       "      <td>Afghanistan</td>\n",
       "      <td>36263</td>\n",
       "      <td>1269</td>\n",
       "      <td>25198</td>\n",
       "      <td>9796</td>\n",
       "      <td>106</td>\n",
       "      <td>10</td>\n",
       "      <td>18</td>\n",
       "      <td>3.50</td>\n",
       "      <td>69.49</td>\n",
       "      <td>5.04</td>\n",
       "      <td>35526</td>\n",
       "      <td>737</td>\n",
       "      <td>2.07</td>\n",
       "      <td>Eastern Mediterranean</td>\n",
       "    </tr>\n",
       "    <tr>\n",
       "      <th>1</th>\n",
       "      <td>Albania</td>\n",
       "      <td>4880</td>\n",
       "      <td>144</td>\n",
       "      <td>2745</td>\n",
       "      <td>1991</td>\n",
       "      <td>117</td>\n",
       "      <td>6</td>\n",
       "      <td>63</td>\n",
       "      <td>2.95</td>\n",
       "      <td>56.25</td>\n",
       "      <td>5.25</td>\n",
       "      <td>4171</td>\n",
       "      <td>709</td>\n",
       "      <td>17.00</td>\n",
       "      <td>Europe</td>\n",
       "    </tr>\n",
       "    <tr>\n",
       "      <th>2</th>\n",
       "      <td>Algeria</td>\n",
       "      <td>27973</td>\n",
       "      <td>1163</td>\n",
       "      <td>18837</td>\n",
       "      <td>7973</td>\n",
       "      <td>616</td>\n",
       "      <td>8</td>\n",
       "      <td>749</td>\n",
       "      <td>4.16</td>\n",
       "      <td>67.34</td>\n",
       "      <td>6.17</td>\n",
       "      <td>23691</td>\n",
       "      <td>4282</td>\n",
       "      <td>18.07</td>\n",
       "      <td>Africa</td>\n",
       "    </tr>\n",
       "    <tr>\n",
       "      <th>3</th>\n",
       "      <td>Andorra</td>\n",
       "      <td>907</td>\n",
       "      <td>52</td>\n",
       "      <td>803</td>\n",
       "      <td>52</td>\n",
       "      <td>10</td>\n",
       "      <td>0</td>\n",
       "      <td>0</td>\n",
       "      <td>5.73</td>\n",
       "      <td>88.53</td>\n",
       "      <td>6.48</td>\n",
       "      <td>884</td>\n",
       "      <td>23</td>\n",
       "      <td>2.60</td>\n",
       "      <td>Europe</td>\n",
       "    </tr>\n",
       "    <tr>\n",
       "      <th>4</th>\n",
       "      <td>Angola</td>\n",
       "      <td>950</td>\n",
       "      <td>41</td>\n",
       "      <td>242</td>\n",
       "      <td>667</td>\n",
       "      <td>18</td>\n",
       "      <td>1</td>\n",
       "      <td>0</td>\n",
       "      <td>4.32</td>\n",
       "      <td>25.47</td>\n",
       "      <td>16.94</td>\n",
       "      <td>749</td>\n",
       "      <td>201</td>\n",
       "      <td>26.84</td>\n",
       "      <td>Africa</td>\n",
       "    </tr>\n",
       "    <tr>\n",
       "      <th>5</th>\n",
       "      <td>Antigua and Barbuda</td>\n",
       "      <td>86</td>\n",
       "      <td>3</td>\n",
       "      <td>65</td>\n",
       "      <td>18</td>\n",
       "      <td>4</td>\n",
       "      <td>0</td>\n",
       "      <td>5</td>\n",
       "      <td>3.49</td>\n",
       "      <td>75.58</td>\n",
       "      <td>4.62</td>\n",
       "      <td>76</td>\n",
       "      <td>10</td>\n",
       "      <td>13.16</td>\n",
       "      <td>Americas</td>\n",
       "    </tr>\n",
       "    <tr>\n",
       "      <th>6</th>\n",
       "      <td>Argentina</td>\n",
       "      <td>167416</td>\n",
       "      <td>3059</td>\n",
       "      <td>72575</td>\n",
       "      <td>91782</td>\n",
       "      <td>4890</td>\n",
       "      <td>120</td>\n",
       "      <td>2057</td>\n",
       "      <td>1.83</td>\n",
       "      <td>43.35</td>\n",
       "      <td>4.21</td>\n",
       "      <td>130774</td>\n",
       "      <td>36642</td>\n",
       "      <td>28.02</td>\n",
       "      <td>Americas</td>\n",
       "    </tr>\n",
       "    <tr>\n",
       "      <th>7</th>\n",
       "      <td>Armenia</td>\n",
       "      <td>37390</td>\n",
       "      <td>711</td>\n",
       "      <td>26665</td>\n",
       "      <td>10014</td>\n",
       "      <td>73</td>\n",
       "      <td>6</td>\n",
       "      <td>187</td>\n",
       "      <td>1.90</td>\n",
       "      <td>71.32</td>\n",
       "      <td>2.67</td>\n",
       "      <td>34981</td>\n",
       "      <td>2409</td>\n",
       "      <td>6.89</td>\n",
       "      <td>Europe</td>\n",
       "    </tr>\n",
       "    <tr>\n",
       "      <th>8</th>\n",
       "      <td>Australia</td>\n",
       "      <td>15303</td>\n",
       "      <td>167</td>\n",
       "      <td>9311</td>\n",
       "      <td>5825</td>\n",
       "      <td>368</td>\n",
       "      <td>6</td>\n",
       "      <td>137</td>\n",
       "      <td>1.09</td>\n",
       "      <td>60.84</td>\n",
       "      <td>1.79</td>\n",
       "      <td>12428</td>\n",
       "      <td>2875</td>\n",
       "      <td>23.13</td>\n",
       "      <td>Western Pacific</td>\n",
       "    </tr>\n",
       "    <tr>\n",
       "      <th>9</th>\n",
       "      <td>Austria</td>\n",
       "      <td>20558</td>\n",
       "      <td>713</td>\n",
       "      <td>18246</td>\n",
       "      <td>1599</td>\n",
       "      <td>86</td>\n",
       "      <td>1</td>\n",
       "      <td>37</td>\n",
       "      <td>3.47</td>\n",
       "      <td>88.75</td>\n",
       "      <td>3.91</td>\n",
       "      <td>19743</td>\n",
       "      <td>815</td>\n",
       "      <td>4.13</td>\n",
       "      <td>Europe</td>\n",
       "    </tr>\n",
       "    <tr>\n",
       "      <th>10</th>\n",
       "      <td>Azerbaijan</td>\n",
       "      <td>30446</td>\n",
       "      <td>423</td>\n",
       "      <td>23242</td>\n",
       "      <td>6781</td>\n",
       "      <td>396</td>\n",
       "      <td>6</td>\n",
       "      <td>558</td>\n",
       "      <td>1.39</td>\n",
       "      <td>76.34</td>\n",
       "      <td>1.82</td>\n",
       "      <td>27890</td>\n",
       "      <td>2556</td>\n",
       "      <td>9.16</td>\n",
       "      <td>Europe</td>\n",
       "    </tr>\n",
       "    <tr>\n",
       "      <th>11</th>\n",
       "      <td>Bahamas</td>\n",
       "      <td>382</td>\n",
       "      <td>11</td>\n",
       "      <td>91</td>\n",
       "      <td>280</td>\n",
       "      <td>40</td>\n",
       "      <td>0</td>\n",
       "      <td>0</td>\n",
       "      <td>2.88</td>\n",
       "      <td>23.82</td>\n",
       "      <td>12.09</td>\n",
       "      <td>174</td>\n",
       "      <td>208</td>\n",
       "      <td>119.54</td>\n",
       "      <td>Americas</td>\n",
       "    </tr>\n",
       "    <tr>\n",
       "      <th>12</th>\n",
       "      <td>Bahrain</td>\n",
       "      <td>39482</td>\n",
       "      <td>141</td>\n",
       "      <td>36110</td>\n",
       "      <td>3231</td>\n",
       "      <td>351</td>\n",
       "      <td>1</td>\n",
       "      <td>421</td>\n",
       "      <td>0.36</td>\n",
       "      <td>91.46</td>\n",
       "      <td>0.39</td>\n",
       "      <td>36936</td>\n",
       "      <td>2546</td>\n",
       "      <td>6.89</td>\n",
       "      <td>Eastern Mediterranean</td>\n",
       "    </tr>\n",
       "    <tr>\n",
       "      <th>13</th>\n",
       "      <td>Bangladesh</td>\n",
       "      <td>226225</td>\n",
       "      <td>2965</td>\n",
       "      <td>125683</td>\n",
       "      <td>97577</td>\n",
       "      <td>2772</td>\n",
       "      <td>37</td>\n",
       "      <td>1801</td>\n",
       "      <td>1.31</td>\n",
       "      <td>55.56</td>\n",
       "      <td>2.36</td>\n",
       "      <td>207453</td>\n",
       "      <td>18772</td>\n",
       "      <td>9.05</td>\n",
       "      <td>South-East Asia</td>\n",
       "    </tr>\n",
       "    <tr>\n",
       "      <th>14</th>\n",
       "      <td>Barbados</td>\n",
       "      <td>110</td>\n",
       "      <td>7</td>\n",
       "      <td>94</td>\n",
       "      <td>9</td>\n",
       "      <td>0</td>\n",
       "      <td>0</td>\n",
       "      <td>0</td>\n",
       "      <td>6.36</td>\n",
       "      <td>85.45</td>\n",
       "      <td>7.45</td>\n",
       "      <td>106</td>\n",
       "      <td>4</td>\n",
       "      <td>3.77</td>\n",
       "      <td>Americas</td>\n",
       "    </tr>\n",
       "    <tr>\n",
       "      <th>15</th>\n",
       "      <td>Belarus</td>\n",
       "      <td>67251</td>\n",
       "      <td>538</td>\n",
       "      <td>60492</td>\n",
       "      <td>6221</td>\n",
       "      <td>119</td>\n",
       "      <td>4</td>\n",
       "      <td>67</td>\n",
       "      <td>0.80</td>\n",
       "      <td>89.95</td>\n",
       "      <td>0.89</td>\n",
       "      <td>66213</td>\n",
       "      <td>1038</td>\n",
       "      <td>1.57</td>\n",
       "      <td>Europe</td>\n",
       "    </tr>\n",
       "    <tr>\n",
       "      <th>16</th>\n",
       "      <td>Belgium</td>\n",
       "      <td>66428</td>\n",
       "      <td>9822</td>\n",
       "      <td>17452</td>\n",
       "      <td>39154</td>\n",
       "      <td>402</td>\n",
       "      <td>1</td>\n",
       "      <td>14</td>\n",
       "      <td>14.79</td>\n",
       "      <td>26.27</td>\n",
       "      <td>56.28</td>\n",
       "      <td>64094</td>\n",
       "      <td>2334</td>\n",
       "      <td>3.64</td>\n",
       "      <td>Europe</td>\n",
       "    </tr>\n",
       "    <tr>\n",
       "      <th>17</th>\n",
       "      <td>Belize</td>\n",
       "      <td>48</td>\n",
       "      <td>2</td>\n",
       "      <td>26</td>\n",
       "      <td>20</td>\n",
       "      <td>0</td>\n",
       "      <td>0</td>\n",
       "      <td>0</td>\n",
       "      <td>4.17</td>\n",
       "      <td>54.17</td>\n",
       "      <td>7.69</td>\n",
       "      <td>40</td>\n",
       "      <td>8</td>\n",
       "      <td>20.00</td>\n",
       "      <td>Americas</td>\n",
       "    </tr>\n",
       "    <tr>\n",
       "      <th>18</th>\n",
       "      <td>Benin</td>\n",
       "      <td>1770</td>\n",
       "      <td>35</td>\n",
       "      <td>1036</td>\n",
       "      <td>699</td>\n",
       "      <td>0</td>\n",
       "      <td>0</td>\n",
       "      <td>0</td>\n",
       "      <td>1.98</td>\n",
       "      <td>58.53</td>\n",
       "      <td>3.38</td>\n",
       "      <td>1602</td>\n",
       "      <td>168</td>\n",
       "      <td>10.49</td>\n",
       "      <td>Africa</td>\n",
       "    </tr>\n",
       "    <tr>\n",
       "      <th>19</th>\n",
       "      <td>Bhutan</td>\n",
       "      <td>99</td>\n",
       "      <td>0</td>\n",
       "      <td>86</td>\n",
       "      <td>13</td>\n",
       "      <td>4</td>\n",
       "      <td>0</td>\n",
       "      <td>1</td>\n",
       "      <td>0.00</td>\n",
       "      <td>86.87</td>\n",
       "      <td>0.00</td>\n",
       "      <td>90</td>\n",
       "      <td>9</td>\n",
       "      <td>10.00</td>\n",
       "      <td>South-East Asia</td>\n",
       "    </tr>\n",
       "    <tr>\n",
       "      <th>20</th>\n",
       "      <td>Bolivia</td>\n",
       "      <td>71181</td>\n",
       "      <td>2647</td>\n",
       "      <td>21478</td>\n",
       "      <td>47056</td>\n",
       "      <td>1752</td>\n",
       "      <td>64</td>\n",
       "      <td>309</td>\n",
       "      <td>3.72</td>\n",
       "      <td>30.17</td>\n",
       "      <td>12.32</td>\n",
       "      <td>60991</td>\n",
       "      <td>10190</td>\n",
       "      <td>16.71</td>\n",
       "      <td>Americas</td>\n",
       "    </tr>\n",
       "    <tr>\n",
       "      <th>21</th>\n",
       "      <td>Bosnia and Herzegovina</td>\n",
       "      <td>10498</td>\n",
       "      <td>294</td>\n",
       "      <td>4930</td>\n",
       "      <td>5274</td>\n",
       "      <td>731</td>\n",
       "      <td>14</td>\n",
       "      <td>375</td>\n",
       "      <td>2.80</td>\n",
       "      <td>46.96</td>\n",
       "      <td>5.96</td>\n",
       "      <td>8479</td>\n",
       "      <td>2019</td>\n",
       "      <td>23.81</td>\n",
       "      <td>Europe</td>\n",
       "    </tr>\n",
       "    <tr>\n",
       "      <th>22</th>\n",
       "      <td>Botswana</td>\n",
       "      <td>739</td>\n",
       "      <td>2</td>\n",
       "      <td>63</td>\n",
       "      <td>674</td>\n",
       "      <td>53</td>\n",
       "      <td>1</td>\n",
       "      <td>11</td>\n",
       "      <td>0.27</td>\n",
       "      <td>8.53</td>\n",
       "      <td>3.17</td>\n",
       "      <td>522</td>\n",
       "      <td>217</td>\n",
       "      <td>41.57</td>\n",
       "      <td>Africa</td>\n",
       "    </tr>\n",
       "    <tr>\n",
       "      <th>23</th>\n",
       "      <td>Brazil</td>\n",
       "      <td>2442375</td>\n",
       "      <td>87618</td>\n",
       "      <td>1846641</td>\n",
       "      <td>508116</td>\n",
       "      <td>23284</td>\n",
       "      <td>614</td>\n",
       "      <td>33728</td>\n",
       "      <td>3.59</td>\n",
       "      <td>75.61</td>\n",
       "      <td>4.74</td>\n",
       "      <td>2118646</td>\n",
       "      <td>323729</td>\n",
       "      <td>15.28</td>\n",
       "      <td>Americas</td>\n",
       "    </tr>\n",
       "    <tr>\n",
       "      <th>24</th>\n",
       "      <td>Brunei</td>\n",
       "      <td>141</td>\n",
       "      <td>3</td>\n",
       "      <td>138</td>\n",
       "      <td>0</td>\n",
       "      <td>0</td>\n",
       "      <td>0</td>\n",
       "      <td>0</td>\n",
       "      <td>2.13</td>\n",
       "      <td>97.87</td>\n",
       "      <td>2.17</td>\n",
       "      <td>141</td>\n",
       "      <td>0</td>\n",
       "      <td>0.00</td>\n",
       "      <td>Western Pacific</td>\n",
       "    </tr>\n",
       "    <tr>\n",
       "      <th>25</th>\n",
       "      <td>Bulgaria</td>\n",
       "      <td>10621</td>\n",
       "      <td>347</td>\n",
       "      <td>5585</td>\n",
       "      <td>4689</td>\n",
       "      <td>194</td>\n",
       "      <td>7</td>\n",
       "      <td>230</td>\n",
       "      <td>3.27</td>\n",
       "      <td>52.58</td>\n",
       "      <td>6.21</td>\n",
       "      <td>8929</td>\n",
       "      <td>1692</td>\n",
       "      <td>18.95</td>\n",
       "      <td>Europe</td>\n",
       "    </tr>\n",
       "    <tr>\n",
       "      <th>26</th>\n",
       "      <td>Burkina Faso</td>\n",
       "      <td>1100</td>\n",
       "      <td>53</td>\n",
       "      <td>926</td>\n",
       "      <td>121</td>\n",
       "      <td>14</td>\n",
       "      <td>0</td>\n",
       "      <td>6</td>\n",
       "      <td>4.82</td>\n",
       "      <td>84.18</td>\n",
       "      <td>5.72</td>\n",
       "      <td>1065</td>\n",
       "      <td>35</td>\n",
       "      <td>3.29</td>\n",
       "      <td>Africa</td>\n",
       "    </tr>\n",
       "    <tr>\n",
       "      <th>27</th>\n",
       "      <td>Burma</td>\n",
       "      <td>350</td>\n",
       "      <td>6</td>\n",
       "      <td>292</td>\n",
       "      <td>52</td>\n",
       "      <td>0</td>\n",
       "      <td>0</td>\n",
       "      <td>2</td>\n",
       "      <td>1.71</td>\n",
       "      <td>83.43</td>\n",
       "      <td>2.05</td>\n",
       "      <td>341</td>\n",
       "      <td>9</td>\n",
       "      <td>2.64</td>\n",
       "      <td>South-East Asia</td>\n",
       "    </tr>\n",
       "    <tr>\n",
       "      <th>28</th>\n",
       "      <td>Burundi</td>\n",
       "      <td>378</td>\n",
       "      <td>1</td>\n",
       "      <td>301</td>\n",
       "      <td>76</td>\n",
       "      <td>17</td>\n",
       "      <td>0</td>\n",
       "      <td>22</td>\n",
       "      <td>0.26</td>\n",
       "      <td>79.63</td>\n",
       "      <td>0.33</td>\n",
       "      <td>322</td>\n",
       "      <td>56</td>\n",
       "      <td>17.39</td>\n",
       "      <td>Africa</td>\n",
       "    </tr>\n",
       "    <tr>\n",
       "      <th>29</th>\n",
       "      <td>Cabo Verde</td>\n",
       "      <td>2328</td>\n",
       "      <td>22</td>\n",
       "      <td>1550</td>\n",
       "      <td>756</td>\n",
       "      <td>21</td>\n",
       "      <td>0</td>\n",
       "      <td>103</td>\n",
       "      <td>0.95</td>\n",
       "      <td>66.58</td>\n",
       "      <td>1.42</td>\n",
       "      <td>2071</td>\n",
       "      <td>257</td>\n",
       "      <td>12.41</td>\n",
       "      <td>Africa</td>\n",
       "    </tr>\n",
       "    <tr>\n",
       "      <th>30</th>\n",
       "      <td>Cambodia</td>\n",
       "      <td>226</td>\n",
       "      <td>0</td>\n",
       "      <td>147</td>\n",
       "      <td>79</td>\n",
       "      <td>1</td>\n",
       "      <td>0</td>\n",
       "      <td>4</td>\n",
       "      <td>0.00</td>\n",
       "      <td>65.04</td>\n",
       "      <td>0.00</td>\n",
       "      <td>171</td>\n",
       "      <td>55</td>\n",
       "      <td>32.16</td>\n",
       "      <td>Western Pacific</td>\n",
       "    </tr>\n",
       "    <tr>\n",
       "      <th>31</th>\n",
       "      <td>Cameroon</td>\n",
       "      <td>17110</td>\n",
       "      <td>391</td>\n",
       "      <td>14539</td>\n",
       "      <td>2180</td>\n",
       "      <td>402</td>\n",
       "      <td>6</td>\n",
       "      <td>0</td>\n",
       "      <td>2.29</td>\n",
       "      <td>84.97</td>\n",
       "      <td>2.69</td>\n",
       "      <td>16157</td>\n",
       "      <td>953</td>\n",
       "      <td>5.90</td>\n",
       "      <td>Africa</td>\n",
       "    </tr>\n",
       "    <tr>\n",
       "      <th>32</th>\n",
       "      <td>Canada</td>\n",
       "      <td>116458</td>\n",
       "      <td>8944</td>\n",
       "      <td>0</td>\n",
       "      <td>107514</td>\n",
       "      <td>682</td>\n",
       "      <td>11</td>\n",
       "      <td>0</td>\n",
       "      <td>7.68</td>\n",
       "      <td>0.00</td>\n",
       "      <td>inf</td>\n",
       "      <td>112925</td>\n",
       "      <td>3533</td>\n",
       "      <td>3.13</td>\n",
       "      <td>Americas</td>\n",
       "    </tr>\n",
       "    <tr>\n",
       "      <th>33</th>\n",
       "      <td>Central African Republic</td>\n",
       "      <td>4599</td>\n",
       "      <td>59</td>\n",
       "      <td>1546</td>\n",
       "      <td>2994</td>\n",
       "      <td>0</td>\n",
       "      <td>0</td>\n",
       "      <td>0</td>\n",
       "      <td>1.28</td>\n",
       "      <td>33.62</td>\n",
       "      <td>3.82</td>\n",
       "      <td>4548</td>\n",
       "      <td>51</td>\n",
       "      <td>1.12</td>\n",
       "      <td>Africa</td>\n",
       "    </tr>\n",
       "    <tr>\n",
       "      <th>34</th>\n",
       "      <td>Chad</td>\n",
       "      <td>922</td>\n",
       "      <td>75</td>\n",
       "      <td>810</td>\n",
       "      <td>37</td>\n",
       "      <td>7</td>\n",
       "      <td>0</td>\n",
       "      <td>0</td>\n",
       "      <td>8.13</td>\n",
       "      <td>87.85</td>\n",
       "      <td>9.26</td>\n",
       "      <td>889</td>\n",
       "      <td>33</td>\n",
       "      <td>3.71</td>\n",
       "      <td>Africa</td>\n",
       "    </tr>\n",
       "    <tr>\n",
       "      <th>35</th>\n",
       "      <td>Chile</td>\n",
       "      <td>347923</td>\n",
       "      <td>9187</td>\n",
       "      <td>319954</td>\n",
       "      <td>18782</td>\n",
       "      <td>2133</td>\n",
       "      <td>75</td>\n",
       "      <td>1859</td>\n",
       "      <td>2.64</td>\n",
       "      <td>91.96</td>\n",
       "      <td>2.87</td>\n",
       "      <td>333029</td>\n",
       "      <td>14894</td>\n",
       "      <td>4.47</td>\n",
       "      <td>Americas</td>\n",
       "    </tr>\n",
       "    <tr>\n",
       "      <th>36</th>\n",
       "      <td>China</td>\n",
       "      <td>86783</td>\n",
       "      <td>4656</td>\n",
       "      <td>78869</td>\n",
       "      <td>3258</td>\n",
       "      <td>213</td>\n",
       "      <td>4</td>\n",
       "      <td>7</td>\n",
       "      <td>5.37</td>\n",
       "      <td>90.88</td>\n",
       "      <td>5.90</td>\n",
       "      <td>85622</td>\n",
       "      <td>1161</td>\n",
       "      <td>1.36</td>\n",
       "      <td>Western Pacific</td>\n",
       "    </tr>\n",
       "    <tr>\n",
       "      <th>37</th>\n",
       "      <td>Colombia</td>\n",
       "      <td>257101</td>\n",
       "      <td>8777</td>\n",
       "      <td>131161</td>\n",
       "      <td>117163</td>\n",
       "      <td>16306</td>\n",
       "      <td>508</td>\n",
       "      <td>11494</td>\n",
       "      <td>3.41</td>\n",
       "      <td>51.02</td>\n",
       "      <td>6.69</td>\n",
       "      <td>204005</td>\n",
       "      <td>53096</td>\n",
       "      <td>26.03</td>\n",
       "      <td>Americas</td>\n",
       "    </tr>\n",
       "    <tr>\n",
       "      <th>38</th>\n",
       "      <td>Comoros</td>\n",
       "      <td>354</td>\n",
       "      <td>7</td>\n",
       "      <td>328</td>\n",
       "      <td>19</td>\n",
       "      <td>0</td>\n",
       "      <td>0</td>\n",
       "      <td>0</td>\n",
       "      <td>1.98</td>\n",
       "      <td>92.66</td>\n",
       "      <td>2.13</td>\n",
       "      <td>334</td>\n",
       "      <td>20</td>\n",
       "      <td>5.99</td>\n",
       "      <td>Africa</td>\n",
       "    </tr>\n",
       "    <tr>\n",
       "      <th>39</th>\n",
       "      <td>Congo (Brazzaville)</td>\n",
       "      <td>3200</td>\n",
       "      <td>54</td>\n",
       "      <td>829</td>\n",
       "      <td>2317</td>\n",
       "      <td>162</td>\n",
       "      <td>3</td>\n",
       "      <td>73</td>\n",
       "      <td>1.69</td>\n",
       "      <td>25.91</td>\n",
       "      <td>6.51</td>\n",
       "      <td>2851</td>\n",
       "      <td>349</td>\n",
       "      <td>12.24</td>\n",
       "      <td>Africa</td>\n",
       "    </tr>\n",
       "    <tr>\n",
       "      <th>40</th>\n",
       "      <td>Congo (Kinshasa)</td>\n",
       "      <td>8844</td>\n",
       "      <td>208</td>\n",
       "      <td>5700</td>\n",
       "      <td>2936</td>\n",
       "      <td>13</td>\n",
       "      <td>4</td>\n",
       "      <td>190</td>\n",
       "      <td>2.35</td>\n",
       "      <td>64.45</td>\n",
       "      <td>3.65</td>\n",
       "      <td>8443</td>\n",
       "      <td>401</td>\n",
       "      <td>4.75</td>\n",
       "      <td>Africa</td>\n",
       "    </tr>\n",
       "    <tr>\n",
       "      <th>41</th>\n",
       "      <td>Costa Rica</td>\n",
       "      <td>15841</td>\n",
       "      <td>115</td>\n",
       "      <td>3824</td>\n",
       "      <td>11902</td>\n",
       "      <td>612</td>\n",
       "      <td>11</td>\n",
       "      <td>88</td>\n",
       "      <td>0.73</td>\n",
       "      <td>24.14</td>\n",
       "      <td>3.01</td>\n",
       "      <td>11534</td>\n",
       "      <td>4307</td>\n",
       "      <td>37.34</td>\n",
       "      <td>Americas</td>\n",
       "    </tr>\n",
       "    <tr>\n",
       "      <th>42</th>\n",
       "      <td>Cote d'Ivoire</td>\n",
       "      <td>15655</td>\n",
       "      <td>96</td>\n",
       "      <td>10361</td>\n",
       "      <td>5198</td>\n",
       "      <td>59</td>\n",
       "      <td>0</td>\n",
       "      <td>183</td>\n",
       "      <td>0.61</td>\n",
       "      <td>66.18</td>\n",
       "      <td>0.93</td>\n",
       "      <td>14312</td>\n",
       "      <td>1343</td>\n",
       "      <td>9.38</td>\n",
       "      <td>Africa</td>\n",
       "    </tr>\n",
       "    <tr>\n",
       "      <th>43</th>\n",
       "      <td>Croatia</td>\n",
       "      <td>4881</td>\n",
       "      <td>139</td>\n",
       "      <td>3936</td>\n",
       "      <td>806</td>\n",
       "      <td>24</td>\n",
       "      <td>3</td>\n",
       "      <td>70</td>\n",
       "      <td>2.85</td>\n",
       "      <td>80.64</td>\n",
       "      <td>3.53</td>\n",
       "      <td>4370</td>\n",
       "      <td>511</td>\n",
       "      <td>11.69</td>\n",
       "      <td>Europe</td>\n",
       "    </tr>\n",
       "    <tr>\n",
       "      <th>44</th>\n",
       "      <td>Cuba</td>\n",
       "      <td>2532</td>\n",
       "      <td>87</td>\n",
       "      <td>2351</td>\n",
       "      <td>94</td>\n",
       "      <td>37</td>\n",
       "      <td>0</td>\n",
       "      <td>2</td>\n",
       "      <td>3.44</td>\n",
       "      <td>92.85</td>\n",
       "      <td>3.70</td>\n",
       "      <td>2446</td>\n",
       "      <td>86</td>\n",
       "      <td>3.52</td>\n",
       "      <td>Americas</td>\n",
       "    </tr>\n",
       "    <tr>\n",
       "      <th>45</th>\n",
       "      <td>Cyprus</td>\n",
       "      <td>1060</td>\n",
       "      <td>19</td>\n",
       "      <td>852</td>\n",
       "      <td>189</td>\n",
       "      <td>3</td>\n",
       "      <td>0</td>\n",
       "      <td>0</td>\n",
       "      <td>1.79</td>\n",
       "      <td>80.38</td>\n",
       "      <td>2.23</td>\n",
       "      <td>1038</td>\n",
       "      <td>22</td>\n",
       "      <td>2.12</td>\n",
       "      <td>Europe</td>\n",
       "    </tr>\n",
       "    <tr>\n",
       "      <th>46</th>\n",
       "      <td>Czechia</td>\n",
       "      <td>15516</td>\n",
       "      <td>373</td>\n",
       "      <td>11428</td>\n",
       "      <td>3715</td>\n",
       "      <td>192</td>\n",
       "      <td>2</td>\n",
       "      <td>0</td>\n",
       "      <td>2.40</td>\n",
       "      <td>73.65</td>\n",
       "      <td>3.26</td>\n",
       "      <td>14098</td>\n",
       "      <td>1418</td>\n",
       "      <td>10.06</td>\n",
       "      <td>Europe</td>\n",
       "    </tr>\n",
       "    <tr>\n",
       "      <th>47</th>\n",
       "      <td>Denmark</td>\n",
       "      <td>13761</td>\n",
       "      <td>613</td>\n",
       "      <td>12605</td>\n",
       "      <td>543</td>\n",
       "      <td>109</td>\n",
       "      <td>0</td>\n",
       "      <td>77</td>\n",
       "      <td>4.45</td>\n",
       "      <td>91.60</td>\n",
       "      <td>4.86</td>\n",
       "      <td>13453</td>\n",
       "      <td>308</td>\n",
       "      <td>2.29</td>\n",
       "      <td>Europe</td>\n",
       "    </tr>\n",
       "    <tr>\n",
       "      <th>48</th>\n",
       "      <td>Djibouti</td>\n",
       "      <td>5059</td>\n",
       "      <td>58</td>\n",
       "      <td>4977</td>\n",
       "      <td>24</td>\n",
       "      <td>9</td>\n",
       "      <td>0</td>\n",
       "      <td>11</td>\n",
       "      <td>1.15</td>\n",
       "      <td>98.38</td>\n",
       "      <td>1.17</td>\n",
       "      <td>5020</td>\n",
       "      <td>39</td>\n",
       "      <td>0.78</td>\n",
       "      <td>Eastern Mediterranean</td>\n",
       "    </tr>\n",
       "    <tr>\n",
       "      <th>49</th>\n",
       "      <td>Dominica</td>\n",
       "      <td>18</td>\n",
       "      <td>0</td>\n",
       "      <td>18</td>\n",
       "      <td>0</td>\n",
       "      <td>0</td>\n",
       "      <td>0</td>\n",
       "      <td>0</td>\n",
       "      <td>0.00</td>\n",
       "      <td>100.00</td>\n",
       "      <td>0.00</td>\n",
       "      <td>18</td>\n",
       "      <td>0</td>\n",
       "      <td>0.00</td>\n",
       "      <td>Americas</td>\n",
       "    </tr>\n",
       "    <tr>\n",
       "      <th>50</th>\n",
       "      <td>Dominican Republic</td>\n",
       "      <td>64156</td>\n",
       "      <td>1083</td>\n",
       "      <td>30204</td>\n",
       "      <td>32869</td>\n",
       "      <td>1248</td>\n",
       "      <td>20</td>\n",
       "      <td>1601</td>\n",
       "      <td>1.69</td>\n",
       "      <td>47.08</td>\n",
       "      <td>3.59</td>\n",
       "      <td>53956</td>\n",
       "      <td>10200</td>\n",
       "      <td>18.90</td>\n",
       "      <td>Americas</td>\n",
       "    </tr>\n",
       "    <tr>\n",
       "      <th>51</th>\n",
       "      <td>Ecuador</td>\n",
       "      <td>81161</td>\n",
       "      <td>5532</td>\n",
       "      <td>34896</td>\n",
       "      <td>40733</td>\n",
       "      <td>467</td>\n",
       "      <td>17</td>\n",
       "      <td>0</td>\n",
       "      <td>6.82</td>\n",
       "      <td>43.00</td>\n",
       "      <td>15.85</td>\n",
       "      <td>74620</td>\n",
       "      <td>6541</td>\n",
       "      <td>8.77</td>\n",
       "      <td>Americas</td>\n",
       "    </tr>\n",
       "    <tr>\n",
       "      <th>52</th>\n",
       "      <td>Egypt</td>\n",
       "      <td>92482</td>\n",
       "      <td>4652</td>\n",
       "      <td>34838</td>\n",
       "      <td>52992</td>\n",
       "      <td>420</td>\n",
       "      <td>46</td>\n",
       "      <td>1007</td>\n",
       "      <td>5.03</td>\n",
       "      <td>37.67</td>\n",
       "      <td>13.35</td>\n",
       "      <td>88402</td>\n",
       "      <td>4080</td>\n",
       "      <td>4.62</td>\n",
       "      <td>Eastern Mediterranean</td>\n",
       "    </tr>\n",
       "    <tr>\n",
       "      <th>53</th>\n",
       "      <td>El Salvador</td>\n",
       "      <td>15035</td>\n",
       "      <td>408</td>\n",
       "      <td>7778</td>\n",
       "      <td>6849</td>\n",
       "      <td>405</td>\n",
       "      <td>8</td>\n",
       "      <td>130</td>\n",
       "      <td>2.71</td>\n",
       "      <td>51.73</td>\n",
       "      <td>5.25</td>\n",
       "      <td>12207</td>\n",
       "      <td>2828</td>\n",
       "      <td>23.17</td>\n",
       "      <td>Americas</td>\n",
       "    </tr>\n",
       "    <tr>\n",
       "      <th>54</th>\n",
       "      <td>Equatorial Guinea</td>\n",
       "      <td>3071</td>\n",
       "      <td>51</td>\n",
       "      <td>842</td>\n",
       "      <td>2178</td>\n",
       "      <td>0</td>\n",
       "      <td>0</td>\n",
       "      <td>0</td>\n",
       "      <td>1.66</td>\n",
       "      <td>27.42</td>\n",
       "      <td>6.06</td>\n",
       "      <td>3071</td>\n",
       "      <td>0</td>\n",
       "      <td>0.00</td>\n",
       "      <td>Africa</td>\n",
       "    </tr>\n",
       "    <tr>\n",
       "      <th>55</th>\n",
       "      <td>Eritrea</td>\n",
       "      <td>265</td>\n",
       "      <td>0</td>\n",
       "      <td>191</td>\n",
       "      <td>74</td>\n",
       "      <td>2</td>\n",
       "      <td>0</td>\n",
       "      <td>2</td>\n",
       "      <td>0.00</td>\n",
       "      <td>72.08</td>\n",
       "      <td>0.00</td>\n",
       "      <td>251</td>\n",
       "      <td>14</td>\n",
       "      <td>5.58</td>\n",
       "      <td>Africa</td>\n",
       "    </tr>\n",
       "    <tr>\n",
       "      <th>56</th>\n",
       "      <td>Estonia</td>\n",
       "      <td>2034</td>\n",
       "      <td>69</td>\n",
       "      <td>1923</td>\n",
       "      <td>42</td>\n",
       "      <td>0</td>\n",
       "      <td>0</td>\n",
       "      <td>1</td>\n",
       "      <td>3.39</td>\n",
       "      <td>94.54</td>\n",
       "      <td>3.59</td>\n",
       "      <td>2021</td>\n",
       "      <td>13</td>\n",
       "      <td>0.64</td>\n",
       "      <td>Europe</td>\n",
       "    </tr>\n",
       "    <tr>\n",
       "      <th>57</th>\n",
       "      <td>Eswatini</td>\n",
       "      <td>2316</td>\n",
       "      <td>34</td>\n",
       "      <td>1025</td>\n",
       "      <td>1257</td>\n",
       "      <td>109</td>\n",
       "      <td>2</td>\n",
       "      <td>39</td>\n",
       "      <td>1.47</td>\n",
       "      <td>44.26</td>\n",
       "      <td>3.32</td>\n",
       "      <td>1826</td>\n",
       "      <td>490</td>\n",
       "      <td>26.83</td>\n",
       "      <td>Africa</td>\n",
       "    </tr>\n",
       "    <tr>\n",
       "      <th>58</th>\n",
       "      <td>Ethiopia</td>\n",
       "      <td>14547</td>\n",
       "      <td>228</td>\n",
       "      <td>6386</td>\n",
       "      <td>7933</td>\n",
       "      <td>579</td>\n",
       "      <td>5</td>\n",
       "      <td>170</td>\n",
       "      <td>1.57</td>\n",
       "      <td>43.90</td>\n",
       "      <td>3.57</td>\n",
       "      <td>10207</td>\n",
       "      <td>4340</td>\n",
       "      <td>42.52</td>\n",
       "      <td>Africa</td>\n",
       "    </tr>\n",
       "    <tr>\n",
       "      <th>59</th>\n",
       "      <td>Fiji</td>\n",
       "      <td>27</td>\n",
       "      <td>0</td>\n",
       "      <td>18</td>\n",
       "      <td>9</td>\n",
       "      <td>0</td>\n",
       "      <td>0</td>\n",
       "      <td>0</td>\n",
       "      <td>0.00</td>\n",
       "      <td>66.67</td>\n",
       "      <td>0.00</td>\n",
       "      <td>27</td>\n",
       "      <td>0</td>\n",
       "      <td>0.00</td>\n",
       "      <td>Western Pacific</td>\n",
       "    </tr>\n",
       "    <tr>\n",
       "      <th>60</th>\n",
       "      <td>Finland</td>\n",
       "      <td>7398</td>\n",
       "      <td>329</td>\n",
       "      <td>6920</td>\n",
       "      <td>149</td>\n",
       "      <td>5</td>\n",
       "      <td>0</td>\n",
       "      <td>0</td>\n",
       "      <td>4.45</td>\n",
       "      <td>93.54</td>\n",
       "      <td>4.75</td>\n",
       "      <td>7340</td>\n",
       "      <td>58</td>\n",
       "      <td>0.79</td>\n",
       "      <td>Europe</td>\n",
       "    </tr>\n",
       "    <tr>\n",
       "      <th>61</th>\n",
       "      <td>France</td>\n",
       "      <td>220352</td>\n",
       "      <td>30212</td>\n",
       "      <td>81212</td>\n",
       "      <td>108928</td>\n",
       "      <td>2551</td>\n",
       "      <td>17</td>\n",
       "      <td>267</td>\n",
       "      <td>13.71</td>\n",
       "      <td>36.86</td>\n",
       "      <td>37.20</td>\n",
       "      <td>214023</td>\n",
       "      <td>6329</td>\n",
       "      <td>2.96</td>\n",
       "      <td>Europe</td>\n",
       "    </tr>\n",
       "    <tr>\n",
       "      <th>62</th>\n",
       "      <td>Gabon</td>\n",
       "      <td>7189</td>\n",
       "      <td>49</td>\n",
       "      <td>4682</td>\n",
       "      <td>2458</td>\n",
       "      <td>205</td>\n",
       "      <td>0</td>\n",
       "      <td>219</td>\n",
       "      <td>0.68</td>\n",
       "      <td>65.13</td>\n",
       "      <td>1.05</td>\n",
       "      <td>6433</td>\n",
       "      <td>756</td>\n",
       "      <td>11.75</td>\n",
       "      <td>Africa</td>\n",
       "    </tr>\n",
       "    <tr>\n",
       "      <th>63</th>\n",
       "      <td>Gambia</td>\n",
       "      <td>326</td>\n",
       "      <td>8</td>\n",
       "      <td>66</td>\n",
       "      <td>252</td>\n",
       "      <td>49</td>\n",
       "      <td>2</td>\n",
       "      <td>6</td>\n",
       "      <td>2.45</td>\n",
       "      <td>20.25</td>\n",
       "      <td>12.12</td>\n",
       "      <td>112</td>\n",
       "      <td>214</td>\n",
       "      <td>191.07</td>\n",
       "      <td>Africa</td>\n",
       "    </tr>\n",
       "    <tr>\n",
       "      <th>64</th>\n",
       "      <td>Georgia</td>\n",
       "      <td>1137</td>\n",
       "      <td>16</td>\n",
       "      <td>922</td>\n",
       "      <td>199</td>\n",
       "      <td>6</td>\n",
       "      <td>0</td>\n",
       "      <td>2</td>\n",
       "      <td>1.41</td>\n",
       "      <td>81.09</td>\n",
       "      <td>1.74</td>\n",
       "      <td>1039</td>\n",
       "      <td>98</td>\n",
       "      <td>9.43</td>\n",
       "      <td>Europe</td>\n",
       "    </tr>\n",
       "    <tr>\n",
       "      <th>65</th>\n",
       "      <td>Germany</td>\n",
       "      <td>207112</td>\n",
       "      <td>9125</td>\n",
       "      <td>190314</td>\n",
       "      <td>7673</td>\n",
       "      <td>445</td>\n",
       "      <td>1</td>\n",
       "      <td>259</td>\n",
       "      <td>4.41</td>\n",
       "      <td>91.89</td>\n",
       "      <td>4.79</td>\n",
       "      <td>203325</td>\n",
       "      <td>3787</td>\n",
       "      <td>1.86</td>\n",
       "      <td>Europe</td>\n",
       "    </tr>\n",
       "    <tr>\n",
       "      <th>66</th>\n",
       "      <td>Ghana</td>\n",
       "      <td>33624</td>\n",
       "      <td>168</td>\n",
       "      <td>29801</td>\n",
       "      <td>3655</td>\n",
       "      <td>655</td>\n",
       "      <td>0</td>\n",
       "      <td>307</td>\n",
       "      <td>0.50</td>\n",
       "      <td>88.63</td>\n",
       "      <td>0.56</td>\n",
       "      <td>28430</td>\n",
       "      <td>5194</td>\n",
       "      <td>18.27</td>\n",
       "      <td>Africa</td>\n",
       "    </tr>\n",
       "    <tr>\n",
       "      <th>67</th>\n",
       "      <td>Greece</td>\n",
       "      <td>4227</td>\n",
       "      <td>202</td>\n",
       "      <td>1374</td>\n",
       "      <td>2651</td>\n",
       "      <td>34</td>\n",
       "      <td>0</td>\n",
       "      <td>0</td>\n",
       "      <td>4.78</td>\n",
       "      <td>32.51</td>\n",
       "      <td>14.70</td>\n",
       "      <td>4012</td>\n",
       "      <td>215</td>\n",
       "      <td>5.36</td>\n",
       "      <td>Europe</td>\n",
       "    </tr>\n",
       "    <tr>\n",
       "      <th>68</th>\n",
       "      <td>Greenland</td>\n",
       "      <td>14</td>\n",
       "      <td>0</td>\n",
       "      <td>13</td>\n",
       "      <td>1</td>\n",
       "      <td>1</td>\n",
       "      <td>0</td>\n",
       "      <td>0</td>\n",
       "      <td>0.00</td>\n",
       "      <td>92.86</td>\n",
       "      <td>0.00</td>\n",
       "      <td>13</td>\n",
       "      <td>1</td>\n",
       "      <td>7.69</td>\n",
       "      <td>Europe</td>\n",
       "    </tr>\n",
       "    <tr>\n",
       "      <th>69</th>\n",
       "      <td>Grenada</td>\n",
       "      <td>23</td>\n",
       "      <td>0</td>\n",
       "      <td>23</td>\n",
       "      <td>0</td>\n",
       "      <td>0</td>\n",
       "      <td>0</td>\n",
       "      <td>0</td>\n",
       "      <td>0.00</td>\n",
       "      <td>100.00</td>\n",
       "      <td>0.00</td>\n",
       "      <td>23</td>\n",
       "      <td>0</td>\n",
       "      <td>0.00</td>\n",
       "      <td>Americas</td>\n",
       "    </tr>\n",
       "    <tr>\n",
       "      <th>70</th>\n",
       "      <td>Guatemala</td>\n",
       "      <td>45309</td>\n",
       "      <td>1761</td>\n",
       "      <td>32455</td>\n",
       "      <td>11093</td>\n",
       "      <td>256</td>\n",
       "      <td>27</td>\n",
       "      <td>843</td>\n",
       "      <td>3.89</td>\n",
       "      <td>71.63</td>\n",
       "      <td>5.43</td>\n",
       "      <td>39039</td>\n",
       "      <td>6270</td>\n",
       "      <td>16.06</td>\n",
       "      <td>Americas</td>\n",
       "    </tr>\n",
       "    <tr>\n",
       "      <th>71</th>\n",
       "      <td>Guinea</td>\n",
       "      <td>7055</td>\n",
       "      <td>45</td>\n",
       "      <td>6257</td>\n",
       "      <td>753</td>\n",
       "      <td>47</td>\n",
       "      <td>2</td>\n",
       "      <td>105</td>\n",
       "      <td>0.64</td>\n",
       "      <td>88.69</td>\n",
       "      <td>0.72</td>\n",
       "      <td>6590</td>\n",
       "      <td>465</td>\n",
       "      <td>7.06</td>\n",
       "      <td>Africa</td>\n",
       "    </tr>\n",
       "    <tr>\n",
       "      <th>72</th>\n",
       "      <td>Guinea-Bissau</td>\n",
       "      <td>1954</td>\n",
       "      <td>26</td>\n",
       "      <td>803</td>\n",
       "      <td>1125</td>\n",
       "      <td>0</td>\n",
       "      <td>0</td>\n",
       "      <td>0</td>\n",
       "      <td>1.33</td>\n",
       "      <td>41.10</td>\n",
       "      <td>3.24</td>\n",
       "      <td>1949</td>\n",
       "      <td>5</td>\n",
       "      <td>0.26</td>\n",
       "      <td>Africa</td>\n",
       "    </tr>\n",
       "    <tr>\n",
       "      <th>73</th>\n",
       "      <td>Guyana</td>\n",
       "      <td>389</td>\n",
       "      <td>20</td>\n",
       "      <td>181</td>\n",
       "      <td>188</td>\n",
       "      <td>19</td>\n",
       "      <td>0</td>\n",
       "      <td>0</td>\n",
       "      <td>5.14</td>\n",
       "      <td>46.53</td>\n",
       "      <td>11.05</td>\n",
       "      <td>337</td>\n",
       "      <td>52</td>\n",
       "      <td>15.43</td>\n",
       "      <td>Americas</td>\n",
       "    </tr>\n",
       "    <tr>\n",
       "      <th>74</th>\n",
       "      <td>Haiti</td>\n",
       "      <td>7340</td>\n",
       "      <td>158</td>\n",
       "      <td>4365</td>\n",
       "      <td>2817</td>\n",
       "      <td>25</td>\n",
       "      <td>1</td>\n",
       "      <td>0</td>\n",
       "      <td>2.15</td>\n",
       "      <td>59.47</td>\n",
       "      <td>3.62</td>\n",
       "      <td>7053</td>\n",
       "      <td>287</td>\n",
       "      <td>4.07</td>\n",
       "      <td>Americas</td>\n",
       "    </tr>\n",
       "    <tr>\n",
       "      <th>75</th>\n",
       "      <td>Holy See</td>\n",
       "      <td>12</td>\n",
       "      <td>0</td>\n",
       "      <td>12</td>\n",
       "      <td>0</td>\n",
       "      <td>0</td>\n",
       "      <td>0</td>\n",
       "      <td>0</td>\n",
       "      <td>0.00</td>\n",
       "      <td>100.00</td>\n",
       "      <td>0.00</td>\n",
       "      <td>12</td>\n",
       "      <td>0</td>\n",
       "      <td>0.00</td>\n",
       "      <td>Europe</td>\n",
       "    </tr>\n",
       "    <tr>\n",
       "      <th>76</th>\n",
       "      <td>Honduras</td>\n",
       "      <td>39741</td>\n",
       "      <td>1166</td>\n",
       "      <td>5039</td>\n",
       "      <td>33536</td>\n",
       "      <td>465</td>\n",
       "      <td>50</td>\n",
       "      <td>117</td>\n",
       "      <td>2.93</td>\n",
       "      <td>12.68</td>\n",
       "      <td>23.14</td>\n",
       "      <td>34611</td>\n",
       "      <td>5130</td>\n",
       "      <td>14.82</td>\n",
       "      <td>Americas</td>\n",
       "    </tr>\n",
       "    <tr>\n",
       "      <th>77</th>\n",
       "      <td>Hungary</td>\n",
       "      <td>4448</td>\n",
       "      <td>596</td>\n",
       "      <td>3329</td>\n",
       "      <td>523</td>\n",
       "      <td>13</td>\n",
       "      <td>0</td>\n",
       "      <td>0</td>\n",
       "      <td>13.40</td>\n",
       "      <td>74.84</td>\n",
       "      <td>17.90</td>\n",
       "      <td>4339</td>\n",
       "      <td>109</td>\n",
       "      <td>2.51</td>\n",
       "      <td>Europe</td>\n",
       "    </tr>\n",
       "    <tr>\n",
       "      <th>78</th>\n",
       "      <td>Iceland</td>\n",
       "      <td>1854</td>\n",
       "      <td>10</td>\n",
       "      <td>1823</td>\n",
       "      <td>21</td>\n",
       "      <td>7</td>\n",
       "      <td>0</td>\n",
       "      <td>0</td>\n",
       "      <td>0.54</td>\n",
       "      <td>98.33</td>\n",
       "      <td>0.55</td>\n",
       "      <td>1839</td>\n",
       "      <td>15</td>\n",
       "      <td>0.82</td>\n",
       "      <td>Europe</td>\n",
       "    </tr>\n",
       "    <tr>\n",
       "      <th>79</th>\n",
       "      <td>India</td>\n",
       "      <td>1480073</td>\n",
       "      <td>33408</td>\n",
       "      <td>951166</td>\n",
       "      <td>495499</td>\n",
       "      <td>44457</td>\n",
       "      <td>637</td>\n",
       "      <td>33598</td>\n",
       "      <td>2.26</td>\n",
       "      <td>64.26</td>\n",
       "      <td>3.51</td>\n",
       "      <td>1155338</td>\n",
       "      <td>324735</td>\n",
       "      <td>28.11</td>\n",
       "      <td>South-East Asia</td>\n",
       "    </tr>\n",
       "    <tr>\n",
       "      <th>80</th>\n",
       "      <td>Indonesia</td>\n",
       "      <td>100303</td>\n",
       "      <td>4838</td>\n",
       "      <td>58173</td>\n",
       "      <td>37292</td>\n",
       "      <td>1525</td>\n",
       "      <td>57</td>\n",
       "      <td>1518</td>\n",
       "      <td>4.82</td>\n",
       "      <td>58.00</td>\n",
       "      <td>8.32</td>\n",
       "      <td>88214</td>\n",
       "      <td>12089</td>\n",
       "      <td>13.70</td>\n",
       "      <td>South-East Asia</td>\n",
       "    </tr>\n",
       "    <tr>\n",
       "      <th>81</th>\n",
       "      <td>Iran</td>\n",
       "      <td>293606</td>\n",
       "      <td>15912</td>\n",
       "      <td>255144</td>\n",
       "      <td>22550</td>\n",
       "      <td>2434</td>\n",
       "      <td>212</td>\n",
       "      <td>1931</td>\n",
       "      <td>5.42</td>\n",
       "      <td>86.90</td>\n",
       "      <td>6.24</td>\n",
       "      <td>276202</td>\n",
       "      <td>17404</td>\n",
       "      <td>6.30</td>\n",
       "      <td>Eastern Mediterranean</td>\n",
       "    </tr>\n",
       "    <tr>\n",
       "      <th>82</th>\n",
       "      <td>Iraq</td>\n",
       "      <td>112585</td>\n",
       "      <td>4458</td>\n",
       "      <td>77144</td>\n",
       "      <td>30983</td>\n",
       "      <td>2553</td>\n",
       "      <td>96</td>\n",
       "      <td>1927</td>\n",
       "      <td>3.96</td>\n",
       "      <td>68.52</td>\n",
       "      <td>5.78</td>\n",
       "      <td>94693</td>\n",
       "      <td>17892</td>\n",
       "      <td>18.89</td>\n",
       "      <td>Eastern Mediterranean</td>\n",
       "    </tr>\n",
       "    <tr>\n",
       "      <th>83</th>\n",
       "      <td>Ireland</td>\n",
       "      <td>25892</td>\n",
       "      <td>1764</td>\n",
       "      <td>23364</td>\n",
       "      <td>764</td>\n",
       "      <td>11</td>\n",
       "      <td>0</td>\n",
       "      <td>0</td>\n",
       "      <td>6.81</td>\n",
       "      <td>90.24</td>\n",
       "      <td>7.55</td>\n",
       "      <td>25766</td>\n",
       "      <td>126</td>\n",
       "      <td>0.49</td>\n",
       "      <td>Europe</td>\n",
       "    </tr>\n",
       "    <tr>\n",
       "      <th>84</th>\n",
       "      <td>Israel</td>\n",
       "      <td>63985</td>\n",
       "      <td>474</td>\n",
       "      <td>27133</td>\n",
       "      <td>36378</td>\n",
       "      <td>2029</td>\n",
       "      <td>4</td>\n",
       "      <td>108</td>\n",
       "      <td>0.74</td>\n",
       "      <td>42.41</td>\n",
       "      <td>1.75</td>\n",
       "      <td>52003</td>\n",
       "      <td>11982</td>\n",
       "      <td>23.04</td>\n",
       "      <td>Europe</td>\n",
       "    </tr>\n",
       "    <tr>\n",
       "      <th>85</th>\n",
       "      <td>Italy</td>\n",
       "      <td>246286</td>\n",
       "      <td>35112</td>\n",
       "      <td>198593</td>\n",
       "      <td>12581</td>\n",
       "      <td>168</td>\n",
       "      <td>5</td>\n",
       "      <td>147</td>\n",
       "      <td>14.26</td>\n",
       "      <td>80.64</td>\n",
       "      <td>17.68</td>\n",
       "      <td>244624</td>\n",
       "      <td>1662</td>\n",
       "      <td>0.68</td>\n",
       "      <td>Europe</td>\n",
       "    </tr>\n",
       "    <tr>\n",
       "      <th>86</th>\n",
       "      <td>Jamaica</td>\n",
       "      <td>853</td>\n",
       "      <td>10</td>\n",
       "      <td>714</td>\n",
       "      <td>129</td>\n",
       "      <td>11</td>\n",
       "      <td>0</td>\n",
       "      <td>0</td>\n",
       "      <td>1.17</td>\n",
       "      <td>83.70</td>\n",
       "      <td>1.40</td>\n",
       "      <td>809</td>\n",
       "      <td>44</td>\n",
       "      <td>5.44</td>\n",
       "      <td>Americas</td>\n",
       "    </tr>\n",
       "    <tr>\n",
       "      <th>87</th>\n",
       "      <td>Japan</td>\n",
       "      <td>31142</td>\n",
       "      <td>998</td>\n",
       "      <td>21970</td>\n",
       "      <td>8174</td>\n",
       "      <td>594</td>\n",
       "      <td>0</td>\n",
       "      <td>364</td>\n",
       "      <td>3.20</td>\n",
       "      <td>70.55</td>\n",
       "      <td>4.54</td>\n",
       "      <td>25706</td>\n",
       "      <td>5436</td>\n",
       "      <td>21.15</td>\n",
       "      <td>Western Pacific</td>\n",
       "    </tr>\n",
       "    <tr>\n",
       "      <th>88</th>\n",
       "      <td>Jordan</td>\n",
       "      <td>1176</td>\n",
       "      <td>11</td>\n",
       "      <td>1041</td>\n",
       "      <td>124</td>\n",
       "      <td>8</td>\n",
       "      <td>0</td>\n",
       "      <td>0</td>\n",
       "      <td>0.94</td>\n",
       "      <td>88.52</td>\n",
       "      <td>1.06</td>\n",
       "      <td>1223</td>\n",
       "      <td>-47</td>\n",
       "      <td>-3.84</td>\n",
       "      <td>Eastern Mediterranean</td>\n",
       "    </tr>\n",
       "    <tr>\n",
       "      <th>89</th>\n",
       "      <td>Kazakhstan</td>\n",
       "      <td>84648</td>\n",
       "      <td>585</td>\n",
       "      <td>54404</td>\n",
       "      <td>29659</td>\n",
       "      <td>1526</td>\n",
       "      <td>0</td>\n",
       "      <td>1833</td>\n",
       "      <td>0.69</td>\n",
       "      <td>64.27</td>\n",
       "      <td>1.08</td>\n",
       "      <td>73468</td>\n",
       "      <td>11180</td>\n",
       "      <td>15.22</td>\n",
       "      <td>Europe</td>\n",
       "    </tr>\n",
       "    <tr>\n",
       "      <th>90</th>\n",
       "      <td>Kenya</td>\n",
       "      <td>17975</td>\n",
       "      <td>285</td>\n",
       "      <td>7833</td>\n",
       "      <td>9857</td>\n",
       "      <td>372</td>\n",
       "      <td>5</td>\n",
       "      <td>90</td>\n",
       "      <td>1.59</td>\n",
       "      <td>43.58</td>\n",
       "      <td>3.64</td>\n",
       "      <td>13771</td>\n",
       "      <td>4204</td>\n",
       "      <td>30.53</td>\n",
       "      <td>Africa</td>\n",
       "    </tr>\n",
       "    <tr>\n",
       "      <th>91</th>\n",
       "      <td>Kosovo</td>\n",
       "      <td>7413</td>\n",
       "      <td>185</td>\n",
       "      <td>4027</td>\n",
       "      <td>3201</td>\n",
       "      <td>496</td>\n",
       "      <td>16</td>\n",
       "      <td>274</td>\n",
       "      <td>2.50</td>\n",
       "      <td>54.32</td>\n",
       "      <td>4.59</td>\n",
       "      <td>5877</td>\n",
       "      <td>1536</td>\n",
       "      <td>26.14</td>\n",
       "      <td>Europe</td>\n",
       "    </tr>\n",
       "    <tr>\n",
       "      <th>92</th>\n",
       "      <td>Kuwait</td>\n",
       "      <td>64379</td>\n",
       "      <td>438</td>\n",
       "      <td>55057</td>\n",
       "      <td>8884</td>\n",
       "      <td>606</td>\n",
       "      <td>5</td>\n",
       "      <td>684</td>\n",
       "      <td>0.68</td>\n",
       "      <td>85.52</td>\n",
       "      <td>0.80</td>\n",
       "      <td>59763</td>\n",
       "      <td>4616</td>\n",
       "      <td>7.72</td>\n",
       "      <td>Eastern Mediterranean</td>\n",
       "    </tr>\n",
       "    <tr>\n",
       "      <th>93</th>\n",
       "      <td>Kyrgyzstan</td>\n",
       "      <td>33296</td>\n",
       "      <td>1301</td>\n",
       "      <td>21205</td>\n",
       "      <td>10790</td>\n",
       "      <td>483</td>\n",
       "      <td>24</td>\n",
       "      <td>817</td>\n",
       "      <td>3.91</td>\n",
       "      <td>63.69</td>\n",
       "      <td>6.14</td>\n",
       "      <td>27143</td>\n",
       "      <td>6153</td>\n",
       "      <td>22.67</td>\n",
       "      <td>Europe</td>\n",
       "    </tr>\n",
       "    <tr>\n",
       "      <th>94</th>\n",
       "      <td>Laos</td>\n",
       "      <td>20</td>\n",
       "      <td>0</td>\n",
       "      <td>19</td>\n",
       "      <td>1</td>\n",
       "      <td>0</td>\n",
       "      <td>0</td>\n",
       "      <td>0</td>\n",
       "      <td>0.00</td>\n",
       "      <td>95.00</td>\n",
       "      <td>0.00</td>\n",
       "      <td>19</td>\n",
       "      <td>1</td>\n",
       "      <td>5.26</td>\n",
       "      <td>Western Pacific</td>\n",
       "    </tr>\n",
       "    <tr>\n",
       "      <th>95</th>\n",
       "      <td>Latvia</td>\n",
       "      <td>1219</td>\n",
       "      <td>31</td>\n",
       "      <td>1045</td>\n",
       "      <td>143</td>\n",
       "      <td>0</td>\n",
       "      <td>0</td>\n",
       "      <td>0</td>\n",
       "      <td>2.54</td>\n",
       "      <td>85.73</td>\n",
       "      <td>2.97</td>\n",
       "      <td>1192</td>\n",
       "      <td>27</td>\n",
       "      <td>2.27</td>\n",
       "      <td>Europe</td>\n",
       "    </tr>\n",
       "    <tr>\n",
       "      <th>96</th>\n",
       "      <td>Lebanon</td>\n",
       "      <td>3882</td>\n",
       "      <td>51</td>\n",
       "      <td>1709</td>\n",
       "      <td>2122</td>\n",
       "      <td>132</td>\n",
       "      <td>0</td>\n",
       "      <td>17</td>\n",
       "      <td>1.31</td>\n",
       "      <td>44.02</td>\n",
       "      <td>2.98</td>\n",
       "      <td>2905</td>\n",
       "      <td>977</td>\n",
       "      <td>33.63</td>\n",
       "      <td>Eastern Mediterranean</td>\n",
       "    </tr>\n",
       "    <tr>\n",
       "      <th>97</th>\n",
       "      <td>Lesotho</td>\n",
       "      <td>505</td>\n",
       "      <td>12</td>\n",
       "      <td>128</td>\n",
       "      <td>365</td>\n",
       "      <td>0</td>\n",
       "      <td>0</td>\n",
       "      <td>0</td>\n",
       "      <td>2.38</td>\n",
       "      <td>25.35</td>\n",
       "      <td>9.38</td>\n",
       "      <td>359</td>\n",
       "      <td>146</td>\n",
       "      <td>40.67</td>\n",
       "      <td>Africa</td>\n",
       "    </tr>\n",
       "    <tr>\n",
       "      <th>98</th>\n",
       "      <td>Liberia</td>\n",
       "      <td>1167</td>\n",
       "      <td>72</td>\n",
       "      <td>646</td>\n",
       "      <td>449</td>\n",
       "      <td>5</td>\n",
       "      <td>0</td>\n",
       "      <td>5</td>\n",
       "      <td>6.17</td>\n",
       "      <td>55.36</td>\n",
       "      <td>11.15</td>\n",
       "      <td>1107</td>\n",
       "      <td>60</td>\n",
       "      <td>5.42</td>\n",
       "      <td>Africa</td>\n",
       "    </tr>\n",
       "    <tr>\n",
       "      <th>99</th>\n",
       "      <td>Libya</td>\n",
       "      <td>2827</td>\n",
       "      <td>64</td>\n",
       "      <td>577</td>\n",
       "      <td>2186</td>\n",
       "      <td>158</td>\n",
       "      <td>4</td>\n",
       "      <td>24</td>\n",
       "      <td>2.26</td>\n",
       "      <td>20.41</td>\n",
       "      <td>11.09</td>\n",
       "      <td>1980</td>\n",
       "      <td>847</td>\n",
       "      <td>42.78</td>\n",
       "      <td>Eastern Mediterranean</td>\n",
       "    </tr>\n",
       "    <tr>\n",
       "      <th>100</th>\n",
       "      <td>Liechtenstein</td>\n",
       "      <td>86</td>\n",
       "      <td>1</td>\n",
       "      <td>81</td>\n",
       "      <td>4</td>\n",
       "      <td>0</td>\n",
       "      <td>0</td>\n",
       "      <td>0</td>\n",
       "      <td>1.16</td>\n",
       "      <td>94.19</td>\n",
       "      <td>1.23</td>\n",
       "      <td>86</td>\n",
       "      <td>0</td>\n",
       "      <td>0.00</td>\n",
       "      <td>Europe</td>\n",
       "    </tr>\n",
       "    <tr>\n",
       "      <th>101</th>\n",
       "      <td>Lithuania</td>\n",
       "      <td>2019</td>\n",
       "      <td>80</td>\n",
       "      <td>1620</td>\n",
       "      <td>319</td>\n",
       "      <td>11</td>\n",
       "      <td>0</td>\n",
       "      <td>4</td>\n",
       "      <td>3.96</td>\n",
       "      <td>80.24</td>\n",
       "      <td>4.94</td>\n",
       "      <td>1947</td>\n",
       "      <td>72</td>\n",
       "      <td>3.70</td>\n",
       "      <td>Europe</td>\n",
       "    </tr>\n",
       "    <tr>\n",
       "      <th>102</th>\n",
       "      <td>Luxembourg</td>\n",
       "      <td>6321</td>\n",
       "      <td>112</td>\n",
       "      <td>4825</td>\n",
       "      <td>1384</td>\n",
       "      <td>49</td>\n",
       "      <td>0</td>\n",
       "      <td>178</td>\n",
       "      <td>1.77</td>\n",
       "      <td>76.33</td>\n",
       "      <td>2.32</td>\n",
       "      <td>5639</td>\n",
       "      <td>682</td>\n",
       "      <td>12.09</td>\n",
       "      <td>Europe</td>\n",
       "    </tr>\n",
       "    <tr>\n",
       "      <th>103</th>\n",
       "      <td>Madagascar</td>\n",
       "      <td>9690</td>\n",
       "      <td>91</td>\n",
       "      <td>6260</td>\n",
       "      <td>3339</td>\n",
       "      <td>395</td>\n",
       "      <td>6</td>\n",
       "      <td>681</td>\n",
       "      <td>0.94</td>\n",
       "      <td>64.60</td>\n",
       "      <td>1.45</td>\n",
       "      <td>7153</td>\n",
       "      <td>2537</td>\n",
       "      <td>35.47</td>\n",
       "      <td>Africa</td>\n",
       "    </tr>\n",
       "    <tr>\n",
       "      <th>104</th>\n",
       "      <td>Malawi</td>\n",
       "      <td>3664</td>\n",
       "      <td>99</td>\n",
       "      <td>1645</td>\n",
       "      <td>1920</td>\n",
       "      <td>24</td>\n",
       "      <td>0</td>\n",
       "      <td>6</td>\n",
       "      <td>2.70</td>\n",
       "      <td>44.90</td>\n",
       "      <td>6.02</td>\n",
       "      <td>2992</td>\n",
       "      <td>672</td>\n",
       "      <td>22.46</td>\n",
       "      <td>Africa</td>\n",
       "    </tr>\n",
       "    <tr>\n",
       "      <th>105</th>\n",
       "      <td>Malaysia</td>\n",
       "      <td>8904</td>\n",
       "      <td>124</td>\n",
       "      <td>8601</td>\n",
       "      <td>179</td>\n",
       "      <td>7</td>\n",
       "      <td>0</td>\n",
       "      <td>1</td>\n",
       "      <td>1.39</td>\n",
       "      <td>96.60</td>\n",
       "      <td>1.44</td>\n",
       "      <td>8800</td>\n",
       "      <td>104</td>\n",
       "      <td>1.18</td>\n",
       "      <td>Western Pacific</td>\n",
       "    </tr>\n",
       "    <tr>\n",
       "      <th>106</th>\n",
       "      <td>Maldives</td>\n",
       "      <td>3369</td>\n",
       "      <td>15</td>\n",
       "      <td>2547</td>\n",
       "      <td>807</td>\n",
       "      <td>67</td>\n",
       "      <td>0</td>\n",
       "      <td>19</td>\n",
       "      <td>0.45</td>\n",
       "      <td>75.60</td>\n",
       "      <td>0.59</td>\n",
       "      <td>2999</td>\n",
       "      <td>370</td>\n",
       "      <td>12.34</td>\n",
       "      <td>South-East Asia</td>\n",
       "    </tr>\n",
       "    <tr>\n",
       "      <th>107</th>\n",
       "      <td>Mali</td>\n",
       "      <td>2513</td>\n",
       "      <td>124</td>\n",
       "      <td>1913</td>\n",
       "      <td>476</td>\n",
       "      <td>3</td>\n",
       "      <td>1</td>\n",
       "      <td>2</td>\n",
       "      <td>4.93</td>\n",
       "      <td>76.12</td>\n",
       "      <td>6.48</td>\n",
       "      <td>2475</td>\n",
       "      <td>38</td>\n",
       "      <td>1.54</td>\n",
       "      <td>Africa</td>\n",
       "    </tr>\n",
       "    <tr>\n",
       "      <th>108</th>\n",
       "      <td>Malta</td>\n",
       "      <td>701</td>\n",
       "      <td>9</td>\n",
       "      <td>665</td>\n",
       "      <td>27</td>\n",
       "      <td>1</td>\n",
       "      <td>0</td>\n",
       "      <td>0</td>\n",
       "      <td>1.28</td>\n",
       "      <td>94.86</td>\n",
       "      <td>1.35</td>\n",
       "      <td>677</td>\n",
       "      <td>24</td>\n",
       "      <td>3.55</td>\n",
       "      <td>Europe</td>\n",
       "    </tr>\n",
       "    <tr>\n",
       "      <th>109</th>\n",
       "      <td>Mauritania</td>\n",
       "      <td>6208</td>\n",
       "      <td>156</td>\n",
       "      <td>4653</td>\n",
       "      <td>1399</td>\n",
       "      <td>37</td>\n",
       "      <td>0</td>\n",
       "      <td>223</td>\n",
       "      <td>2.51</td>\n",
       "      <td>74.95</td>\n",
       "      <td>3.35</td>\n",
       "      <td>5923</td>\n",
       "      <td>285</td>\n",
       "      <td>4.81</td>\n",
       "      <td>Africa</td>\n",
       "    </tr>\n",
       "    <tr>\n",
       "      <th>110</th>\n",
       "      <td>Mauritius</td>\n",
       "      <td>344</td>\n",
       "      <td>10</td>\n",
       "      <td>332</td>\n",
       "      <td>2</td>\n",
       "      <td>0</td>\n",
       "      <td>0</td>\n",
       "      <td>0</td>\n",
       "      <td>2.91</td>\n",
       "      <td>96.51</td>\n",
       "      <td>3.01</td>\n",
       "      <td>343</td>\n",
       "      <td>1</td>\n",
       "      <td>0.29</td>\n",
       "      <td>Africa</td>\n",
       "    </tr>\n",
       "    <tr>\n",
       "      <th>111</th>\n",
       "      <td>Mexico</td>\n",
       "      <td>395489</td>\n",
       "      <td>44022</td>\n",
       "      <td>303810</td>\n",
       "      <td>47657</td>\n",
       "      <td>4973</td>\n",
       "      <td>342</td>\n",
       "      <td>8588</td>\n",
       "      <td>11.13</td>\n",
       "      <td>76.82</td>\n",
       "      <td>14.49</td>\n",
       "      <td>349396</td>\n",
       "      <td>46093</td>\n",
       "      <td>13.19</td>\n",
       "      <td>Americas</td>\n",
       "    </tr>\n",
       "    <tr>\n",
       "      <th>112</th>\n",
       "      <td>Moldova</td>\n",
       "      <td>23154</td>\n",
       "      <td>748</td>\n",
       "      <td>16154</td>\n",
       "      <td>6252</td>\n",
       "      <td>120</td>\n",
       "      <td>13</td>\n",
       "      <td>245</td>\n",
       "      <td>3.23</td>\n",
       "      <td>69.77</td>\n",
       "      <td>4.63</td>\n",
       "      <td>21115</td>\n",
       "      <td>2039</td>\n",
       "      <td>9.66</td>\n",
       "      <td>Europe</td>\n",
       "    </tr>\n",
       "    <tr>\n",
       "      <th>113</th>\n",
       "      <td>Monaco</td>\n",
       "      <td>116</td>\n",
       "      <td>4</td>\n",
       "      <td>104</td>\n",
       "      <td>8</td>\n",
       "      <td>0</td>\n",
       "      <td>0</td>\n",
       "      <td>0</td>\n",
       "      <td>3.45</td>\n",
       "      <td>89.66</td>\n",
       "      <td>3.85</td>\n",
       "      <td>109</td>\n",
       "      <td>7</td>\n",
       "      <td>6.42</td>\n",
       "      <td>Europe</td>\n",
       "    </tr>\n",
       "    <tr>\n",
       "      <th>114</th>\n",
       "      <td>Mongolia</td>\n",
       "      <td>289</td>\n",
       "      <td>0</td>\n",
       "      <td>222</td>\n",
       "      <td>67</td>\n",
       "      <td>1</td>\n",
       "      <td>0</td>\n",
       "      <td>4</td>\n",
       "      <td>0.00</td>\n",
       "      <td>76.82</td>\n",
       "      <td>0.00</td>\n",
       "      <td>287</td>\n",
       "      <td>2</td>\n",
       "      <td>0.70</td>\n",
       "      <td>Western Pacific</td>\n",
       "    </tr>\n",
       "    <tr>\n",
       "      <th>115</th>\n",
       "      <td>Montenegro</td>\n",
       "      <td>2893</td>\n",
       "      <td>45</td>\n",
       "      <td>809</td>\n",
       "      <td>2039</td>\n",
       "      <td>94</td>\n",
       "      <td>2</td>\n",
       "      <td>70</td>\n",
       "      <td>1.56</td>\n",
       "      <td>27.96</td>\n",
       "      <td>5.56</td>\n",
       "      <td>2188</td>\n",
       "      <td>705</td>\n",
       "      <td>32.22</td>\n",
       "      <td>Europe</td>\n",
       "    </tr>\n",
       "    <tr>\n",
       "      <th>116</th>\n",
       "      <td>Morocco</td>\n",
       "      <td>20887</td>\n",
       "      <td>316</td>\n",
       "      <td>16553</td>\n",
       "      <td>4018</td>\n",
       "      <td>609</td>\n",
       "      <td>3</td>\n",
       "      <td>115</td>\n",
       "      <td>1.51</td>\n",
       "      <td>79.25</td>\n",
       "      <td>1.91</td>\n",
       "      <td>17562</td>\n",
       "      <td>3325</td>\n",
       "      <td>18.93</td>\n",
       "      <td>Eastern Mediterranean</td>\n",
       "    </tr>\n",
       "    <tr>\n",
       "      <th>117</th>\n",
       "      <td>Mozambique</td>\n",
       "      <td>1701</td>\n",
       "      <td>11</td>\n",
       "      <td>0</td>\n",
       "      <td>1690</td>\n",
       "      <td>32</td>\n",
       "      <td>0</td>\n",
       "      <td>0</td>\n",
       "      <td>0.65</td>\n",
       "      <td>0.00</td>\n",
       "      <td>inf</td>\n",
       "      <td>1507</td>\n",
       "      <td>194</td>\n",
       "      <td>12.87</td>\n",
       "      <td>Africa</td>\n",
       "    </tr>\n",
       "    <tr>\n",
       "      <th>118</th>\n",
       "      <td>Namibia</td>\n",
       "      <td>1843</td>\n",
       "      <td>8</td>\n",
       "      <td>101</td>\n",
       "      <td>1734</td>\n",
       "      <td>68</td>\n",
       "      <td>0</td>\n",
       "      <td>26</td>\n",
       "      <td>0.43</td>\n",
       "      <td>5.48</td>\n",
       "      <td>7.92</td>\n",
       "      <td>1344</td>\n",
       "      <td>499</td>\n",
       "      <td>37.13</td>\n",
       "      <td>Africa</td>\n",
       "    </tr>\n",
       "    <tr>\n",
       "      <th>119</th>\n",
       "      <td>Nepal</td>\n",
       "      <td>18752</td>\n",
       "      <td>48</td>\n",
       "      <td>13754</td>\n",
       "      <td>4950</td>\n",
       "      <td>139</td>\n",
       "      <td>3</td>\n",
       "      <td>626</td>\n",
       "      <td>0.26</td>\n",
       "      <td>73.35</td>\n",
       "      <td>0.35</td>\n",
       "      <td>17844</td>\n",
       "      <td>908</td>\n",
       "      <td>5.09</td>\n",
       "      <td>South-East Asia</td>\n",
       "    </tr>\n",
       "    <tr>\n",
       "      <th>120</th>\n",
       "      <td>Netherlands</td>\n",
       "      <td>53413</td>\n",
       "      <td>6160</td>\n",
       "      <td>189</td>\n",
       "      <td>47064</td>\n",
       "      <td>419</td>\n",
       "      <td>1</td>\n",
       "      <td>0</td>\n",
       "      <td>11.53</td>\n",
       "      <td>0.35</td>\n",
       "      <td>3259.26</td>\n",
       "      <td>52132</td>\n",
       "      <td>1281</td>\n",
       "      <td>2.46</td>\n",
       "      <td>Europe</td>\n",
       "    </tr>\n",
       "    <tr>\n",
       "      <th>121</th>\n",
       "      <td>New Zealand</td>\n",
       "      <td>1557</td>\n",
       "      <td>22</td>\n",
       "      <td>1514</td>\n",
       "      <td>21</td>\n",
       "      <td>1</td>\n",
       "      <td>0</td>\n",
       "      <td>1</td>\n",
       "      <td>1.41</td>\n",
       "      <td>97.24</td>\n",
       "      <td>1.45</td>\n",
       "      <td>1555</td>\n",
       "      <td>2</td>\n",
       "      <td>0.13</td>\n",
       "      <td>Western Pacific</td>\n",
       "    </tr>\n",
       "    <tr>\n",
       "      <th>122</th>\n",
       "      <td>Nicaragua</td>\n",
       "      <td>3439</td>\n",
       "      <td>108</td>\n",
       "      <td>2492</td>\n",
       "      <td>839</td>\n",
       "      <td>0</td>\n",
       "      <td>0</td>\n",
       "      <td>0</td>\n",
       "      <td>3.14</td>\n",
       "      <td>72.46</td>\n",
       "      <td>4.33</td>\n",
       "      <td>3147</td>\n",
       "      <td>292</td>\n",
       "      <td>9.28</td>\n",
       "      <td>Americas</td>\n",
       "    </tr>\n",
       "    <tr>\n",
       "      <th>123</th>\n",
       "      <td>Niger</td>\n",
       "      <td>1132</td>\n",
       "      <td>69</td>\n",
       "      <td>1027</td>\n",
       "      <td>36</td>\n",
       "      <td>0</td>\n",
       "      <td>0</td>\n",
       "      <td>0</td>\n",
       "      <td>6.10</td>\n",
       "      <td>90.72</td>\n",
       "      <td>6.72</td>\n",
       "      <td>1105</td>\n",
       "      <td>27</td>\n",
       "      <td>2.44</td>\n",
       "      <td>Africa</td>\n",
       "    </tr>\n",
       "    <tr>\n",
       "      <th>124</th>\n",
       "      <td>Nigeria</td>\n",
       "      <td>41180</td>\n",
       "      <td>860</td>\n",
       "      <td>18203</td>\n",
       "      <td>22117</td>\n",
       "      <td>648</td>\n",
       "      <td>2</td>\n",
       "      <td>829</td>\n",
       "      <td>2.09</td>\n",
       "      <td>44.20</td>\n",
       "      <td>4.72</td>\n",
       "      <td>37225</td>\n",
       "      <td>3955</td>\n",
       "      <td>10.62</td>\n",
       "      <td>Africa</td>\n",
       "    </tr>\n",
       "    <tr>\n",
       "      <th>125</th>\n",
       "      <td>North Macedonia</td>\n",
       "      <td>10213</td>\n",
       "      <td>466</td>\n",
       "      <td>5564</td>\n",
       "      <td>4183</td>\n",
       "      <td>127</td>\n",
       "      <td>6</td>\n",
       "      <td>137</td>\n",
       "      <td>4.56</td>\n",
       "      <td>54.48</td>\n",
       "      <td>8.38</td>\n",
       "      <td>9249</td>\n",
       "      <td>964</td>\n",
       "      <td>10.42</td>\n",
       "      <td>Europe</td>\n",
       "    </tr>\n",
       "    <tr>\n",
       "      <th>126</th>\n",
       "      <td>Norway</td>\n",
       "      <td>9132</td>\n",
       "      <td>255</td>\n",
       "      <td>8752</td>\n",
       "      <td>125</td>\n",
       "      <td>15</td>\n",
       "      <td>0</td>\n",
       "      <td>0</td>\n",
       "      <td>2.79</td>\n",
       "      <td>95.84</td>\n",
       "      <td>2.91</td>\n",
       "      <td>9034</td>\n",
       "      <td>98</td>\n",
       "      <td>1.08</td>\n",
       "      <td>Europe</td>\n",
       "    </tr>\n",
       "    <tr>\n",
       "      <th>127</th>\n",
       "      <td>Oman</td>\n",
       "      <td>77058</td>\n",
       "      <td>393</td>\n",
       "      <td>57028</td>\n",
       "      <td>19637</td>\n",
       "      <td>1053</td>\n",
       "      <td>9</td>\n",
       "      <td>1729</td>\n",
       "      <td>0.51</td>\n",
       "      <td>74.01</td>\n",
       "      <td>0.69</td>\n",
       "      <td>68400</td>\n",
       "      <td>8658</td>\n",
       "      <td>12.66</td>\n",
       "      <td>Eastern Mediterranean</td>\n",
       "    </tr>\n",
       "    <tr>\n",
       "      <th>128</th>\n",
       "      <td>Pakistan</td>\n",
       "      <td>274289</td>\n",
       "      <td>5842</td>\n",
       "      <td>241026</td>\n",
       "      <td>27421</td>\n",
       "      <td>1176</td>\n",
       "      <td>20</td>\n",
       "      <td>3592</td>\n",
       "      <td>2.13</td>\n",
       "      <td>87.87</td>\n",
       "      <td>2.42</td>\n",
       "      <td>266096</td>\n",
       "      <td>8193</td>\n",
       "      <td>3.08</td>\n",
       "      <td>Eastern Mediterranean</td>\n",
       "    </tr>\n",
       "    <tr>\n",
       "      <th>129</th>\n",
       "      <td>Panama</td>\n",
       "      <td>61442</td>\n",
       "      <td>1322</td>\n",
       "      <td>35086</td>\n",
       "      <td>25034</td>\n",
       "      <td>1146</td>\n",
       "      <td>28</td>\n",
       "      <td>955</td>\n",
       "      <td>2.15</td>\n",
       "      <td>57.10</td>\n",
       "      <td>3.77</td>\n",
       "      <td>54426</td>\n",
       "      <td>7016</td>\n",
       "      <td>12.89</td>\n",
       "      <td>Americas</td>\n",
       "    </tr>\n",
       "    <tr>\n",
       "      <th>130</th>\n",
       "      <td>Papua New Guinea</td>\n",
       "      <td>62</td>\n",
       "      <td>0</td>\n",
       "      <td>11</td>\n",
       "      <td>51</td>\n",
       "      <td>0</td>\n",
       "      <td>0</td>\n",
       "      <td>0</td>\n",
       "      <td>0.00</td>\n",
       "      <td>17.74</td>\n",
       "      <td>0.00</td>\n",
       "      <td>19</td>\n",
       "      <td>43</td>\n",
       "      <td>226.32</td>\n",
       "      <td>Western Pacific</td>\n",
       "    </tr>\n",
       "    <tr>\n",
       "      <th>131</th>\n",
       "      <td>Paraguay</td>\n",
       "      <td>4548</td>\n",
       "      <td>43</td>\n",
       "      <td>2905</td>\n",
       "      <td>1600</td>\n",
       "      <td>104</td>\n",
       "      <td>2</td>\n",
       "      <td>111</td>\n",
       "      <td>0.95</td>\n",
       "      <td>63.87</td>\n",
       "      <td>1.48</td>\n",
       "      <td>3748</td>\n",
       "      <td>800</td>\n",
       "      <td>21.34</td>\n",
       "      <td>Americas</td>\n",
       "    </tr>\n",
       "    <tr>\n",
       "      <th>132</th>\n",
       "      <td>Peru</td>\n",
       "      <td>389717</td>\n",
       "      <td>18418</td>\n",
       "      <td>272547</td>\n",
       "      <td>98752</td>\n",
       "      <td>13756</td>\n",
       "      <td>575</td>\n",
       "      <td>4697</td>\n",
       "      <td>4.73</td>\n",
       "      <td>69.93</td>\n",
       "      <td>6.76</td>\n",
       "      <td>357681</td>\n",
       "      <td>32036</td>\n",
       "      <td>8.96</td>\n",
       "      <td>Americas</td>\n",
       "    </tr>\n",
       "    <tr>\n",
       "      <th>133</th>\n",
       "      <td>Philippines</td>\n",
       "      <td>82040</td>\n",
       "      <td>1945</td>\n",
       "      <td>26446</td>\n",
       "      <td>53649</td>\n",
       "      <td>1592</td>\n",
       "      <td>13</td>\n",
       "      <td>336</td>\n",
       "      <td>2.37</td>\n",
       "      <td>32.24</td>\n",
       "      <td>7.35</td>\n",
       "      <td>68898</td>\n",
       "      <td>13142</td>\n",
       "      <td>19.07</td>\n",
       "      <td>Western Pacific</td>\n",
       "    </tr>\n",
       "    <tr>\n",
       "      <th>134</th>\n",
       "      <td>Poland</td>\n",
       "      <td>43402</td>\n",
       "      <td>1676</td>\n",
       "      <td>32856</td>\n",
       "      <td>8870</td>\n",
       "      <td>337</td>\n",
       "      <td>5</td>\n",
       "      <td>103</td>\n",
       "      <td>3.86</td>\n",
       "      <td>75.70</td>\n",
       "      <td>5.10</td>\n",
       "      <td>40383</td>\n",
       "      <td>3019</td>\n",
       "      <td>7.48</td>\n",
       "      <td>Europe</td>\n",
       "    </tr>\n",
       "    <tr>\n",
       "      <th>135</th>\n",
       "      <td>Portugal</td>\n",
       "      <td>50299</td>\n",
       "      <td>1719</td>\n",
       "      <td>35375</td>\n",
       "      <td>13205</td>\n",
       "      <td>135</td>\n",
       "      <td>2</td>\n",
       "      <td>158</td>\n",
       "      <td>3.42</td>\n",
       "      <td>70.33</td>\n",
       "      <td>4.86</td>\n",
       "      <td>48771</td>\n",
       "      <td>1528</td>\n",
       "      <td>3.13</td>\n",
       "      <td>Europe</td>\n",
       "    </tr>\n",
       "    <tr>\n",
       "      <th>136</th>\n",
       "      <td>Qatar</td>\n",
       "      <td>109597</td>\n",
       "      <td>165</td>\n",
       "      <td>106328</td>\n",
       "      <td>3104</td>\n",
       "      <td>292</td>\n",
       "      <td>0</td>\n",
       "      <td>304</td>\n",
       "      <td>0.15</td>\n",
       "      <td>97.02</td>\n",
       "      <td>0.16</td>\n",
       "      <td>107037</td>\n",
       "      <td>2560</td>\n",
       "      <td>2.39</td>\n",
       "      <td>Eastern Mediterranean</td>\n",
       "    </tr>\n",
       "    <tr>\n",
       "      <th>137</th>\n",
       "      <td>Romania</td>\n",
       "      <td>45902</td>\n",
       "      <td>2206</td>\n",
       "      <td>25794</td>\n",
       "      <td>17902</td>\n",
       "      <td>1104</td>\n",
       "      <td>19</td>\n",
       "      <td>151</td>\n",
       "      <td>4.81</td>\n",
       "      <td>56.19</td>\n",
       "      <td>8.55</td>\n",
       "      <td>38139</td>\n",
       "      <td>7763</td>\n",
       "      <td>20.35</td>\n",
       "      <td>Europe</td>\n",
       "    </tr>\n",
       "    <tr>\n",
       "      <th>138</th>\n",
       "      <td>Russia</td>\n",
       "      <td>816680</td>\n",
       "      <td>13334</td>\n",
       "      <td>602249</td>\n",
       "      <td>201097</td>\n",
       "      <td>5607</td>\n",
       "      <td>85</td>\n",
       "      <td>3077</td>\n",
       "      <td>1.63</td>\n",
       "      <td>73.74</td>\n",
       "      <td>2.21</td>\n",
       "      <td>776212</td>\n",
       "      <td>40468</td>\n",
       "      <td>5.21</td>\n",
       "      <td>Europe</td>\n",
       "    </tr>\n",
       "    <tr>\n",
       "      <th>139</th>\n",
       "      <td>Rwanda</td>\n",
       "      <td>1879</td>\n",
       "      <td>5</td>\n",
       "      <td>975</td>\n",
       "      <td>899</td>\n",
       "      <td>58</td>\n",
       "      <td>0</td>\n",
       "      <td>57</td>\n",
       "      <td>0.27</td>\n",
       "      <td>51.89</td>\n",
       "      <td>0.51</td>\n",
       "      <td>1629</td>\n",
       "      <td>250</td>\n",
       "      <td>15.35</td>\n",
       "      <td>Africa</td>\n",
       "    </tr>\n",
       "    <tr>\n",
       "      <th>140</th>\n",
       "      <td>Saint Kitts and Nevis</td>\n",
       "      <td>17</td>\n",
       "      <td>0</td>\n",
       "      <td>15</td>\n",
       "      <td>2</td>\n",
       "      <td>0</td>\n",
       "      <td>0</td>\n",
       "      <td>0</td>\n",
       "      <td>0.00</td>\n",
       "      <td>88.24</td>\n",
       "      <td>0.00</td>\n",
       "      <td>17</td>\n",
       "      <td>0</td>\n",
       "      <td>0.00</td>\n",
       "      <td>Americas</td>\n",
       "    </tr>\n",
       "    <tr>\n",
       "      <th>141</th>\n",
       "      <td>Saint Lucia</td>\n",
       "      <td>24</td>\n",
       "      <td>0</td>\n",
       "      <td>22</td>\n",
       "      <td>2</td>\n",
       "      <td>0</td>\n",
       "      <td>0</td>\n",
       "      <td>0</td>\n",
       "      <td>0.00</td>\n",
       "      <td>91.67</td>\n",
       "      <td>0.00</td>\n",
       "      <td>23</td>\n",
       "      <td>1</td>\n",
       "      <td>4.35</td>\n",
       "      <td>Americas</td>\n",
       "    </tr>\n",
       "    <tr>\n",
       "      <th>142</th>\n",
       "      <td>Saint Vincent and the Grenadines</td>\n",
       "      <td>52</td>\n",
       "      <td>0</td>\n",
       "      <td>39</td>\n",
       "      <td>13</td>\n",
       "      <td>0</td>\n",
       "      <td>0</td>\n",
       "      <td>0</td>\n",
       "      <td>0.00</td>\n",
       "      <td>75.00</td>\n",
       "      <td>0.00</td>\n",
       "      <td>50</td>\n",
       "      <td>2</td>\n",
       "      <td>4.00</td>\n",
       "      <td>Americas</td>\n",
       "    </tr>\n",
       "    <tr>\n",
       "      <th>143</th>\n",
       "      <td>San Marino</td>\n",
       "      <td>699</td>\n",
       "      <td>42</td>\n",
       "      <td>657</td>\n",
       "      <td>0</td>\n",
       "      <td>0</td>\n",
       "      <td>0</td>\n",
       "      <td>0</td>\n",
       "      <td>6.01</td>\n",
       "      <td>93.99</td>\n",
       "      <td>6.39</td>\n",
       "      <td>699</td>\n",
       "      <td>0</td>\n",
       "      <td>0.00</td>\n",
       "      <td>Europe</td>\n",
       "    </tr>\n",
       "    <tr>\n",
       "      <th>144</th>\n",
       "      <td>Sao Tome and Principe</td>\n",
       "      <td>865</td>\n",
       "      <td>14</td>\n",
       "      <td>734</td>\n",
       "      <td>117</td>\n",
       "      <td>2</td>\n",
       "      <td>0</td>\n",
       "      <td>38</td>\n",
       "      <td>1.62</td>\n",
       "      <td>84.86</td>\n",
       "      <td>1.91</td>\n",
       "      <td>746</td>\n",
       "      <td>119</td>\n",
       "      <td>15.95</td>\n",
       "      <td>Africa</td>\n",
       "    </tr>\n",
       "    <tr>\n",
       "      <th>145</th>\n",
       "      <td>Saudi Arabia</td>\n",
       "      <td>268934</td>\n",
       "      <td>2760</td>\n",
       "      <td>222936</td>\n",
       "      <td>43238</td>\n",
       "      <td>1993</td>\n",
       "      <td>27</td>\n",
       "      <td>2613</td>\n",
       "      <td>1.03</td>\n",
       "      <td>82.90</td>\n",
       "      <td>1.24</td>\n",
       "      <td>253349</td>\n",
       "      <td>15585</td>\n",
       "      <td>6.15</td>\n",
       "      <td>Eastern Mediterranean</td>\n",
       "    </tr>\n",
       "    <tr>\n",
       "      <th>146</th>\n",
       "      <td>Senegal</td>\n",
       "      <td>9764</td>\n",
       "      <td>194</td>\n",
       "      <td>6477</td>\n",
       "      <td>3093</td>\n",
       "      <td>83</td>\n",
       "      <td>3</td>\n",
       "      <td>68</td>\n",
       "      <td>1.99</td>\n",
       "      <td>66.34</td>\n",
       "      <td>3.00</td>\n",
       "      <td>8948</td>\n",
       "      <td>816</td>\n",
       "      <td>9.12</td>\n",
       "      <td>Africa</td>\n",
       "    </tr>\n",
       "    <tr>\n",
       "      <th>147</th>\n",
       "      <td>Serbia</td>\n",
       "      <td>24141</td>\n",
       "      <td>543</td>\n",
       "      <td>0</td>\n",
       "      <td>23598</td>\n",
       "      <td>411</td>\n",
       "      <td>9</td>\n",
       "      <td>0</td>\n",
       "      <td>2.25</td>\n",
       "      <td>0.00</td>\n",
       "      <td>inf</td>\n",
       "      <td>21253</td>\n",
       "      <td>2888</td>\n",
       "      <td>13.59</td>\n",
       "      <td>Europe</td>\n",
       "    </tr>\n",
       "    <tr>\n",
       "      <th>148</th>\n",
       "      <td>Seychelles</td>\n",
       "      <td>114</td>\n",
       "      <td>0</td>\n",
       "      <td>39</td>\n",
       "      <td>75</td>\n",
       "      <td>0</td>\n",
       "      <td>0</td>\n",
       "      <td>0</td>\n",
       "      <td>0.00</td>\n",
       "      <td>34.21</td>\n",
       "      <td>0.00</td>\n",
       "      <td>108</td>\n",
       "      <td>6</td>\n",
       "      <td>5.56</td>\n",
       "      <td>Africa</td>\n",
       "    </tr>\n",
       "    <tr>\n",
       "      <th>149</th>\n",
       "      <td>Sierra Leone</td>\n",
       "      <td>1783</td>\n",
       "      <td>66</td>\n",
       "      <td>1317</td>\n",
       "      <td>400</td>\n",
       "      <td>0</td>\n",
       "      <td>0</td>\n",
       "      <td>4</td>\n",
       "      <td>3.70</td>\n",
       "      <td>73.86</td>\n",
       "      <td>5.01</td>\n",
       "      <td>1711</td>\n",
       "      <td>72</td>\n",
       "      <td>4.21</td>\n",
       "      <td>Africa</td>\n",
       "    </tr>\n",
       "    <tr>\n",
       "      <th>150</th>\n",
       "      <td>Singapore</td>\n",
       "      <td>50838</td>\n",
       "      <td>27</td>\n",
       "      <td>45692</td>\n",
       "      <td>5119</td>\n",
       "      <td>469</td>\n",
       "      <td>0</td>\n",
       "      <td>171</td>\n",
       "      <td>0.05</td>\n",
       "      <td>89.88</td>\n",
       "      <td>0.06</td>\n",
       "      <td>48035</td>\n",
       "      <td>2803</td>\n",
       "      <td>5.84</td>\n",
       "      <td>Western Pacific</td>\n",
       "    </tr>\n",
       "    <tr>\n",
       "      <th>151</th>\n",
       "      <td>Slovakia</td>\n",
       "      <td>2181</td>\n",
       "      <td>28</td>\n",
       "      <td>1616</td>\n",
       "      <td>537</td>\n",
       "      <td>2</td>\n",
       "      <td>0</td>\n",
       "      <td>39</td>\n",
       "      <td>1.28</td>\n",
       "      <td>74.09</td>\n",
       "      <td>1.73</td>\n",
       "      <td>1980</td>\n",
       "      <td>201</td>\n",
       "      <td>10.15</td>\n",
       "      <td>Europe</td>\n",
       "    </tr>\n",
       "    <tr>\n",
       "      <th>152</th>\n",
       "      <td>Slovenia</td>\n",
       "      <td>2087</td>\n",
       "      <td>116</td>\n",
       "      <td>1733</td>\n",
       "      <td>238</td>\n",
       "      <td>5</td>\n",
       "      <td>0</td>\n",
       "      <td>55</td>\n",
       "      <td>5.56</td>\n",
       "      <td>83.04</td>\n",
       "      <td>6.69</td>\n",
       "      <td>1953</td>\n",
       "      <td>134</td>\n",
       "      <td>6.86</td>\n",
       "      <td>Europe</td>\n",
       "    </tr>\n",
       "    <tr>\n",
       "      <th>153</th>\n",
       "      <td>Somalia</td>\n",
       "      <td>3196</td>\n",
       "      <td>93</td>\n",
       "      <td>1543</td>\n",
       "      <td>1560</td>\n",
       "      <td>18</td>\n",
       "      <td>0</td>\n",
       "      <td>22</td>\n",
       "      <td>2.91</td>\n",
       "      <td>48.28</td>\n",
       "      <td>6.03</td>\n",
       "      <td>3130</td>\n",
       "      <td>66</td>\n",
       "      <td>2.11</td>\n",
       "      <td>Eastern Mediterranean</td>\n",
       "    </tr>\n",
       "    <tr>\n",
       "      <th>154</th>\n",
       "      <td>South Africa</td>\n",
       "      <td>452529</td>\n",
       "      <td>7067</td>\n",
       "      <td>274925</td>\n",
       "      <td>170537</td>\n",
       "      <td>7096</td>\n",
       "      <td>298</td>\n",
       "      <td>9848</td>\n",
       "      <td>1.56</td>\n",
       "      <td>60.75</td>\n",
       "      <td>2.57</td>\n",
       "      <td>373628</td>\n",
       "      <td>78901</td>\n",
       "      <td>21.12</td>\n",
       "      <td>Africa</td>\n",
       "    </tr>\n",
       "    <tr>\n",
       "      <th>155</th>\n",
       "      <td>South Korea</td>\n",
       "      <td>14203</td>\n",
       "      <td>300</td>\n",
       "      <td>13007</td>\n",
       "      <td>896</td>\n",
       "      <td>28</td>\n",
       "      <td>1</td>\n",
       "      <td>102</td>\n",
       "      <td>2.11</td>\n",
       "      <td>91.58</td>\n",
       "      <td>2.31</td>\n",
       "      <td>13816</td>\n",
       "      <td>387</td>\n",
       "      <td>2.80</td>\n",
       "      <td>Western Pacific</td>\n",
       "    </tr>\n",
       "    <tr>\n",
       "      <th>156</th>\n",
       "      <td>South Sudan</td>\n",
       "      <td>2305</td>\n",
       "      <td>46</td>\n",
       "      <td>1175</td>\n",
       "      <td>1084</td>\n",
       "      <td>43</td>\n",
       "      <td>1</td>\n",
       "      <td>0</td>\n",
       "      <td>2.00</td>\n",
       "      <td>50.98</td>\n",
       "      <td>3.91</td>\n",
       "      <td>2211</td>\n",
       "      <td>94</td>\n",
       "      <td>4.25</td>\n",
       "      <td>Africa</td>\n",
       "    </tr>\n",
       "    <tr>\n",
       "      <th>157</th>\n",
       "      <td>Spain</td>\n",
       "      <td>272421</td>\n",
       "      <td>28432</td>\n",
       "      <td>150376</td>\n",
       "      <td>93613</td>\n",
       "      <td>0</td>\n",
       "      <td>0</td>\n",
       "      <td>0</td>\n",
       "      <td>10.44</td>\n",
       "      <td>55.20</td>\n",
       "      <td>18.91</td>\n",
       "      <td>264836</td>\n",
       "      <td>7585</td>\n",
       "      <td>2.86</td>\n",
       "      <td>Europe</td>\n",
       "    </tr>\n",
       "    <tr>\n",
       "      <th>158</th>\n",
       "      <td>Sri Lanka</td>\n",
       "      <td>2805</td>\n",
       "      <td>11</td>\n",
       "      <td>2121</td>\n",
       "      <td>673</td>\n",
       "      <td>23</td>\n",
       "      <td>0</td>\n",
       "      <td>15</td>\n",
       "      <td>0.39</td>\n",
       "      <td>75.61</td>\n",
       "      <td>0.52</td>\n",
       "      <td>2730</td>\n",
       "      <td>75</td>\n",
       "      <td>2.75</td>\n",
       "      <td>South-East Asia</td>\n",
       "    </tr>\n",
       "    <tr>\n",
       "      <th>159</th>\n",
       "      <td>Sudan</td>\n",
       "      <td>11424</td>\n",
       "      <td>720</td>\n",
       "      <td>5939</td>\n",
       "      <td>4765</td>\n",
       "      <td>39</td>\n",
       "      <td>3</td>\n",
       "      <td>49</td>\n",
       "      <td>6.30</td>\n",
       "      <td>51.99</td>\n",
       "      <td>12.12</td>\n",
       "      <td>10992</td>\n",
       "      <td>432</td>\n",
       "      <td>3.93</td>\n",
       "      <td>Eastern Mediterranean</td>\n",
       "    </tr>\n",
       "    <tr>\n",
       "      <th>160</th>\n",
       "      <td>Suriname</td>\n",
       "      <td>1483</td>\n",
       "      <td>24</td>\n",
       "      <td>925</td>\n",
       "      <td>534</td>\n",
       "      <td>44</td>\n",
       "      <td>1</td>\n",
       "      <td>35</td>\n",
       "      <td>1.62</td>\n",
       "      <td>62.37</td>\n",
       "      <td>2.59</td>\n",
       "      <td>1079</td>\n",
       "      <td>404</td>\n",
       "      <td>37.44</td>\n",
       "      <td>Americas</td>\n",
       "    </tr>\n",
       "    <tr>\n",
       "      <th>161</th>\n",
       "      <td>Sweden</td>\n",
       "      <td>79395</td>\n",
       "      <td>5700</td>\n",
       "      <td>0</td>\n",
       "      <td>73695</td>\n",
       "      <td>398</td>\n",
       "      <td>3</td>\n",
       "      <td>0</td>\n",
       "      <td>7.18</td>\n",
       "      <td>0.00</td>\n",
       "      <td>inf</td>\n",
       "      <td>78048</td>\n",
       "      <td>1347</td>\n",
       "      <td>1.73</td>\n",
       "      <td>Europe</td>\n",
       "    </tr>\n",
       "    <tr>\n",
       "      <th>162</th>\n",
       "      <td>Switzerland</td>\n",
       "      <td>34477</td>\n",
       "      <td>1978</td>\n",
       "      <td>30900</td>\n",
       "      <td>1599</td>\n",
       "      <td>65</td>\n",
       "      <td>1</td>\n",
       "      <td>200</td>\n",
       "      <td>5.74</td>\n",
       "      <td>89.62</td>\n",
       "      <td>6.40</td>\n",
       "      <td>33634</td>\n",
       "      <td>843</td>\n",
       "      <td>2.51</td>\n",
       "      <td>Europe</td>\n",
       "    </tr>\n",
       "    <tr>\n",
       "      <th>163</th>\n",
       "      <td>Syria</td>\n",
       "      <td>674</td>\n",
       "      <td>40</td>\n",
       "      <td>0</td>\n",
       "      <td>634</td>\n",
       "      <td>24</td>\n",
       "      <td>2</td>\n",
       "      <td>0</td>\n",
       "      <td>5.93</td>\n",
       "      <td>0.00</td>\n",
       "      <td>inf</td>\n",
       "      <td>522</td>\n",
       "      <td>152</td>\n",
       "      <td>29.12</td>\n",
       "      <td>Eastern Mediterranean</td>\n",
       "    </tr>\n",
       "    <tr>\n",
       "      <th>164</th>\n",
       "      <td>Taiwan*</td>\n",
       "      <td>462</td>\n",
       "      <td>7</td>\n",
       "      <td>440</td>\n",
       "      <td>15</td>\n",
       "      <td>4</td>\n",
       "      <td>0</td>\n",
       "      <td>0</td>\n",
       "      <td>1.52</td>\n",
       "      <td>95.24</td>\n",
       "      <td>1.59</td>\n",
       "      <td>451</td>\n",
       "      <td>11</td>\n",
       "      <td>2.44</td>\n",
       "      <td>Western Pacific</td>\n",
       "    </tr>\n",
       "    <tr>\n",
       "      <th>165</th>\n",
       "      <td>Tajikistan</td>\n",
       "      <td>7235</td>\n",
       "      <td>60</td>\n",
       "      <td>6028</td>\n",
       "      <td>1147</td>\n",
       "      <td>43</td>\n",
       "      <td>1</td>\n",
       "      <td>58</td>\n",
       "      <td>0.83</td>\n",
       "      <td>83.32</td>\n",
       "      <td>1.00</td>\n",
       "      <td>6921</td>\n",
       "      <td>314</td>\n",
       "      <td>4.54</td>\n",
       "      <td>Europe</td>\n",
       "    </tr>\n",
       "    <tr>\n",
       "      <th>166</th>\n",
       "      <td>Tanzania</td>\n",
       "      <td>509</td>\n",
       "      <td>21</td>\n",
       "      <td>183</td>\n",
       "      <td>305</td>\n",
       "      <td>0</td>\n",
       "      <td>0</td>\n",
       "      <td>0</td>\n",
       "      <td>4.13</td>\n",
       "      <td>35.95</td>\n",
       "      <td>11.48</td>\n",
       "      <td>509</td>\n",
       "      <td>0</td>\n",
       "      <td>0.00</td>\n",
       "      <td>Africa</td>\n",
       "    </tr>\n",
       "    <tr>\n",
       "      <th>167</th>\n",
       "      <td>Thailand</td>\n",
       "      <td>3297</td>\n",
       "      <td>58</td>\n",
       "      <td>3111</td>\n",
       "      <td>128</td>\n",
       "      <td>6</td>\n",
       "      <td>0</td>\n",
       "      <td>2</td>\n",
       "      <td>1.76</td>\n",
       "      <td>94.36</td>\n",
       "      <td>1.86</td>\n",
       "      <td>3250</td>\n",
       "      <td>47</td>\n",
       "      <td>1.45</td>\n",
       "      <td>South-East Asia</td>\n",
       "    </tr>\n",
       "    <tr>\n",
       "      <th>168</th>\n",
       "      <td>Timor-Leste</td>\n",
       "      <td>24</td>\n",
       "      <td>0</td>\n",
       "      <td>0</td>\n",
       "      <td>24</td>\n",
       "      <td>0</td>\n",
       "      <td>0</td>\n",
       "      <td>0</td>\n",
       "      <td>0.00</td>\n",
       "      <td>0.00</td>\n",
       "      <td>0.00</td>\n",
       "      <td>24</td>\n",
       "      <td>0</td>\n",
       "      <td>0.00</td>\n",
       "      <td>South-East Asia</td>\n",
       "    </tr>\n",
       "    <tr>\n",
       "      <th>169</th>\n",
       "      <td>Togo</td>\n",
       "      <td>874</td>\n",
       "      <td>18</td>\n",
       "      <td>607</td>\n",
       "      <td>249</td>\n",
       "      <td>6</td>\n",
       "      <td>0</td>\n",
       "      <td>8</td>\n",
       "      <td>2.06</td>\n",
       "      <td>69.45</td>\n",
       "      <td>2.97</td>\n",
       "      <td>783</td>\n",
       "      <td>91</td>\n",
       "      <td>11.62</td>\n",
       "      <td>Africa</td>\n",
       "    </tr>\n",
       "    <tr>\n",
       "      <th>170</th>\n",
       "      <td>Trinidad and Tobago</td>\n",
       "      <td>148</td>\n",
       "      <td>8</td>\n",
       "      <td>128</td>\n",
       "      <td>12</td>\n",
       "      <td>1</td>\n",
       "      <td>0</td>\n",
       "      <td>0</td>\n",
       "      <td>5.41</td>\n",
       "      <td>86.49</td>\n",
       "      <td>6.25</td>\n",
       "      <td>137</td>\n",
       "      <td>11</td>\n",
       "      <td>8.03</td>\n",
       "      <td>Americas</td>\n",
       "    </tr>\n",
       "    <tr>\n",
       "      <th>171</th>\n",
       "      <td>Tunisia</td>\n",
       "      <td>1455</td>\n",
       "      <td>50</td>\n",
       "      <td>1157</td>\n",
       "      <td>248</td>\n",
       "      <td>3</td>\n",
       "      <td>0</td>\n",
       "      <td>15</td>\n",
       "      <td>3.44</td>\n",
       "      <td>79.52</td>\n",
       "      <td>4.32</td>\n",
       "      <td>1381</td>\n",
       "      <td>74</td>\n",
       "      <td>5.36</td>\n",
       "      <td>Eastern Mediterranean</td>\n",
       "    </tr>\n",
       "    <tr>\n",
       "      <th>172</th>\n",
       "      <td>Turkey</td>\n",
       "      <td>227019</td>\n",
       "      <td>5630</td>\n",
       "      <td>210469</td>\n",
       "      <td>10920</td>\n",
       "      <td>919</td>\n",
       "      <td>17</td>\n",
       "      <td>982</td>\n",
       "      <td>2.48</td>\n",
       "      <td>92.71</td>\n",
       "      <td>2.67</td>\n",
       "      <td>220572</td>\n",
       "      <td>6447</td>\n",
       "      <td>2.92</td>\n",
       "      <td>Europe</td>\n",
       "    </tr>\n",
       "    <tr>\n",
       "      <th>173</th>\n",
       "      <td>US</td>\n",
       "      <td>4290259</td>\n",
       "      <td>148011</td>\n",
       "      <td>1325804</td>\n",
       "      <td>2816444</td>\n",
       "      <td>56336</td>\n",
       "      <td>1076</td>\n",
       "      <td>27941</td>\n",
       "      <td>3.45</td>\n",
       "      <td>30.90</td>\n",
       "      <td>11.16</td>\n",
       "      <td>3834677</td>\n",
       "      <td>455582</td>\n",
       "      <td>11.88</td>\n",
       "      <td>Americas</td>\n",
       "    </tr>\n",
       "    <tr>\n",
       "      <th>174</th>\n",
       "      <td>Uganda</td>\n",
       "      <td>1128</td>\n",
       "      <td>2</td>\n",
       "      <td>986</td>\n",
       "      <td>140</td>\n",
       "      <td>13</td>\n",
       "      <td>0</td>\n",
       "      <td>4</td>\n",
       "      <td>0.18</td>\n",
       "      <td>87.41</td>\n",
       "      <td>0.20</td>\n",
       "      <td>1069</td>\n",
       "      <td>59</td>\n",
       "      <td>5.52</td>\n",
       "      <td>Africa</td>\n",
       "    </tr>\n",
       "    <tr>\n",
       "      <th>175</th>\n",
       "      <td>Ukraine</td>\n",
       "      <td>67096</td>\n",
       "      <td>1636</td>\n",
       "      <td>37202</td>\n",
       "      <td>28258</td>\n",
       "      <td>835</td>\n",
       "      <td>11</td>\n",
       "      <td>317</td>\n",
       "      <td>2.44</td>\n",
       "      <td>55.45</td>\n",
       "      <td>4.40</td>\n",
       "      <td>60767</td>\n",
       "      <td>6329</td>\n",
       "      <td>10.42</td>\n",
       "      <td>Europe</td>\n",
       "    </tr>\n",
       "    <tr>\n",
       "      <th>176</th>\n",
       "      <td>United Arab Emirates</td>\n",
       "      <td>59177</td>\n",
       "      <td>345</td>\n",
       "      <td>52510</td>\n",
       "      <td>6322</td>\n",
       "      <td>264</td>\n",
       "      <td>1</td>\n",
       "      <td>328</td>\n",
       "      <td>0.58</td>\n",
       "      <td>88.73</td>\n",
       "      <td>0.66</td>\n",
       "      <td>57193</td>\n",
       "      <td>1984</td>\n",
       "      <td>3.47</td>\n",
       "      <td>Eastern Mediterranean</td>\n",
       "    </tr>\n",
       "    <tr>\n",
       "      <th>177</th>\n",
       "      <td>United Kingdom</td>\n",
       "      <td>301708</td>\n",
       "      <td>45844</td>\n",
       "      <td>1437</td>\n",
       "      <td>254427</td>\n",
       "      <td>688</td>\n",
       "      <td>7</td>\n",
       "      <td>3</td>\n",
       "      <td>15.19</td>\n",
       "      <td>0.48</td>\n",
       "      <td>3190.26</td>\n",
       "      <td>296944</td>\n",
       "      <td>4764</td>\n",
       "      <td>1.60</td>\n",
       "      <td>Europe</td>\n",
       "    </tr>\n",
       "    <tr>\n",
       "      <th>178</th>\n",
       "      <td>Uruguay</td>\n",
       "      <td>1202</td>\n",
       "      <td>35</td>\n",
       "      <td>951</td>\n",
       "      <td>216</td>\n",
       "      <td>10</td>\n",
       "      <td>1</td>\n",
       "      <td>3</td>\n",
       "      <td>2.91</td>\n",
       "      <td>79.12</td>\n",
       "      <td>3.68</td>\n",
       "      <td>1064</td>\n",
       "      <td>138</td>\n",
       "      <td>12.97</td>\n",
       "      <td>Americas</td>\n",
       "    </tr>\n",
       "    <tr>\n",
       "      <th>179</th>\n",
       "      <td>Uzbekistan</td>\n",
       "      <td>21209</td>\n",
       "      <td>121</td>\n",
       "      <td>11674</td>\n",
       "      <td>9414</td>\n",
       "      <td>678</td>\n",
       "      <td>5</td>\n",
       "      <td>569</td>\n",
       "      <td>0.57</td>\n",
       "      <td>55.04</td>\n",
       "      <td>1.04</td>\n",
       "      <td>17149</td>\n",
       "      <td>4060</td>\n",
       "      <td>23.67</td>\n",
       "      <td>Europe</td>\n",
       "    </tr>\n",
       "    <tr>\n",
       "      <th>180</th>\n",
       "      <td>Venezuela</td>\n",
       "      <td>15988</td>\n",
       "      <td>146</td>\n",
       "      <td>9959</td>\n",
       "      <td>5883</td>\n",
       "      <td>525</td>\n",
       "      <td>4</td>\n",
       "      <td>213</td>\n",
       "      <td>0.91</td>\n",
       "      <td>62.29</td>\n",
       "      <td>1.47</td>\n",
       "      <td>12334</td>\n",
       "      <td>3654</td>\n",
       "      <td>29.63</td>\n",
       "      <td>Americas</td>\n",
       "    </tr>\n",
       "    <tr>\n",
       "      <th>181</th>\n",
       "      <td>Vietnam</td>\n",
       "      <td>431</td>\n",
       "      <td>0</td>\n",
       "      <td>365</td>\n",
       "      <td>66</td>\n",
       "      <td>11</td>\n",
       "      <td>0</td>\n",
       "      <td>0</td>\n",
       "      <td>0.00</td>\n",
       "      <td>84.69</td>\n",
       "      <td>0.00</td>\n",
       "      <td>384</td>\n",
       "      <td>47</td>\n",
       "      <td>12.24</td>\n",
       "      <td>Western Pacific</td>\n",
       "    </tr>\n",
       "    <tr>\n",
       "      <th>182</th>\n",
       "      <td>West Bank and Gaza</td>\n",
       "      <td>10621</td>\n",
       "      <td>78</td>\n",
       "      <td>3752</td>\n",
       "      <td>6791</td>\n",
       "      <td>152</td>\n",
       "      <td>2</td>\n",
       "      <td>0</td>\n",
       "      <td>0.73</td>\n",
       "      <td>35.33</td>\n",
       "      <td>2.08</td>\n",
       "      <td>8916</td>\n",
       "      <td>1705</td>\n",
       "      <td>19.12</td>\n",
       "      <td>Eastern Mediterranean</td>\n",
       "    </tr>\n",
       "    <tr>\n",
       "      <th>183</th>\n",
       "      <td>Western Sahara</td>\n",
       "      <td>10</td>\n",
       "      <td>1</td>\n",
       "      <td>8</td>\n",
       "      <td>1</td>\n",
       "      <td>0</td>\n",
       "      <td>0</td>\n",
       "      <td>0</td>\n",
       "      <td>10.00</td>\n",
       "      <td>80.00</td>\n",
       "      <td>12.50</td>\n",
       "      <td>10</td>\n",
       "      <td>0</td>\n",
       "      <td>0.00</td>\n",
       "      <td>Africa</td>\n",
       "    </tr>\n",
       "    <tr>\n",
       "      <th>184</th>\n",
       "      <td>Yemen</td>\n",
       "      <td>1691</td>\n",
       "      <td>483</td>\n",
       "      <td>833</td>\n",
       "      <td>375</td>\n",
       "      <td>10</td>\n",
       "      <td>4</td>\n",
       "      <td>36</td>\n",
       "      <td>28.56</td>\n",
       "      <td>49.26</td>\n",
       "      <td>57.98</td>\n",
       "      <td>1619</td>\n",
       "      <td>72</td>\n",
       "      <td>4.45</td>\n",
       "      <td>Eastern Mediterranean</td>\n",
       "    </tr>\n",
       "    <tr>\n",
       "      <th>185</th>\n",
       "      <td>Zambia</td>\n",
       "      <td>4552</td>\n",
       "      <td>140</td>\n",
       "      <td>2815</td>\n",
       "      <td>1597</td>\n",
       "      <td>71</td>\n",
       "      <td>1</td>\n",
       "      <td>465</td>\n",
       "      <td>3.08</td>\n",
       "      <td>61.84</td>\n",
       "      <td>4.97</td>\n",
       "      <td>3326</td>\n",
       "      <td>1226</td>\n",
       "      <td>36.86</td>\n",
       "      <td>Africa</td>\n",
       "    </tr>\n",
       "    <tr>\n",
       "      <th>186</th>\n",
       "      <td>Zimbabwe</td>\n",
       "      <td>2704</td>\n",
       "      <td>36</td>\n",
       "      <td>542</td>\n",
       "      <td>2126</td>\n",
       "      <td>192</td>\n",
       "      <td>2</td>\n",
       "      <td>24</td>\n",
       "      <td>1.33</td>\n",
       "      <td>20.04</td>\n",
       "      <td>6.64</td>\n",
       "      <td>1713</td>\n",
       "      <td>991</td>\n",
       "      <td>57.85</td>\n",
       "      <td>Africa</td>\n",
       "    </tr>\n",
       "  </tbody>\n",
       "</table>\n",
       "</div>"
      ],
      "text/plain": [
       "                       Country/Region  Confirmed  Deaths  Recovered   Active  \\\n",
       "0                         Afghanistan      36263    1269      25198     9796   \n",
       "1                             Albania       4880     144       2745     1991   \n",
       "2                             Algeria      27973    1163      18837     7973   \n",
       "3                             Andorra        907      52        803       52   \n",
       "4                              Angola        950      41        242      667   \n",
       "5                 Antigua and Barbuda         86       3         65       18   \n",
       "6                           Argentina     167416    3059      72575    91782   \n",
       "7                             Armenia      37390     711      26665    10014   \n",
       "8                           Australia      15303     167       9311     5825   \n",
       "9                             Austria      20558     713      18246     1599   \n",
       "10                         Azerbaijan      30446     423      23242     6781   \n",
       "11                            Bahamas        382      11         91      280   \n",
       "12                            Bahrain      39482     141      36110     3231   \n",
       "13                         Bangladesh     226225    2965     125683    97577   \n",
       "14                           Barbados        110       7         94        9   \n",
       "15                            Belarus      67251     538      60492     6221   \n",
       "16                            Belgium      66428    9822      17452    39154   \n",
       "17                             Belize         48       2         26       20   \n",
       "18                              Benin       1770      35       1036      699   \n",
       "19                             Bhutan         99       0         86       13   \n",
       "20                            Bolivia      71181    2647      21478    47056   \n",
       "21             Bosnia and Herzegovina      10498     294       4930     5274   \n",
       "22                           Botswana        739       2         63      674   \n",
       "23                             Brazil    2442375   87618    1846641   508116   \n",
       "24                             Brunei        141       3        138        0   \n",
       "25                           Bulgaria      10621     347       5585     4689   \n",
       "26                       Burkina Faso       1100      53        926      121   \n",
       "27                              Burma        350       6        292       52   \n",
       "28                            Burundi        378       1        301       76   \n",
       "29                         Cabo Verde       2328      22       1550      756   \n",
       "30                           Cambodia        226       0        147       79   \n",
       "31                           Cameroon      17110     391      14539     2180   \n",
       "32                             Canada     116458    8944          0   107514   \n",
       "33           Central African Republic       4599      59       1546     2994   \n",
       "34                               Chad        922      75        810       37   \n",
       "35                              Chile     347923    9187     319954    18782   \n",
       "36                              China      86783    4656      78869     3258   \n",
       "37                           Colombia     257101    8777     131161   117163   \n",
       "38                            Comoros        354       7        328       19   \n",
       "39                Congo (Brazzaville)       3200      54        829     2317   \n",
       "40                   Congo (Kinshasa)       8844     208       5700     2936   \n",
       "41                         Costa Rica      15841     115       3824    11902   \n",
       "42                      Cote d'Ivoire      15655      96      10361     5198   \n",
       "43                            Croatia       4881     139       3936      806   \n",
       "44                               Cuba       2532      87       2351       94   \n",
       "45                             Cyprus       1060      19        852      189   \n",
       "46                            Czechia      15516     373      11428     3715   \n",
       "47                            Denmark      13761     613      12605      543   \n",
       "48                           Djibouti       5059      58       4977       24   \n",
       "49                           Dominica         18       0         18        0   \n",
       "50                 Dominican Republic      64156    1083      30204    32869   \n",
       "51                            Ecuador      81161    5532      34896    40733   \n",
       "52                              Egypt      92482    4652      34838    52992   \n",
       "53                        El Salvador      15035     408       7778     6849   \n",
       "54                  Equatorial Guinea       3071      51        842     2178   \n",
       "55                            Eritrea        265       0        191       74   \n",
       "56                            Estonia       2034      69       1923       42   \n",
       "57                           Eswatini       2316      34       1025     1257   \n",
       "58                           Ethiopia      14547     228       6386     7933   \n",
       "59                               Fiji         27       0         18        9   \n",
       "60                            Finland       7398     329       6920      149   \n",
       "61                             France     220352   30212      81212   108928   \n",
       "62                              Gabon       7189      49       4682     2458   \n",
       "63                             Gambia        326       8         66      252   \n",
       "64                            Georgia       1137      16        922      199   \n",
       "65                            Germany     207112    9125     190314     7673   \n",
       "66                              Ghana      33624     168      29801     3655   \n",
       "67                             Greece       4227     202       1374     2651   \n",
       "68                          Greenland         14       0         13        1   \n",
       "69                            Grenada         23       0         23        0   \n",
       "70                          Guatemala      45309    1761      32455    11093   \n",
       "71                             Guinea       7055      45       6257      753   \n",
       "72                      Guinea-Bissau       1954      26        803     1125   \n",
       "73                             Guyana        389      20        181      188   \n",
       "74                              Haiti       7340     158       4365     2817   \n",
       "75                           Holy See         12       0         12        0   \n",
       "76                           Honduras      39741    1166       5039    33536   \n",
       "77                            Hungary       4448     596       3329      523   \n",
       "78                            Iceland       1854      10       1823       21   \n",
       "79                              India    1480073   33408     951166   495499   \n",
       "80                          Indonesia     100303    4838      58173    37292   \n",
       "81                               Iran     293606   15912     255144    22550   \n",
       "82                               Iraq     112585    4458      77144    30983   \n",
       "83                            Ireland      25892    1764      23364      764   \n",
       "84                             Israel      63985     474      27133    36378   \n",
       "85                              Italy     246286   35112     198593    12581   \n",
       "86                            Jamaica        853      10        714      129   \n",
       "87                              Japan      31142     998      21970     8174   \n",
       "88                             Jordan       1176      11       1041      124   \n",
       "89                         Kazakhstan      84648     585      54404    29659   \n",
       "90                              Kenya      17975     285       7833     9857   \n",
       "91                             Kosovo       7413     185       4027     3201   \n",
       "92                             Kuwait      64379     438      55057     8884   \n",
       "93                         Kyrgyzstan      33296    1301      21205    10790   \n",
       "94                               Laos         20       0         19        1   \n",
       "95                             Latvia       1219      31       1045      143   \n",
       "96                            Lebanon       3882      51       1709     2122   \n",
       "97                            Lesotho        505      12        128      365   \n",
       "98                            Liberia       1167      72        646      449   \n",
       "99                              Libya       2827      64        577     2186   \n",
       "100                     Liechtenstein         86       1         81        4   \n",
       "101                         Lithuania       2019      80       1620      319   \n",
       "102                        Luxembourg       6321     112       4825     1384   \n",
       "103                        Madagascar       9690      91       6260     3339   \n",
       "104                            Malawi       3664      99       1645     1920   \n",
       "105                          Malaysia       8904     124       8601      179   \n",
       "106                          Maldives       3369      15       2547      807   \n",
       "107                              Mali       2513     124       1913      476   \n",
       "108                             Malta        701       9        665       27   \n",
       "109                        Mauritania       6208     156       4653     1399   \n",
       "110                         Mauritius        344      10        332        2   \n",
       "111                            Mexico     395489   44022     303810    47657   \n",
       "112                           Moldova      23154     748      16154     6252   \n",
       "113                            Monaco        116       4        104        8   \n",
       "114                          Mongolia        289       0        222       67   \n",
       "115                        Montenegro       2893      45        809     2039   \n",
       "116                           Morocco      20887     316      16553     4018   \n",
       "117                        Mozambique       1701      11          0     1690   \n",
       "118                           Namibia       1843       8        101     1734   \n",
       "119                             Nepal      18752      48      13754     4950   \n",
       "120                       Netherlands      53413    6160        189    47064   \n",
       "121                       New Zealand       1557      22       1514       21   \n",
       "122                         Nicaragua       3439     108       2492      839   \n",
       "123                             Niger       1132      69       1027       36   \n",
       "124                           Nigeria      41180     860      18203    22117   \n",
       "125                   North Macedonia      10213     466       5564     4183   \n",
       "126                            Norway       9132     255       8752      125   \n",
       "127                              Oman      77058     393      57028    19637   \n",
       "128                          Pakistan     274289    5842     241026    27421   \n",
       "129                            Panama      61442    1322      35086    25034   \n",
       "130                  Papua New Guinea         62       0         11       51   \n",
       "131                          Paraguay       4548      43       2905     1600   \n",
       "132                              Peru     389717   18418     272547    98752   \n",
       "133                       Philippines      82040    1945      26446    53649   \n",
       "134                            Poland      43402    1676      32856     8870   \n",
       "135                          Portugal      50299    1719      35375    13205   \n",
       "136                             Qatar     109597     165     106328     3104   \n",
       "137                           Romania      45902    2206      25794    17902   \n",
       "138                            Russia     816680   13334     602249   201097   \n",
       "139                            Rwanda       1879       5        975      899   \n",
       "140             Saint Kitts and Nevis         17       0         15        2   \n",
       "141                       Saint Lucia         24       0         22        2   \n",
       "142  Saint Vincent and the Grenadines         52       0         39       13   \n",
       "143                        San Marino        699      42        657        0   \n",
       "144             Sao Tome and Principe        865      14        734      117   \n",
       "145                      Saudi Arabia     268934    2760     222936    43238   \n",
       "146                           Senegal       9764     194       6477     3093   \n",
       "147                            Serbia      24141     543          0    23598   \n",
       "148                        Seychelles        114       0         39       75   \n",
       "149                      Sierra Leone       1783      66       1317      400   \n",
       "150                         Singapore      50838      27      45692     5119   \n",
       "151                          Slovakia       2181      28       1616      537   \n",
       "152                          Slovenia       2087     116       1733      238   \n",
       "153                           Somalia       3196      93       1543     1560   \n",
       "154                      South Africa     452529    7067     274925   170537   \n",
       "155                       South Korea      14203     300      13007      896   \n",
       "156                       South Sudan       2305      46       1175     1084   \n",
       "157                             Spain     272421   28432     150376    93613   \n",
       "158                         Sri Lanka       2805      11       2121      673   \n",
       "159                             Sudan      11424     720       5939     4765   \n",
       "160                          Suriname       1483      24        925      534   \n",
       "161                            Sweden      79395    5700          0    73695   \n",
       "162                       Switzerland      34477    1978      30900     1599   \n",
       "163                             Syria        674      40          0      634   \n",
       "164                           Taiwan*        462       7        440       15   \n",
       "165                        Tajikistan       7235      60       6028     1147   \n",
       "166                          Tanzania        509      21        183      305   \n",
       "167                          Thailand       3297      58       3111      128   \n",
       "168                       Timor-Leste         24       0          0       24   \n",
       "169                              Togo        874      18        607      249   \n",
       "170               Trinidad and Tobago        148       8        128       12   \n",
       "171                           Tunisia       1455      50       1157      248   \n",
       "172                            Turkey     227019    5630     210469    10920   \n",
       "173                                US    4290259  148011    1325804  2816444   \n",
       "174                            Uganda       1128       2        986      140   \n",
       "175                           Ukraine      67096    1636      37202    28258   \n",
       "176              United Arab Emirates      59177     345      52510     6322   \n",
       "177                    United Kingdom     301708   45844       1437   254427   \n",
       "178                           Uruguay       1202      35        951      216   \n",
       "179                        Uzbekistan      21209     121      11674     9414   \n",
       "180                         Venezuela      15988     146       9959     5883   \n",
       "181                           Vietnam        431       0        365       66   \n",
       "182                West Bank and Gaza      10621      78       3752     6791   \n",
       "183                    Western Sahara         10       1          8        1   \n",
       "184                             Yemen       1691     483        833      375   \n",
       "185                            Zambia       4552     140       2815     1597   \n",
       "186                          Zimbabwe       2704      36        542     2126   \n",
       "\n",
       "     New cases  New deaths  New recovered  Deaths / 100 Cases  \\\n",
       "0          106          10             18                3.50   \n",
       "1          117           6             63                2.95   \n",
       "2          616           8            749                4.16   \n",
       "3           10           0              0                5.73   \n",
       "4           18           1              0                4.32   \n",
       "5            4           0              5                3.49   \n",
       "6         4890         120           2057                1.83   \n",
       "7           73           6            187                1.90   \n",
       "8          368           6            137                1.09   \n",
       "9           86           1             37                3.47   \n",
       "10         396           6            558                1.39   \n",
       "11          40           0              0                2.88   \n",
       "12         351           1            421                0.36   \n",
       "13        2772          37           1801                1.31   \n",
       "14           0           0              0                6.36   \n",
       "15         119           4             67                0.80   \n",
       "16         402           1             14               14.79   \n",
       "17           0           0              0                4.17   \n",
       "18           0           0              0                1.98   \n",
       "19           4           0              1                0.00   \n",
       "20        1752          64            309                3.72   \n",
       "21         731          14            375                2.80   \n",
       "22          53           1             11                0.27   \n",
       "23       23284         614          33728                3.59   \n",
       "24           0           0              0                2.13   \n",
       "25         194           7            230                3.27   \n",
       "26          14           0              6                4.82   \n",
       "27           0           0              2                1.71   \n",
       "28          17           0             22                0.26   \n",
       "29          21           0            103                0.95   \n",
       "30           1           0              4                0.00   \n",
       "31         402           6              0                2.29   \n",
       "32         682          11              0                7.68   \n",
       "33           0           0              0                1.28   \n",
       "34           7           0              0                8.13   \n",
       "35        2133          75           1859                2.64   \n",
       "36         213           4              7                5.37   \n",
       "37       16306         508          11494                3.41   \n",
       "38           0           0              0                1.98   \n",
       "39         162           3             73                1.69   \n",
       "40          13           4            190                2.35   \n",
       "41         612          11             88                0.73   \n",
       "42          59           0            183                0.61   \n",
       "43          24           3             70                2.85   \n",
       "44          37           0              2                3.44   \n",
       "45           3           0              0                1.79   \n",
       "46         192           2              0                2.40   \n",
       "47         109           0             77                4.45   \n",
       "48           9           0             11                1.15   \n",
       "49           0           0              0                0.00   \n",
       "50        1248          20           1601                1.69   \n",
       "51         467          17              0                6.82   \n",
       "52         420          46           1007                5.03   \n",
       "53         405           8            130                2.71   \n",
       "54           0           0              0                1.66   \n",
       "55           2           0              2                0.00   \n",
       "56           0           0              1                3.39   \n",
       "57         109           2             39                1.47   \n",
       "58         579           5            170                1.57   \n",
       "59           0           0              0                0.00   \n",
       "60           5           0              0                4.45   \n",
       "61        2551          17            267               13.71   \n",
       "62         205           0            219                0.68   \n",
       "63          49           2              6                2.45   \n",
       "64           6           0              2                1.41   \n",
       "65         445           1            259                4.41   \n",
       "66         655           0            307                0.50   \n",
       "67          34           0              0                4.78   \n",
       "68           1           0              0                0.00   \n",
       "69           0           0              0                0.00   \n",
       "70         256          27            843                3.89   \n",
       "71          47           2            105                0.64   \n",
       "72           0           0              0                1.33   \n",
       "73          19           0              0                5.14   \n",
       "74          25           1              0                2.15   \n",
       "75           0           0              0                0.00   \n",
       "76         465          50            117                2.93   \n",
       "77          13           0              0               13.40   \n",
       "78           7           0              0                0.54   \n",
       "79       44457         637          33598                2.26   \n",
       "80        1525          57           1518                4.82   \n",
       "81        2434         212           1931                5.42   \n",
       "82        2553          96           1927                3.96   \n",
       "83          11           0              0                6.81   \n",
       "84        2029           4            108                0.74   \n",
       "85         168           5            147               14.26   \n",
       "86          11           0              0                1.17   \n",
       "87         594           0            364                3.20   \n",
       "88           8           0              0                0.94   \n",
       "89        1526           0           1833                0.69   \n",
       "90         372           5             90                1.59   \n",
       "91         496          16            274                2.50   \n",
       "92         606           5            684                0.68   \n",
       "93         483          24            817                3.91   \n",
       "94           0           0              0                0.00   \n",
       "95           0           0              0                2.54   \n",
       "96         132           0             17                1.31   \n",
       "97           0           0              0                2.38   \n",
       "98           5           0              5                6.17   \n",
       "99         158           4             24                2.26   \n",
       "100          0           0              0                1.16   \n",
       "101         11           0              4                3.96   \n",
       "102         49           0            178                1.77   \n",
       "103        395           6            681                0.94   \n",
       "104         24           0              6                2.70   \n",
       "105          7           0              1                1.39   \n",
       "106         67           0             19                0.45   \n",
       "107          3           1              2                4.93   \n",
       "108          1           0              0                1.28   \n",
       "109         37           0            223                2.51   \n",
       "110          0           0              0                2.91   \n",
       "111       4973         342           8588               11.13   \n",
       "112        120          13            245                3.23   \n",
       "113          0           0              0                3.45   \n",
       "114          1           0              4                0.00   \n",
       "115         94           2             70                1.56   \n",
       "116        609           3            115                1.51   \n",
       "117         32           0              0                0.65   \n",
       "118         68           0             26                0.43   \n",
       "119        139           3            626                0.26   \n",
       "120        419           1              0               11.53   \n",
       "121          1           0              1                1.41   \n",
       "122          0           0              0                3.14   \n",
       "123          0           0              0                6.10   \n",
       "124        648           2            829                2.09   \n",
       "125        127           6            137                4.56   \n",
       "126         15           0              0                2.79   \n",
       "127       1053           9           1729                0.51   \n",
       "128       1176          20           3592                2.13   \n",
       "129       1146          28            955                2.15   \n",
       "130          0           0              0                0.00   \n",
       "131        104           2            111                0.95   \n",
       "132      13756         575           4697                4.73   \n",
       "133       1592          13            336                2.37   \n",
       "134        337           5            103                3.86   \n",
       "135        135           2            158                3.42   \n",
       "136        292           0            304                0.15   \n",
       "137       1104          19            151                4.81   \n",
       "138       5607          85           3077                1.63   \n",
       "139         58           0             57                0.27   \n",
       "140          0           0              0                0.00   \n",
       "141          0           0              0                0.00   \n",
       "142          0           0              0                0.00   \n",
       "143          0           0              0                6.01   \n",
       "144          2           0             38                1.62   \n",
       "145       1993          27           2613                1.03   \n",
       "146         83           3             68                1.99   \n",
       "147        411           9              0                2.25   \n",
       "148          0           0              0                0.00   \n",
       "149          0           0              4                3.70   \n",
       "150        469           0            171                0.05   \n",
       "151          2           0             39                1.28   \n",
       "152          5           0             55                5.56   \n",
       "153         18           0             22                2.91   \n",
       "154       7096         298           9848                1.56   \n",
       "155         28           1            102                2.11   \n",
       "156         43           1              0                2.00   \n",
       "157          0           0              0               10.44   \n",
       "158         23           0             15                0.39   \n",
       "159         39           3             49                6.30   \n",
       "160         44           1             35                1.62   \n",
       "161        398           3              0                7.18   \n",
       "162         65           1            200                5.74   \n",
       "163         24           2              0                5.93   \n",
       "164          4           0              0                1.52   \n",
       "165         43           1             58                0.83   \n",
       "166          0           0              0                4.13   \n",
       "167          6           0              2                1.76   \n",
       "168          0           0              0                0.00   \n",
       "169          6           0              8                2.06   \n",
       "170          1           0              0                5.41   \n",
       "171          3           0             15                3.44   \n",
       "172        919          17            982                2.48   \n",
       "173      56336        1076          27941                3.45   \n",
       "174         13           0              4                0.18   \n",
       "175        835          11            317                2.44   \n",
       "176        264           1            328                0.58   \n",
       "177        688           7              3               15.19   \n",
       "178         10           1              3                2.91   \n",
       "179        678           5            569                0.57   \n",
       "180        525           4            213                0.91   \n",
       "181         11           0              0                0.00   \n",
       "182        152           2              0                0.73   \n",
       "183          0           0              0               10.00   \n",
       "184         10           4             36               28.56   \n",
       "185         71           1            465                3.08   \n",
       "186        192           2             24                1.33   \n",
       "\n",
       "     Recovered / 100 Cases  Deaths / 100 Recovered  Confirmed last week  \\\n",
       "0                    69.49                    5.04                35526   \n",
       "1                    56.25                    5.25                 4171   \n",
       "2                    67.34                    6.17                23691   \n",
       "3                    88.53                    6.48                  884   \n",
       "4                    25.47                   16.94                  749   \n",
       "5                    75.58                    4.62                   76   \n",
       "6                    43.35                    4.21               130774   \n",
       "7                    71.32                    2.67                34981   \n",
       "8                    60.84                    1.79                12428   \n",
       "9                    88.75                    3.91                19743   \n",
       "10                   76.34                    1.82                27890   \n",
       "11                   23.82                   12.09                  174   \n",
       "12                   91.46                    0.39                36936   \n",
       "13                   55.56                    2.36               207453   \n",
       "14                   85.45                    7.45                  106   \n",
       "15                   89.95                    0.89                66213   \n",
       "16                   26.27                   56.28                64094   \n",
       "17                   54.17                    7.69                   40   \n",
       "18                   58.53                    3.38                 1602   \n",
       "19                   86.87                    0.00                   90   \n",
       "20                   30.17                   12.32                60991   \n",
       "21                   46.96                    5.96                 8479   \n",
       "22                    8.53                    3.17                  522   \n",
       "23                   75.61                    4.74              2118646   \n",
       "24                   97.87                    2.17                  141   \n",
       "25                   52.58                    6.21                 8929   \n",
       "26                   84.18                    5.72                 1065   \n",
       "27                   83.43                    2.05                  341   \n",
       "28                   79.63                    0.33                  322   \n",
       "29                   66.58                    1.42                 2071   \n",
       "30                   65.04                    0.00                  171   \n",
       "31                   84.97                    2.69                16157   \n",
       "32                    0.00                     inf               112925   \n",
       "33                   33.62                    3.82                 4548   \n",
       "34                   87.85                    9.26                  889   \n",
       "35                   91.96                    2.87               333029   \n",
       "36                   90.88                    5.90                85622   \n",
       "37                   51.02                    6.69               204005   \n",
       "38                   92.66                    2.13                  334   \n",
       "39                   25.91                    6.51                 2851   \n",
       "40                   64.45                    3.65                 8443   \n",
       "41                   24.14                    3.01                11534   \n",
       "42                   66.18                    0.93                14312   \n",
       "43                   80.64                    3.53                 4370   \n",
       "44                   92.85                    3.70                 2446   \n",
       "45                   80.38                    2.23                 1038   \n",
       "46                   73.65                    3.26                14098   \n",
       "47                   91.60                    4.86                13453   \n",
       "48                   98.38                    1.17                 5020   \n",
       "49                  100.00                    0.00                   18   \n",
       "50                   47.08                    3.59                53956   \n",
       "51                   43.00                   15.85                74620   \n",
       "52                   37.67                   13.35                88402   \n",
       "53                   51.73                    5.25                12207   \n",
       "54                   27.42                    6.06                 3071   \n",
       "55                   72.08                    0.00                  251   \n",
       "56                   94.54                    3.59                 2021   \n",
       "57                   44.26                    3.32                 1826   \n",
       "58                   43.90                    3.57                10207   \n",
       "59                   66.67                    0.00                   27   \n",
       "60                   93.54                    4.75                 7340   \n",
       "61                   36.86                   37.20               214023   \n",
       "62                   65.13                    1.05                 6433   \n",
       "63                   20.25                   12.12                  112   \n",
       "64                   81.09                    1.74                 1039   \n",
       "65                   91.89                    4.79               203325   \n",
       "66                   88.63                    0.56                28430   \n",
       "67                   32.51                   14.70                 4012   \n",
       "68                   92.86                    0.00                   13   \n",
       "69                  100.00                    0.00                   23   \n",
       "70                   71.63                    5.43                39039   \n",
       "71                   88.69                    0.72                 6590   \n",
       "72                   41.10                    3.24                 1949   \n",
       "73                   46.53                   11.05                  337   \n",
       "74                   59.47                    3.62                 7053   \n",
       "75                  100.00                    0.00                   12   \n",
       "76                   12.68                   23.14                34611   \n",
       "77                   74.84                   17.90                 4339   \n",
       "78                   98.33                    0.55                 1839   \n",
       "79                   64.26                    3.51              1155338   \n",
       "80                   58.00                    8.32                88214   \n",
       "81                   86.90                    6.24               276202   \n",
       "82                   68.52                    5.78                94693   \n",
       "83                   90.24                    7.55                25766   \n",
       "84                   42.41                    1.75                52003   \n",
       "85                   80.64                   17.68               244624   \n",
       "86                   83.70                    1.40                  809   \n",
       "87                   70.55                    4.54                25706   \n",
       "88                   88.52                    1.06                 1223   \n",
       "89                   64.27                    1.08                73468   \n",
       "90                   43.58                    3.64                13771   \n",
       "91                   54.32                    4.59                 5877   \n",
       "92                   85.52                    0.80                59763   \n",
       "93                   63.69                    6.14                27143   \n",
       "94                   95.00                    0.00                   19   \n",
       "95                   85.73                    2.97                 1192   \n",
       "96                   44.02                    2.98                 2905   \n",
       "97                   25.35                    9.38                  359   \n",
       "98                   55.36                   11.15                 1107   \n",
       "99                   20.41                   11.09                 1980   \n",
       "100                  94.19                    1.23                   86   \n",
       "101                  80.24                    4.94                 1947   \n",
       "102                  76.33                    2.32                 5639   \n",
       "103                  64.60                    1.45                 7153   \n",
       "104                  44.90                    6.02                 2992   \n",
       "105                  96.60                    1.44                 8800   \n",
       "106                  75.60                    0.59                 2999   \n",
       "107                  76.12                    6.48                 2475   \n",
       "108                  94.86                    1.35                  677   \n",
       "109                  74.95                    3.35                 5923   \n",
       "110                  96.51                    3.01                  343   \n",
       "111                  76.82                   14.49               349396   \n",
       "112                  69.77                    4.63                21115   \n",
       "113                  89.66                    3.85                  109   \n",
       "114                  76.82                    0.00                  287   \n",
       "115                  27.96                    5.56                 2188   \n",
       "116                  79.25                    1.91                17562   \n",
       "117                   0.00                     inf                 1507   \n",
       "118                   5.48                    7.92                 1344   \n",
       "119                  73.35                    0.35                17844   \n",
       "120                   0.35                 3259.26                52132   \n",
       "121                  97.24                    1.45                 1555   \n",
       "122                  72.46                    4.33                 3147   \n",
       "123                  90.72                    6.72                 1105   \n",
       "124                  44.20                    4.72                37225   \n",
       "125                  54.48                    8.38                 9249   \n",
       "126                  95.84                    2.91                 9034   \n",
       "127                  74.01                    0.69                68400   \n",
       "128                  87.87                    2.42               266096   \n",
       "129                  57.10                    3.77                54426   \n",
       "130                  17.74                    0.00                   19   \n",
       "131                  63.87                    1.48                 3748   \n",
       "132                  69.93                    6.76               357681   \n",
       "133                  32.24                    7.35                68898   \n",
       "134                  75.70                    5.10                40383   \n",
       "135                  70.33                    4.86                48771   \n",
       "136                  97.02                    0.16               107037   \n",
       "137                  56.19                    8.55                38139   \n",
       "138                  73.74                    2.21               776212   \n",
       "139                  51.89                    0.51                 1629   \n",
       "140                  88.24                    0.00                   17   \n",
       "141                  91.67                    0.00                   23   \n",
       "142                  75.00                    0.00                   50   \n",
       "143                  93.99                    6.39                  699   \n",
       "144                  84.86                    1.91                  746   \n",
       "145                  82.90                    1.24               253349   \n",
       "146                  66.34                    3.00                 8948   \n",
       "147                   0.00                     inf                21253   \n",
       "148                  34.21                    0.00                  108   \n",
       "149                  73.86                    5.01                 1711   \n",
       "150                  89.88                    0.06                48035   \n",
       "151                  74.09                    1.73                 1980   \n",
       "152                  83.04                    6.69                 1953   \n",
       "153                  48.28                    6.03                 3130   \n",
       "154                  60.75                    2.57               373628   \n",
       "155                  91.58                    2.31                13816   \n",
       "156                  50.98                    3.91                 2211   \n",
       "157                  55.20                   18.91               264836   \n",
       "158                  75.61                    0.52                 2730   \n",
       "159                  51.99                   12.12                10992   \n",
       "160                  62.37                    2.59                 1079   \n",
       "161                   0.00                     inf                78048   \n",
       "162                  89.62                    6.40                33634   \n",
       "163                   0.00                     inf                  522   \n",
       "164                  95.24                    1.59                  451   \n",
       "165                  83.32                    1.00                 6921   \n",
       "166                  35.95                   11.48                  509   \n",
       "167                  94.36                    1.86                 3250   \n",
       "168                   0.00                    0.00                   24   \n",
       "169                  69.45                    2.97                  783   \n",
       "170                  86.49                    6.25                  137   \n",
       "171                  79.52                    4.32                 1381   \n",
       "172                  92.71                    2.67               220572   \n",
       "173                  30.90                   11.16              3834677   \n",
       "174                  87.41                    0.20                 1069   \n",
       "175                  55.45                    4.40                60767   \n",
       "176                  88.73                    0.66                57193   \n",
       "177                   0.48                 3190.26               296944   \n",
       "178                  79.12                    3.68                 1064   \n",
       "179                  55.04                    1.04                17149   \n",
       "180                  62.29                    1.47                12334   \n",
       "181                  84.69                    0.00                  384   \n",
       "182                  35.33                    2.08                 8916   \n",
       "183                  80.00                   12.50                   10   \n",
       "184                  49.26                   57.98                 1619   \n",
       "185                  61.84                    4.97                 3326   \n",
       "186                  20.04                    6.64                 1713   \n",
       "\n",
       "     1 week change  1 week % increase             WHO Region  \n",
       "0              737               2.07  Eastern Mediterranean  \n",
       "1              709              17.00                 Europe  \n",
       "2             4282              18.07                 Africa  \n",
       "3               23               2.60                 Europe  \n",
       "4              201              26.84                 Africa  \n",
       "5               10              13.16               Americas  \n",
       "6            36642              28.02               Americas  \n",
       "7             2409               6.89                 Europe  \n",
       "8             2875              23.13        Western Pacific  \n",
       "9              815               4.13                 Europe  \n",
       "10            2556               9.16                 Europe  \n",
       "11             208             119.54               Americas  \n",
       "12            2546               6.89  Eastern Mediterranean  \n",
       "13           18772               9.05        South-East Asia  \n",
       "14               4               3.77               Americas  \n",
       "15            1038               1.57                 Europe  \n",
       "16            2334               3.64                 Europe  \n",
       "17               8              20.00               Americas  \n",
       "18             168              10.49                 Africa  \n",
       "19               9              10.00        South-East Asia  \n",
       "20           10190              16.71               Americas  \n",
       "21            2019              23.81                 Europe  \n",
       "22             217              41.57                 Africa  \n",
       "23          323729              15.28               Americas  \n",
       "24               0               0.00        Western Pacific  \n",
       "25            1692              18.95                 Europe  \n",
       "26              35               3.29                 Africa  \n",
       "27               9               2.64        South-East Asia  \n",
       "28              56              17.39                 Africa  \n",
       "29             257              12.41                 Africa  \n",
       "30              55              32.16        Western Pacific  \n",
       "31             953               5.90                 Africa  \n",
       "32            3533               3.13               Americas  \n",
       "33              51               1.12                 Africa  \n",
       "34              33               3.71                 Africa  \n",
       "35           14894               4.47               Americas  \n",
       "36            1161               1.36        Western Pacific  \n",
       "37           53096              26.03               Americas  \n",
       "38              20               5.99                 Africa  \n",
       "39             349              12.24                 Africa  \n",
       "40             401               4.75                 Africa  \n",
       "41            4307              37.34               Americas  \n",
       "42            1343               9.38                 Africa  \n",
       "43             511              11.69                 Europe  \n",
       "44              86               3.52               Americas  \n",
       "45              22               2.12                 Europe  \n",
       "46            1418              10.06                 Europe  \n",
       "47             308               2.29                 Europe  \n",
       "48              39               0.78  Eastern Mediterranean  \n",
       "49               0               0.00               Americas  \n",
       "50           10200              18.90               Americas  \n",
       "51            6541               8.77               Americas  \n",
       "52            4080               4.62  Eastern Mediterranean  \n",
       "53            2828              23.17               Americas  \n",
       "54               0               0.00                 Africa  \n",
       "55              14               5.58                 Africa  \n",
       "56              13               0.64                 Europe  \n",
       "57             490              26.83                 Africa  \n",
       "58            4340              42.52                 Africa  \n",
       "59               0               0.00        Western Pacific  \n",
       "60              58               0.79                 Europe  \n",
       "61            6329               2.96                 Europe  \n",
       "62             756              11.75                 Africa  \n",
       "63             214             191.07                 Africa  \n",
       "64              98               9.43                 Europe  \n",
       "65            3787               1.86                 Europe  \n",
       "66            5194              18.27                 Africa  \n",
       "67             215               5.36                 Europe  \n",
       "68               1               7.69                 Europe  \n",
       "69               0               0.00               Americas  \n",
       "70            6270              16.06               Americas  \n",
       "71             465               7.06                 Africa  \n",
       "72               5               0.26                 Africa  \n",
       "73              52              15.43               Americas  \n",
       "74             287               4.07               Americas  \n",
       "75               0               0.00                 Europe  \n",
       "76            5130              14.82               Americas  \n",
       "77             109               2.51                 Europe  \n",
       "78              15               0.82                 Europe  \n",
       "79          324735              28.11        South-East Asia  \n",
       "80           12089              13.70        South-East Asia  \n",
       "81           17404               6.30  Eastern Mediterranean  \n",
       "82           17892              18.89  Eastern Mediterranean  \n",
       "83             126               0.49                 Europe  \n",
       "84           11982              23.04                 Europe  \n",
       "85            1662               0.68                 Europe  \n",
       "86              44               5.44               Americas  \n",
       "87            5436              21.15        Western Pacific  \n",
       "88             -47              -3.84  Eastern Mediterranean  \n",
       "89           11180              15.22                 Europe  \n",
       "90            4204              30.53                 Africa  \n",
       "91            1536              26.14                 Europe  \n",
       "92            4616               7.72  Eastern Mediterranean  \n",
       "93            6153              22.67                 Europe  \n",
       "94               1               5.26        Western Pacific  \n",
       "95              27               2.27                 Europe  \n",
       "96             977              33.63  Eastern Mediterranean  \n",
       "97             146              40.67                 Africa  \n",
       "98              60               5.42                 Africa  \n",
       "99             847              42.78  Eastern Mediterranean  \n",
       "100              0               0.00                 Europe  \n",
       "101             72               3.70                 Europe  \n",
       "102            682              12.09                 Europe  \n",
       "103           2537              35.47                 Africa  \n",
       "104            672              22.46                 Africa  \n",
       "105            104               1.18        Western Pacific  \n",
       "106            370              12.34        South-East Asia  \n",
       "107             38               1.54                 Africa  \n",
       "108             24               3.55                 Europe  \n",
       "109            285               4.81                 Africa  \n",
       "110              1               0.29                 Africa  \n",
       "111          46093              13.19               Americas  \n",
       "112           2039               9.66                 Europe  \n",
       "113              7               6.42                 Europe  \n",
       "114              2               0.70        Western Pacific  \n",
       "115            705              32.22                 Europe  \n",
       "116           3325              18.93  Eastern Mediterranean  \n",
       "117            194              12.87                 Africa  \n",
       "118            499              37.13                 Africa  \n",
       "119            908               5.09        South-East Asia  \n",
       "120           1281               2.46                 Europe  \n",
       "121              2               0.13        Western Pacific  \n",
       "122            292               9.28               Americas  \n",
       "123             27               2.44                 Africa  \n",
       "124           3955              10.62                 Africa  \n",
       "125            964              10.42                 Europe  \n",
       "126             98               1.08                 Europe  \n",
       "127           8658              12.66  Eastern Mediterranean  \n",
       "128           8193               3.08  Eastern Mediterranean  \n",
       "129           7016              12.89               Americas  \n",
       "130             43             226.32        Western Pacific  \n",
       "131            800              21.34               Americas  \n",
       "132          32036               8.96               Americas  \n",
       "133          13142              19.07        Western Pacific  \n",
       "134           3019               7.48                 Europe  \n",
       "135           1528               3.13                 Europe  \n",
       "136           2560               2.39  Eastern Mediterranean  \n",
       "137           7763              20.35                 Europe  \n",
       "138          40468               5.21                 Europe  \n",
       "139            250              15.35                 Africa  \n",
       "140              0               0.00               Americas  \n",
       "141              1               4.35               Americas  \n",
       "142              2               4.00               Americas  \n",
       "143              0               0.00                 Europe  \n",
       "144            119              15.95                 Africa  \n",
       "145          15585               6.15  Eastern Mediterranean  \n",
       "146            816               9.12                 Africa  \n",
       "147           2888              13.59                 Europe  \n",
       "148              6               5.56                 Africa  \n",
       "149             72               4.21                 Africa  \n",
       "150           2803               5.84        Western Pacific  \n",
       "151            201              10.15                 Europe  \n",
       "152            134               6.86                 Europe  \n",
       "153             66               2.11  Eastern Mediterranean  \n",
       "154          78901              21.12                 Africa  \n",
       "155            387               2.80        Western Pacific  \n",
       "156             94               4.25                 Africa  \n",
       "157           7585               2.86                 Europe  \n",
       "158             75               2.75        South-East Asia  \n",
       "159            432               3.93  Eastern Mediterranean  \n",
       "160            404              37.44               Americas  \n",
       "161           1347               1.73                 Europe  \n",
       "162            843               2.51                 Europe  \n",
       "163            152              29.12  Eastern Mediterranean  \n",
       "164             11               2.44        Western Pacific  \n",
       "165            314               4.54                 Europe  \n",
       "166              0               0.00                 Africa  \n",
       "167             47               1.45        South-East Asia  \n",
       "168              0               0.00        South-East Asia  \n",
       "169             91              11.62                 Africa  \n",
       "170             11               8.03               Americas  \n",
       "171             74               5.36  Eastern Mediterranean  \n",
       "172           6447               2.92                 Europe  \n",
       "173         455582              11.88               Americas  \n",
       "174             59               5.52                 Africa  \n",
       "175           6329              10.42                 Europe  \n",
       "176           1984               3.47  Eastern Mediterranean  \n",
       "177           4764               1.60                 Europe  \n",
       "178            138              12.97               Americas  \n",
       "179           4060              23.67                 Europe  \n",
       "180           3654              29.63               Americas  \n",
       "181             47              12.24        Western Pacific  \n",
       "182           1705              19.12  Eastern Mediterranean  \n",
       "183              0               0.00                 Africa  \n",
       "184             72               4.45  Eastern Mediterranean  \n",
       "185           1226              36.86                 Africa  \n",
       "186            991              57.85                 Africa  "
      ]
     },
     "execution_count": 8,
     "metadata": {},
     "output_type": "execute_result"
    }
   ],
   "source": [
    "data"
   ]
  },
  {
   "cell_type": "code",
   "execution_count": 9,
   "id": "fbf677fa",
   "metadata": {},
   "outputs": [
    {
     "data": {
      "text/html": [
       "<div>\n",
       "<style scoped>\n",
       "    .dataframe tbody tr th:only-of-type {\n",
       "        vertical-align: middle;\n",
       "    }\n",
       "\n",
       "    .dataframe tbody tr th {\n",
       "        vertical-align: top;\n",
       "    }\n",
       "\n",
       "    .dataframe thead th {\n",
       "        text-align: right;\n",
       "    }\n",
       "</style>\n",
       "<table border=\"1\" class=\"dataframe\">\n",
       "  <thead>\n",
       "    <tr style=\"text-align: right;\">\n",
       "      <th></th>\n",
       "      <th>Country/Region</th>\n",
       "      <th>Confirmed</th>\n",
       "      <th>Deaths</th>\n",
       "      <th>Recovered</th>\n",
       "      <th>Active</th>\n",
       "      <th>New cases</th>\n",
       "      <th>New deaths</th>\n",
       "      <th>New recovered</th>\n",
       "      <th>Deaths / 100 Cases</th>\n",
       "      <th>Recovered / 100 Cases</th>\n",
       "      <th>Deaths / 100 Recovered</th>\n",
       "      <th>Confirmed last week</th>\n",
       "      <th>1 week change</th>\n",
       "      <th>1 week % increase</th>\n",
       "      <th>WHO Region</th>\n",
       "    </tr>\n",
       "  </thead>\n",
       "  <tbody>\n",
       "    <tr>\n",
       "      <th>0</th>\n",
       "      <td>Afghanistan</td>\n",
       "      <td>36263</td>\n",
       "      <td>1269</td>\n",
       "      <td>25198</td>\n",
       "      <td>9796</td>\n",
       "      <td>106</td>\n",
       "      <td>10</td>\n",
       "      <td>18</td>\n",
       "      <td>3.50</td>\n",
       "      <td>69.49</td>\n",
       "      <td>5.04</td>\n",
       "      <td>35526</td>\n",
       "      <td>737</td>\n",
       "      <td>2.07</td>\n",
       "      <td>Eastern Mediterranean</td>\n",
       "    </tr>\n",
       "    <tr>\n",
       "      <th>1</th>\n",
       "      <td>Albania</td>\n",
       "      <td>4880</td>\n",
       "      <td>144</td>\n",
       "      <td>2745</td>\n",
       "      <td>1991</td>\n",
       "      <td>117</td>\n",
       "      <td>6</td>\n",
       "      <td>63</td>\n",
       "      <td>2.95</td>\n",
       "      <td>56.25</td>\n",
       "      <td>5.25</td>\n",
       "      <td>4171</td>\n",
       "      <td>709</td>\n",
       "      <td>17.00</td>\n",
       "      <td>Europe</td>\n",
       "    </tr>\n",
       "    <tr>\n",
       "      <th>2</th>\n",
       "      <td>Algeria</td>\n",
       "      <td>27973</td>\n",
       "      <td>1163</td>\n",
       "      <td>18837</td>\n",
       "      <td>7973</td>\n",
       "      <td>616</td>\n",
       "      <td>8</td>\n",
       "      <td>749</td>\n",
       "      <td>4.16</td>\n",
       "      <td>67.34</td>\n",
       "      <td>6.17</td>\n",
       "      <td>23691</td>\n",
       "      <td>4282</td>\n",
       "      <td>18.07</td>\n",
       "      <td>Africa</td>\n",
       "    </tr>\n",
       "    <tr>\n",
       "      <th>3</th>\n",
       "      <td>Andorra</td>\n",
       "      <td>907</td>\n",
       "      <td>52</td>\n",
       "      <td>803</td>\n",
       "      <td>52</td>\n",
       "      <td>10</td>\n",
       "      <td>0</td>\n",
       "      <td>0</td>\n",
       "      <td>5.73</td>\n",
       "      <td>88.53</td>\n",
       "      <td>6.48</td>\n",
       "      <td>884</td>\n",
       "      <td>23</td>\n",
       "      <td>2.60</td>\n",
       "      <td>Europe</td>\n",
       "    </tr>\n",
       "    <tr>\n",
       "      <th>4</th>\n",
       "      <td>Angola</td>\n",
       "      <td>950</td>\n",
       "      <td>41</td>\n",
       "      <td>242</td>\n",
       "      <td>667</td>\n",
       "      <td>18</td>\n",
       "      <td>1</td>\n",
       "      <td>0</td>\n",
       "      <td>4.32</td>\n",
       "      <td>25.47</td>\n",
       "      <td>16.94</td>\n",
       "      <td>749</td>\n",
       "      <td>201</td>\n",
       "      <td>26.84</td>\n",
       "      <td>Africa</td>\n",
       "    </tr>\n",
       "  </tbody>\n",
       "</table>\n",
       "</div>"
      ],
      "text/plain": [
       "  Country/Region  Confirmed  Deaths  Recovered  Active  New cases  New deaths  \\\n",
       "0    Afghanistan      36263    1269      25198    9796        106          10   \n",
       "1        Albania       4880     144       2745    1991        117           6   \n",
       "2        Algeria      27973    1163      18837    7973        616           8   \n",
       "3        Andorra        907      52        803      52         10           0   \n",
       "4         Angola        950      41        242     667         18           1   \n",
       "\n",
       "   New recovered  Deaths / 100 Cases  Recovered / 100 Cases  \\\n",
       "0             18                3.50                  69.49   \n",
       "1             63                2.95                  56.25   \n",
       "2            749                4.16                  67.34   \n",
       "3              0                5.73                  88.53   \n",
       "4              0                4.32                  25.47   \n",
       "\n",
       "   Deaths / 100 Recovered  Confirmed last week  1 week change  \\\n",
       "0                    5.04                35526            737   \n",
       "1                    5.25                 4171            709   \n",
       "2                    6.17                23691           4282   \n",
       "3                    6.48                  884             23   \n",
       "4                   16.94                  749            201   \n",
       "\n",
       "   1 week % increase             WHO Region  \n",
       "0               2.07  Eastern Mediterranean  \n",
       "1              17.00                 Europe  \n",
       "2              18.07                 Africa  \n",
       "3               2.60                 Europe  \n",
       "4              26.84                 Africa  "
      ]
     },
     "execution_count": 9,
     "metadata": {},
     "output_type": "execute_result"
    }
   ],
   "source": [
    "data.head(5)"
   ]
  },
  {
   "cell_type": "code",
   "execution_count": 10,
   "id": "32dcd30d",
   "metadata": {},
   "outputs": [],
   "source": [
    "dict={\"roll\":[1,2,3,4,5,6,7,8,9],\"marks\":[23,25,27,29,24,26,30,28,24]}"
   ]
  },
  {
   "cell_type": "code",
   "execution_count": 11,
   "id": "507055f0",
   "metadata": {},
   "outputs": [],
   "source": [
    "df=pd.DataFrame(dict)"
   ]
  },
  {
   "cell_type": "code",
   "execution_count": 12,
   "id": "37f03b26",
   "metadata": {},
   "outputs": [
    {
     "data": {
      "text/html": [
       "<div>\n",
       "<style scoped>\n",
       "    .dataframe tbody tr th:only-of-type {\n",
       "        vertical-align: middle;\n",
       "    }\n",
       "\n",
       "    .dataframe tbody tr th {\n",
       "        vertical-align: top;\n",
       "    }\n",
       "\n",
       "    .dataframe thead th {\n",
       "        text-align: right;\n",
       "    }\n",
       "</style>\n",
       "<table border=\"1\" class=\"dataframe\">\n",
       "  <thead>\n",
       "    <tr style=\"text-align: right;\">\n",
       "      <th></th>\n",
       "      <th>roll</th>\n",
       "      <th>marks</th>\n",
       "    </tr>\n",
       "  </thead>\n",
       "  <tbody>\n",
       "    <tr>\n",
       "      <th>0</th>\n",
       "      <td>1</td>\n",
       "      <td>23</td>\n",
       "    </tr>\n",
       "    <tr>\n",
       "      <th>1</th>\n",
       "      <td>2</td>\n",
       "      <td>25</td>\n",
       "    </tr>\n",
       "    <tr>\n",
       "      <th>2</th>\n",
       "      <td>3</td>\n",
       "      <td>27</td>\n",
       "    </tr>\n",
       "    <tr>\n",
       "      <th>3</th>\n",
       "      <td>4</td>\n",
       "      <td>29</td>\n",
       "    </tr>\n",
       "    <tr>\n",
       "      <th>4</th>\n",
       "      <td>5</td>\n",
       "      <td>24</td>\n",
       "    </tr>\n",
       "    <tr>\n",
       "      <th>5</th>\n",
       "      <td>6</td>\n",
       "      <td>26</td>\n",
       "    </tr>\n",
       "    <tr>\n",
       "      <th>6</th>\n",
       "      <td>7</td>\n",
       "      <td>30</td>\n",
       "    </tr>\n",
       "    <tr>\n",
       "      <th>7</th>\n",
       "      <td>8</td>\n",
       "      <td>28</td>\n",
       "    </tr>\n",
       "    <tr>\n",
       "      <th>8</th>\n",
       "      <td>9</td>\n",
       "      <td>24</td>\n",
       "    </tr>\n",
       "  </tbody>\n",
       "</table>\n",
       "</div>"
      ],
      "text/plain": [
       "   roll  marks\n",
       "0     1     23\n",
       "1     2     25\n",
       "2     3     27\n",
       "3     4     29\n",
       "4     5     24\n",
       "5     6     26\n",
       "6     7     30\n",
       "7     8     28\n",
       "8     9     24"
      ]
     },
     "execution_count": 12,
     "metadata": {},
     "output_type": "execute_result"
    }
   ],
   "source": [
    "df"
   ]
  },
  {
   "cell_type": "code",
   "execution_count": 21,
   "id": "c1caae40",
   "metadata": {},
   "outputs": [],
   "source": [
    "df.to_csv('student.csv')  # create csv file"
   ]
  },
  {
   "cell_type": "code",
   "execution_count": 22,
   "id": "742b4d73",
   "metadata": {},
   "outputs": [],
   "source": [
    "df.to_excel('student.xlsx',sheet_name=\"student_data\")  # create exel file"
   ]
  },
  {
   "cell_type": "code",
   "execution_count": 25,
   "id": "0cbcaebb",
   "metadata": {},
   "outputs": [],
   "source": [
    "country=pd.read_html('https://en.wikipedia.org/wiki/List_of_sovereign_states')  # internet connection required"
   ]
  },
  {
   "cell_type": "code",
   "execution_count": 26,
   "id": "18c52836",
   "metadata": {},
   "outputs": [
    {
     "data": {
      "text/plain": [
       "[                               Common and formal names  \\\n",
       " 0                                                  NaN   \n",
       " 1    UN member states and General Assembly observer...   \n",
       " 2                      Abkhazia → See Abkhazia listing   \n",
       " 3                                          Afghanistan   \n",
       " 4                        Albania – Republic of Albania   \n",
       " 5    Algeria – People's Democratic Republic of Algeria   \n",
       " 6                    Andorra – Principality of Andorra   \n",
       " 7                          Angola – Republic of Angola   \n",
       " 8                                  Antigua and Barbuda   \n",
       " 9                    Argentina – Argentine Republic[h]   \n",
       " 10                       Armenia – Republic of Armenia   \n",
       " 11                       Artsakh → See Artsakh listing   \n",
       " 12               Australia – Commonwealth of Australia   \n",
       " 13                       Austria – Republic of Austria   \n",
       " 14                 Azerbaijan – Republic of Azerbaijan   \n",
       " 15      Bahamas, The – Commonwealth of The Bahamas[15]   \n",
       " 16                        Bahrain – Kingdom of Bahrain   \n",
       " 17        Bangladesh – People's Republic of Bangladesh   \n",
       " 18                                            Barbados   \n",
       " 19                       Belarus – Republic of Belarus   \n",
       " 20                        Belgium – Kingdom of Belgium   \n",
       " 21                                              Belize   \n",
       " 22                           Benin – Republic of Benin   \n",
       " 23                          Bhutan – Kingdom of Bhutan   \n",
       " 24            Bolivia – Plurinational State of Bolivia   \n",
       " 25                              Bosnia and Herzegovina   \n",
       " 26                     Botswana – Republic of Botswana   \n",
       " 27              Brazil – Federative Republic of Brazil   \n",
       " 28                          Brunei – Brunei Darussalam   \n",
       " 29                     Bulgaria – Republic of Bulgaria   \n",
       " 30                                        Burkina Faso   \n",
       " 31                         Burma → See Myanmar listing   \n",
       " 32                       Burundi – Republic of Burundi   \n",
       " 33                      Cambodia – Kingdom of Cambodia   \n",
       " 34                     Cameroon – Republic of Cameroon   \n",
       " 35                                           Canada[j]   \n",
       " 36              Cape Verde – Republic of Cabo Verde[k]   \n",
       " 37                            Central African Republic   \n",
       " 38                             Chad – Republic of Chad   \n",
       " 39                           Chile – Republic of Chile   \n",
       " 40               China – People's Republic of China[m]   \n",
       " 41             China, Republic of → See Taiwan listing   \n",
       " 42                     Colombia – Republic of Colombia   \n",
       " 43                      Comoros – Union of the Comoros   \n",
       " 44                Congo, Democratic Republic of the[q]   \n",
       " 45                           Congo, Republic of the[r]   \n",
       " 46             Cook Islands → See Cook Islands listing   \n",
       " 47                 Costa Rica – Republic of Costa Rica   \n",
       " 48             Côte d'Ivoire → See Ivory Coast listing   \n",
       " 49                       Croatia – Republic of Croatia   \n",
       " 50                             Cuba – Republic of Cuba   \n",
       " 51                         Cyprus – Republic of Cyprus   \n",
       " 52                                   Czech Republic[s]   \n",
       " 53   Democratic People's Republic of Korea → See Ko...   \n",
       " 54   Democratic Republic of the Congo → See Congo, ...   \n",
       " 55                        Denmark – Kingdom of Denmark   \n",
       " 56                     Djibouti – Republic of Djibouti   \n",
       " 57                 Dominica – Commonwealth of Dominica   \n",
       " 58                                  Dominican Republic   \n",
       " 59   Donetsk People's Republic → See Donetsk People...   \n",
       " 60   East Timor – Democratic Republic of Timor-Lest...   \n",
       " 61                       Ecuador – Republic of Ecuador   \n",
       " 62                      Egypt – Arab Republic of Egypt   \n",
       " 63               El Salvador – Republic of El Salvador   \n",
       " 64   Equatorial Guinea – Republic of Equatorial Guinea   \n",
       " 65                          Eritrea – State of Eritrea   \n",
       " 66                       Estonia – Republic of Estonia   \n",
       " 67                   Eswatini – Kingdom of Eswatini[v]   \n",
       " 68   Ethiopia – Federal Democratic Republic of Ethi...   \n",
       " 69                             Fiji – Republic of Fiji   \n",
       " 70                       Finland – Republic of Finland   \n",
       " 71                            France – French Republic   \n",
       " 72                           Gabon – Gabonese Republic   \n",
       " 73            Gambia, The – Republic of The Gambia[25]   \n",
       " 74                                             Georgia   \n",
       " 75               Germany – Federal Republic of Germany   \n",
       " 76                           Ghana – Republic of Ghana   \n",
       " 77                          Greece – Hellenic Republic   \n",
       " 78                                             Grenada   \n",
       " 79                   Guatemala – Republic of Guatemala   \n",
       " 80                      Guinea – Republic of Guinea[y]   \n",
       " 81           Guinea-Bissau – Republic of Guinea-Bissau   \n",
       " 82            Guyana – Co-operative Republic of Guyana   \n",
       " 83                           Haiti – Republic of Haiti   \n",
       " 84               Holland → See the Netherlands listing   \n",
       " 85                 Holy See → See Vatican City listing   \n",
       " 86                     Honduras – Republic of Honduras   \n",
       " 87                                             Hungary   \n",
       " 88                    Iceland[z] – Republic of Iceland   \n",
       " 89                           India – Republic of India   \n",
       " 90                   Indonesia – Republic of Indonesia   \n",
       " 91                     Iran – Islamic Republic of Iran   \n",
       " 92                             Iraq – Republic of Iraq   \n",
       " 93                                         Ireland[aa]   \n",
       " 94                            Israel – State of Israel   \n",
       " 95                            Italy – Italian Republic   \n",
       " 96         Ivory Coast – Republic of Côte d'Ivoire[ab]   \n",
       " 97                                             Jamaica   \n",
       " 98                                               Japan   \n",
       " 99                Jordan – Hashemite Kingdom of Jordan   \n",
       " 100                Kazakhstan – Republic of Kazakhstan   \n",
       " 101                          Kenya – Republic of Kenya   \n",
       " 102                    Kiribati – Republic of Kiribati   \n",
       " 103  Korea, North – Democratic People's Republic of...   \n",
       " 104                   Korea, South – Republic of Korea   \n",
       " 105                        Kosovo → See Kosovo listing   \n",
       " 106                           Kuwait – State of Kuwait   \n",
       " 107                       Kyrgyzstan – Kyrgyz Republic   \n",
       " 108            Laos – Lao People's Democratic Republic   \n",
       " 109                        Latvia – Republic of Latvia   \n",
       " 110                        Lebanon – Lebanese Republic   \n",
       " 111                       Lesotho – Kingdom of Lesotho   \n",
       " 112                      Liberia – Republic of Liberia   \n",
       " 113                             Libya – State of Libya   \n",
       " 114      Liechtenstein – Principality of Liechtenstein   \n",
       " 115                  Lithuania – Republic of Lithuania   \n",
       " 116  Luhansk People's Republic → See Luhansk People...   \n",
       " 117             Luxembourg – Grand Duchy of Luxembourg   \n",
       " 118            Macedonia → See North Macedonia listing   \n",
       " 119                Madagascar – Republic of Madagascar   \n",
       " 120                        Malawi – Republic of Malawi   \n",
       " 121                                           Malaysia   \n",
       " 122                    Maldives – Republic of Maldives   \n",
       " 123                            Mali – Republic of Mali   \n",
       " 124                          Malta – Republic of Malta   \n",
       " 125  Marshall Islands – Republic of the Marshall Is...   \n",
       " 126        Mauritania – Islamic Republic of Mauritania   \n",
       " 127                  Mauritius – Republic of Mauritius   \n",
       " 128                     Mexico – United Mexican States   \n",
       " 129                    Micronesia, Federated States of   \n",
       " 130                      Moldova – Republic of Moldova   \n",
       " 131                    Monaco – Principality of Monaco   \n",
       " 132                                           Mongolia   \n",
       " 133                                         Montenegro   \n",
       " 134                       Morocco – Kingdom of Morocco   \n",
       " 135                Mozambique – Republic of Mozambique   \n",
       " 136     Myanmar – Republic of the Union of Myanmar[ac]   \n",
       " 137             Nagorno-Karabakh → See Artsakh listing   \n",
       " 138                      Namibia – Republic of Namibia   \n",
       " 139                          Nauru – Republic of Nauru   \n",
       " 140       Nepal – Federal Democratic Republic of Nepal   \n",
       " 141           Netherlands – Kingdom of the Netherlands   \n",
       " 142                                        New Zealand   \n",
       " 143                  Nicaragua – Republic of Nicaragua   \n",
       " 144                      Niger – Republic of the Niger   \n",
       " 145              Nigeria – Federal Republic of Nigeria   \n",
       " 146                            Niue → See Niue listing   \n",
       " 147             North Korea → See Korea, North listing   \n",
       " 148  North Macedonia – Republic of North Macedonia[ae]   \n",
       " 149      Northern Cyprus → See Northern Cyprus listing   \n",
       " 150                         Norway – Kingdom of Norway   \n",
       " 151                           Oman – Sultanate of Oman   \n",
       " 152            Pakistan – Islamic Republic of Pakistan   \n",
       " 153                          Palau – Republic of Palau   \n",
       " 154                     Palestine – State of Palestine   \n",
       " 155                        Panama – Republic of Panama   \n",
       " 156  Papua New Guinea – Independent State of Papua ...   \n",
       " 157                    Paraguay – Republic of Paraguay   \n",
       " 158                            Peru – Republic of Peru   \n",
       " 159          Philippines – Republic of the Philippines   \n",
       " 160                        Poland – Republic of Poland   \n",
       " 161                     Portugal – Portuguese Republic   \n",
       " 162           Pridnestrovie → See Transnistria listing   \n",
       " 163                             Qatar – State of Qatar   \n",
       " 164       Republic of Korea → See Korea, South listing   \n",
       " 165  Republic of the Congo → See Congo, Republic of...   \n",
       " 166                                            Romania   \n",
       " 167                        Russia – Russian Federation   \n",
       " 168                        Rwanda – Republic of Rwanda   \n",
       " 169  Sahrawi Arab Democratic Republic → See Sahrawi...   \n",
       " 170  Saint Kitts and Nevis – Federation of Saint Ch...   \n",
       " 171                                        Saint Lucia   \n",
       " 172                   Saint Vincent and the Grenadines   \n",
       " 173                 Samoa – Independent State of Samoa   \n",
       " 174                San Marino – Republic of San Marino   \n",
       " 175  São Tomé and Príncipe – Democratic Republic of...   \n",
       " 176             Saudi Arabia – Kingdom of Saudi Arabia   \n",
       " 177                      Senegal – Republic of Senegal   \n",
       " 178                        Serbia – Republic of Serbia   \n",
       " 179                Seychelles – Republic of Seychelles   \n",
       " 180            Sierra Leone – Republic of Sierra Leone   \n",
       " 181                  Singapore – Republic of Singapore   \n",
       " 182                         Slovakia – Slovak Republic   \n",
       " 183                    Slovenia – Republic of Slovenia   \n",
       " 184                                    Solomon Islands   \n",
       " 185              Somalia – Federal Republic of Somalia   \n",
       " 186                Somaliland → See Somaliland listing   \n",
       " 187            South Africa – Republic of South Africa   \n",
       " 188             South Korea → See Korea, South listing   \n",
       " 189          South Ossetia → See South Ossetia listing   \n",
       " 190              South Sudan – Republic of South Sudan   \n",
       " 191                           Spain – Kingdom of Spain   \n",
       " 192  Sri Lanka – Democratic Socialist Republic of S...   \n",
       " 193                      Sudan – Republic of the Sudan   \n",
       " 194             Sudan, South → See South Sudan listing   \n",
       " 195                    Suriname – Republic of Suriname   \n",
       " 196                   Swaziland → See Eswatini listing   \n",
       " 197                         Sweden – Kingdom of Sweden   \n",
       " 198                  Switzerland – Swiss Confederation   \n",
       " 199                       Syria – Syrian Arab Republic   \n",
       " 200    Taiwan (Republic of China) → See Taiwan listing   \n",
       " 201                Tajikistan – Republic of Tajikistan   \n",
       " 202             Tanzania – United Republic of Tanzania   \n",
       " 203                     Thailand – Kingdom of Thailand   \n",
       " 204             The Bahamas → See Bahamas, The listing   \n",
       " 205               The Gambia → See Gambia, The listing   \n",
       " 206               Timor-Leste → See East Timor listing   \n",
       " 207                           Togo – Togolese Republic   \n",
       " 208                           Tonga – Kingdom of Tonga   \n",
       " 209            Transnistria → See Transnistria listing   \n",
       " 210  Trinidad and Tobago – Republic of Trinidad and...   \n",
       " 211                      Tunisia – Republic of Tunisia   \n",
       " 212                       Turkey – Republic of Türkiye   \n",
       " 213            Turkmenistan – Republic of Turkmenistan   \n",
       " 214                                             Tuvalu   \n",
       " 215                        Uganda – Republic of Uganda   \n",
       " 216                                            Ukraine   \n",
       " 217                               United Arab Emirates   \n",
       " 218  United Kingdom – United Kingdom of Great Brita...   \n",
       " 219           United States – United States of America   \n",
       " 220             Uruguay – Oriental Republic of Uruguay   \n",
       " 221                Uzbekistan – Republic of Uzbekistan   \n",
       " 222                      Vanuatu – Republic of Vanuatu   \n",
       " 223                  Vatican City – Vatican City State   \n",
       " 224       Venezuela – Bolivarian Republic of Venezuela   \n",
       " 225            Vietnam – Socialist Republic of Vietnam   \n",
       " 226  Western Sahara → See Sahrawi Arab Democratic R...   \n",
       " 227                          Yemen – Republic of Yemen   \n",
       " 228                        Zambia – Republic of Zambia   \n",
       " 229                    Zimbabwe – Republic of Zimbabwe   \n",
       " 230  UN member states and General Assembly observer...   \n",
       " 231                                                NaN   \n",
       " 232                                                NaN   \n",
       " 233                    Abkhazia – Republic of Abkhazia   \n",
       " 234                  Artsakh – Republic of Artsakh[ah]   \n",
       " 235                                       Cook Islands   \n",
       " 236                          Donetsk People's Republic   \n",
       " 237                        Kosovo – Republic of Kosovo   \n",
       " 238                          Luhansk People's Republic   \n",
       " 239                                               Niue   \n",
       " 240  Northern Cyprus – Turkish Republic of Northern...   \n",
       " 241                   Sahrawi Arab Democratic Republic   \n",
       " 242                Somaliland – Republic of Somaliland   \n",
       " 243  South Ossetia – Republic of South Ossetia–the ...   \n",
       " 244                      Taiwan – Republic of China[m]   \n",
       " 245   Transnistria – Pridnestrovian Moldavian Republic   \n",
       " 246                                                NaN   \n",
       " 247                                                NaN   \n",
       " \n",
       "                     Membership within the UN System[b]  \\\n",
       " 0                                                  NaN   \n",
       " 1                                                  NaN   \n",
       " 2                      Abkhazia → See Abkhazia listing   \n",
       " 3                                      UN member state   \n",
       " 4                                                  NaN   \n",
       " 5                                                  NaN   \n",
       " 6                                                  NaN   \n",
       " 7                                                  NaN   \n",
       " 8                                                  NaN   \n",
       " 9                                                  NaN   \n",
       " 10                                                 NaN   \n",
       " 11                       Artsakh → See Artsakh listing   \n",
       " 12                                                 NaN   \n",
       " 13                                                 NaN   \n",
       " 14                                                 NaN   \n",
       " 15                                                 NaN   \n",
       " 16                                                 NaN   \n",
       " 17                                                 NaN   \n",
       " 18                                                 NaN   \n",
       " 19                                                 NaN   \n",
       " 20                                                 NaN   \n",
       " 21                                                 NaN   \n",
       " 22                                                 NaN   \n",
       " 23                                                 NaN   \n",
       " 24                                                 NaN   \n",
       " 25                                                 NaN   \n",
       " 26                                                 NaN   \n",
       " 27                                                 NaN   \n",
       " 28                                                 NaN   \n",
       " 29                                                 NaN   \n",
       " 30                                                 NaN   \n",
       " 31                         Burma → See Myanmar listing   \n",
       " 32                                                 NaN   \n",
       " 33                                                 NaN   \n",
       " 34                                                 NaN   \n",
       " 35                                                 NaN   \n",
       " 36                                                 NaN   \n",
       " 37                                                 NaN   \n",
       " 38                                                 NaN   \n",
       " 39                                                 NaN   \n",
       " 40                                                 NaN   \n",
       " 41             China, Republic of → See Taiwan listing   \n",
       " 42                                                 NaN   \n",
       " 43                                                 NaN   \n",
       " 44                                                 NaN   \n",
       " 45                                                 NaN   \n",
       " 46             Cook Islands → See Cook Islands listing   \n",
       " 47                                                 NaN   \n",
       " 48             Côte d'Ivoire → See Ivory Coast listing   \n",
       " 49                                                 NaN   \n",
       " 50                                                 NaN   \n",
       " 51                                                 NaN   \n",
       " 52                                                 NaN   \n",
       " 53   Democratic People's Republic of Korea → See Ko...   \n",
       " 54   Democratic Republic of the Congo → See Congo, ...   \n",
       " 55                                                 NaN   \n",
       " 56                                                 NaN   \n",
       " 57                                                 NaN   \n",
       " 58                                                 NaN   \n",
       " 59   Donetsk People's Republic → See Donetsk People...   \n",
       " 60                                                 NaN   \n",
       " 61                                                 NaN   \n",
       " 62                                                 NaN   \n",
       " 63                                                 NaN   \n",
       " 64                                                 NaN   \n",
       " 65                                                 NaN   \n",
       " 66                                                 NaN   \n",
       " 67                                                 NaN   \n",
       " 68                                                 NaN   \n",
       " 69                                                 NaN   \n",
       " 70                                                 NaN   \n",
       " 71                                                 NaN   \n",
       " 72                                                 NaN   \n",
       " 73                                                 NaN   \n",
       " 74                                                 NaN   \n",
       " 75                                                 NaN   \n",
       " 76                                                 NaN   \n",
       " 77                                                 NaN   \n",
       " 78                                                 NaN   \n",
       " 79                                                 NaN   \n",
       " 80                                                 NaN   \n",
       " 81                                                 NaN   \n",
       " 82                                                 NaN   \n",
       " 83                                                 NaN   \n",
       " 84               Holland → See the Netherlands listing   \n",
       " 85                 Holy See → See Vatican City listing   \n",
       " 86                                                 NaN   \n",
       " 87                                                 NaN   \n",
       " 88                                                 NaN   \n",
       " 89                                                 NaN   \n",
       " 90                                                 NaN   \n",
       " 91                                                 NaN   \n",
       " 92                                                 NaN   \n",
       " 93                                                 NaN   \n",
       " 94                                                 NaN   \n",
       " 95                                                 NaN   \n",
       " 96                                                 NaN   \n",
       " 97                                                 NaN   \n",
       " 98                                                 NaN   \n",
       " 99                                                 NaN   \n",
       " 100                                                NaN   \n",
       " 101                                                NaN   \n",
       " 102                                                NaN   \n",
       " 103                                                NaN   \n",
       " 104                                                NaN   \n",
       " 105                        Kosovo → See Kosovo listing   \n",
       " 106                                                NaN   \n",
       " 107                                                NaN   \n",
       " 108                                                NaN   \n",
       " 109                                                NaN   \n",
       " 110                                                NaN   \n",
       " 111                                                NaN   \n",
       " 112                                                NaN   \n",
       " 113                                                NaN   \n",
       " 114                                                NaN   \n",
       " 115                                                NaN   \n",
       " 116  Luhansk People's Republic → See Luhansk People...   \n",
       " 117                                                NaN   \n",
       " 118            Macedonia → See North Macedonia listing   \n",
       " 119                                                NaN   \n",
       " 120                                                NaN   \n",
       " 121                                                NaN   \n",
       " 122                                                NaN   \n",
       " 123                                                NaN   \n",
       " 124                                                NaN   \n",
       " 125                                                NaN   \n",
       " 126                                                NaN   \n",
       " 127                                                NaN   \n",
       " 128                                                NaN   \n",
       " 129                                                NaN   \n",
       " 130                                                NaN   \n",
       " 131                                                NaN   \n",
       " 132                                                NaN   \n",
       " 133                                                NaN   \n",
       " 134                                                NaN   \n",
       " 135                                                NaN   \n",
       " 136                                                NaN   \n",
       " 137             Nagorno-Karabakh → See Artsakh listing   \n",
       " 138                                                NaN   \n",
       " 139                                                NaN   \n",
       " 140                                                NaN   \n",
       " 141                                                NaN   \n",
       " 142                                                NaN   \n",
       " 143                                                NaN   \n",
       " 144                                                NaN   \n",
       " 145                                                NaN   \n",
       " 146                            Niue → See Niue listing   \n",
       " 147             North Korea → See Korea, North listing   \n",
       " 148                                                NaN   \n",
       " 149      Northern Cyprus → See Northern Cyprus listing   \n",
       " 150                                                NaN   \n",
       " 151                                                NaN   \n",
       " 152                                                NaN   \n",
       " 153                                                NaN   \n",
       " 154  UN General Assembly observer state; member of ...   \n",
       " 155                                                NaN   \n",
       " 156                                                NaN   \n",
       " 157                                                NaN   \n",
       " 158                                                NaN   \n",
       " 159                                                NaN   \n",
       " 160                                                NaN   \n",
       " 161                                                NaN   \n",
       " 162           Pridnestrovie → See Transnistria listing   \n",
       " 163                                                NaN   \n",
       " 164       Republic of Korea → See Korea, South listing   \n",
       " 165  Republic of the Congo → See Congo, Republic of...   \n",
       " 166                                                NaN   \n",
       " 167                                                NaN   \n",
       " 168                                                NaN   \n",
       " 169  Sahrawi Arab Democratic Republic → See Sahrawi...   \n",
       " 170                                                NaN   \n",
       " 171                                                NaN   \n",
       " 172                                                NaN   \n",
       " 173                                                NaN   \n",
       " 174                                                NaN   \n",
       " 175                                                NaN   \n",
       " 176                                                NaN   \n",
       " 177                                                NaN   \n",
       " 178                                                NaN   \n",
       " 179                                                NaN   \n",
       " 180                                                NaN   \n",
       " 181                                                NaN   \n",
       " 182                                                NaN   \n",
       " 183                                                NaN   \n",
       " 184                                                NaN   \n",
       " 185                                                NaN   \n",
       " 186                Somaliland → See Somaliland listing   \n",
       " 187                                                NaN   \n",
       " 188             South Korea → See Korea, South listing   \n",
       " 189          South Ossetia → See South Ossetia listing   \n",
       " 190                                                NaN   \n",
       " 191                                                NaN   \n",
       " 192                                                NaN   \n",
       " 193                                                NaN   \n",
       " 194             Sudan, South → See South Sudan listing   \n",
       " 195                                                NaN   \n",
       " 196                   Swaziland → See Eswatini listing   \n",
       " 197                                                NaN   \n",
       " 198                                                NaN   \n",
       " 199                                                NaN   \n",
       " 200    Taiwan (Republic of China) → See Taiwan listing   \n",
       " 201                                                NaN   \n",
       " 202                                                NaN   \n",
       " 203                                                NaN   \n",
       " 204             The Bahamas → See Bahamas, The listing   \n",
       " 205               The Gambia → See Gambia, The listing   \n",
       " 206               Timor-Leste → See East Timor listing   \n",
       " 207                                                NaN   \n",
       " 208                                                NaN   \n",
       " 209            Transnistria → See Transnistria listing   \n",
       " 210                                                NaN   \n",
       " 211                                                NaN   \n",
       " 212                                                NaN   \n",
       " 213                                                NaN   \n",
       " 214                                                NaN   \n",
       " 215                                                NaN   \n",
       " 216                                                NaN   \n",
       " 217                                                NaN   \n",
       " 218                                                NaN   \n",
       " 219                                                NaN   \n",
       " 220                                                NaN   \n",
       " 221                                                NaN   \n",
       " 222                                                NaN   \n",
       " 223  UN General Assembly observer state under the d...   \n",
       " 224                                                NaN   \n",
       " 225                                                NaN   \n",
       " 226  Western Sahara → See Sahrawi Arab Democratic R...   \n",
       " 227                                                NaN   \n",
       " 228                                                NaN   \n",
       " 229                                                NaN   \n",
       " 230                                                NaN   \n",
       " 231                                                NaN   \n",
       " 232                                                NaN   \n",
       " 233                                                NaN   \n",
       " 234                                                NaN   \n",
       " 235                            UN specialized agencies   \n",
       " 236                                                NaN   \n",
       " 237                            UN specialized agencies   \n",
       " 238                                                NaN   \n",
       " 239                            UN specialized agencies   \n",
       " 240                                                NaN   \n",
       " 241                                                NaN   \n",
       " 242                                                NaN   \n",
       " 243                                                NaN   \n",
       " 244                                                NaN   \n",
       " 245                                                NaN   \n",
       " 246                                                NaN   \n",
       " 247                                                NaN   \n",
       " \n",
       "                                 Sovereignty dispute[c]  \\\n",
       " 0                                                  NaN   \n",
       " 1                                                  NaN   \n",
       " 2                      Abkhazia → See Abkhazia listing   \n",
       " 3                                                  NaN   \n",
       " 4                                                  NaN   \n",
       " 5                                                  NaN   \n",
       " 6                                                  NaN   \n",
       " 7                                                  NaN   \n",
       " 8                                                  NaN   \n",
       " 9                                                  NaN   \n",
       " 10                         Not recognised by Pakistan.   \n",
       " 11                       Artsakh → See Artsakh listing   \n",
       " 12                                                 NaN   \n",
       " 13                                                 NaN   \n",
       " 14                                                 NaN   \n",
       " 15                                                 NaN   \n",
       " 16                                                 NaN   \n",
       " 17                                                 NaN   \n",
       " 18                                                 NaN   \n",
       " 19                                                 NaN   \n",
       " 20                                                 NaN   \n",
       " 21                                                 NaN   \n",
       " 22                                                 NaN   \n",
       " 23                                                 NaN   \n",
       " 24                                                 NaN   \n",
       " 25                                                 NaN   \n",
       " 26                                                 NaN   \n",
       " 27                                                 NaN   \n",
       " 28                                                 NaN   \n",
       " 29                                                 NaN   \n",
       " 30                                                 NaN   \n",
       " 31                         Burma → See Myanmar listing   \n",
       " 32                                                 NaN   \n",
       " 33                                                 NaN   \n",
       " 34                                                 NaN   \n",
       " 35                                                 NaN   \n",
       " 36                                                 NaN   \n",
       " 37                                                 NaN   \n",
       " 38                                                 NaN   \n",
       " 39                                                 NaN   \n",
       " 40           Partially unrecognised. Republic of China   \n",
       " 41             China, Republic of → See Taiwan listing   \n",
       " 42                                                 NaN   \n",
       " 43                                                 NaN   \n",
       " 44                                                 NaN   \n",
       " 45                                                 NaN   \n",
       " 46             Cook Islands → See Cook Islands listing   \n",
       " 47                                                 NaN   \n",
       " 48             Côte d'Ivoire → See Ivory Coast listing   \n",
       " 49                                                 NaN   \n",
       " 50                                                 NaN   \n",
       " 51                        Not recognised by Turkey[20]   \n",
       " 52                                                 NaN   \n",
       " 53   Democratic People's Republic of Korea → See Ko...   \n",
       " 54   Democratic Republic of the Congo → See Congo, ...   \n",
       " 55                                                 NaN   \n",
       " 56                                                 NaN   \n",
       " 57                                                 NaN   \n",
       " 58                                                 NaN   \n",
       " 59   Donetsk People's Republic → See Donetsk People...   \n",
       " 60                                                 NaN   \n",
       " 61                                                 NaN   \n",
       " 62                                                 NaN   \n",
       " 63                                                 NaN   \n",
       " 64                                                 NaN   \n",
       " 65                                                 NaN   \n",
       " 66                                                 NaN   \n",
       " 67                                                 NaN   \n",
       " 68                                                 NaN   \n",
       " 69                                                 NaN   \n",
       " 70                                                 NaN   \n",
       " 71                                                 NaN   \n",
       " 72                                                 NaN   \n",
       " 73                                                 NaN   \n",
       " 74                                                 NaN   \n",
       " 75                                                 NaN   \n",
       " 76                                                 NaN   \n",
       " 77                                                 NaN   \n",
       " 78                                                 NaN   \n",
       " 79                                                 NaN   \n",
       " 80                                                 NaN   \n",
       " 81                                                 NaN   \n",
       " 82                                                 NaN   \n",
       " 83                                                 NaN   \n",
       " 84               Holland → See the Netherlands listing   \n",
       " 85                 Holy See → See Vatican City listing   \n",
       " 86                                                 NaN   \n",
       " 87                                                 NaN   \n",
       " 88                                                 NaN   \n",
       " 89                                                 NaN   \n",
       " 90                                                 NaN   \n",
       " 91                                                 NaN   \n",
       " 92                                                 NaN   \n",
       " 93                                                 NaN   \n",
       " 94                              Partially unrecognised   \n",
       " 95                                                 NaN   \n",
       " 96                                                 NaN   \n",
       " 97                                                 NaN   \n",
       " 98                                                 NaN   \n",
       " 99                                                 NaN   \n",
       " 100                                                NaN   \n",
       " 101                                                NaN   \n",
       " 102                                                NaN   \n",
       " 103                                        South Korea   \n",
       " 104                                        North Korea   \n",
       " 105                        Kosovo → See Kosovo listing   \n",
       " 106                                                NaN   \n",
       " 107                                                NaN   \n",
       " 108                                                NaN   \n",
       " 109                                                NaN   \n",
       " 110                                                NaN   \n",
       " 111                                                NaN   \n",
       " 112                                                NaN   \n",
       " 113                                                NaN   \n",
       " 114                                                NaN   \n",
       " 115                                                NaN   \n",
       " 116  Luhansk People's Republic → See Luhansk People...   \n",
       " 117                                                NaN   \n",
       " 118            Macedonia → See North Macedonia listing   \n",
       " 119                                                NaN   \n",
       " 120                                                NaN   \n",
       " 121                                                NaN   \n",
       " 122                                                NaN   \n",
       " 123                                                NaN   \n",
       " 124                                                NaN   \n",
       " 125                                                NaN   \n",
       " 126                                                NaN   \n",
       " 127                                                NaN   \n",
       " 128                                                NaN   \n",
       " 129                                                NaN   \n",
       " 130                                                NaN   \n",
       " 131                                                NaN   \n",
       " 132                                                NaN   \n",
       " 133                                                NaN   \n",
       " 134                                                NaN   \n",
       " 135                                                NaN   \n",
       " 136                                                NaN   \n",
       " 137             Nagorno-Karabakh → See Artsakh listing   \n",
       " 138                                                NaN   \n",
       " 139                                                NaN   \n",
       " 140                                                NaN   \n",
       " 141                                                NaN   \n",
       " 142                                                NaN   \n",
       " 143                                                NaN   \n",
       " 144                                                NaN   \n",
       " 145                                                NaN   \n",
       " 146                            Niue → See Niue listing   \n",
       " 147             North Korea → See Korea, North listing   \n",
       " 148                                                NaN   \n",
       " 149      Northern Cyprus → See Northern Cyprus listing   \n",
       " 150                                                NaN   \n",
       " 151                                                NaN   \n",
       " 152                                                NaN   \n",
       " 153                                                NaN   \n",
       " 154                            Partially unrecognised.   \n",
       " 155                                                NaN   \n",
       " 156                                                NaN   \n",
       " 157                                                NaN   \n",
       " 158                                                NaN   \n",
       " 159                                                NaN   \n",
       " 160                                                NaN   \n",
       " 161                                                NaN   \n",
       " 162           Pridnestrovie → See Transnistria listing   \n",
       " 163                                                NaN   \n",
       " 164       Republic of Korea → See Korea, South listing   \n",
       " 165  Republic of the Congo → See Congo, Republic of...   \n",
       " 166                                                NaN   \n",
       " 167                                                NaN   \n",
       " 168                                                NaN   \n",
       " 169  Sahrawi Arab Democratic Republic → See Sahrawi...   \n",
       " 170                                                NaN   \n",
       " 171                                                NaN   \n",
       " 172                                                NaN   \n",
       " 173                                                NaN   \n",
       " 174                                                NaN   \n",
       " 175                                                NaN   \n",
       " 176                                                NaN   \n",
       " 177                                                NaN   \n",
       " 178                                                NaN   \n",
       " 179                                                NaN   \n",
       " 180                                                NaN   \n",
       " 181                                                NaN   \n",
       " 182                                                NaN   \n",
       " 183                                                NaN   \n",
       " 184                                                NaN   \n",
       " 185                                                NaN   \n",
       " 186                Somaliland → See Somaliland listing   \n",
       " 187                                                NaN   \n",
       " 188             South Korea → See Korea, South listing   \n",
       " 189          South Ossetia → See South Ossetia listing   \n",
       " 190                                                NaN   \n",
       " 191                                                NaN   \n",
       " 192                                                NaN   \n",
       " 193                                                NaN   \n",
       " 194             Sudan, South → See South Sudan listing   \n",
       " 195                                                NaN   \n",
       " 196                   Swaziland → See Eswatini listing   \n",
       " 197                                                NaN   \n",
       " 198                                                NaN   \n",
       " 199                                                NaN   \n",
       " 200    Taiwan (Republic of China) → See Taiwan listing   \n",
       " 201                                                NaN   \n",
       " 202                                                NaN   \n",
       " 203                                                NaN   \n",
       " 204             The Bahamas → See Bahamas, The listing   \n",
       " 205               The Gambia → See Gambia, The listing   \n",
       " 206               Timor-Leste → See East Timor listing   \n",
       " 207                                                NaN   \n",
       " 208                                                NaN   \n",
       " 209            Transnistria → See Transnistria listing   \n",
       " 210                                                NaN   \n",
       " 211                                                NaN   \n",
       " 212                                                NaN   \n",
       " 213                                                NaN   \n",
       " 214                                                NaN   \n",
       " 215                                                NaN   \n",
       " 216                                                NaN   \n",
       " 217                                                NaN   \n",
       " 218                                                NaN   \n",
       " 219                                                NaN   \n",
       " 220                                                NaN   \n",
       " 221                                                NaN   \n",
       " 222                                                NaN   \n",
       " 223                                                NaN   \n",
       " 224                                                NaN   \n",
       " 225                                                NaN   \n",
       " 226  Western Sahara → See Sahrawi Arab Democratic R...   \n",
       " 227                                                NaN   \n",
       " 228                                                NaN   \n",
       " 229                                                NaN   \n",
       " 230                                                NaN   \n",
       " 231                                                NaN   \n",
       " 232                                                NaN   \n",
       " 233                                            Georgia   \n",
       " 234                                         Azerbaijan   \n",
       " 235                             (See political status)   \n",
       " 236                                            Ukraine   \n",
       " 237                                             Serbia   \n",
       " 238                                            Ukraine   \n",
       " 239                             (See political status)   \n",
       " 240                                 Republic of Cyprus   \n",
       " 241                                            Morocco   \n",
       " 242                                            Somalia   \n",
       " 243                                            Georgia   \n",
       " 244  Partially unrecognised. People's Republic of C...   \n",
       " 245                                            Moldova   \n",
       " 246                                                NaN   \n",
       " 247                                                NaN   \n",
       " \n",
       "     Further information on status and recognition of sovereignty[e]  \n",
       " 0                                                  NaN               \n",
       " 1                                                  NaN               \n",
       " 2                      Abkhazia → See Abkhazia listing               \n",
       " 3    The de facto ruling government, the Islamic Em...               \n",
       " 4                                                  NaN               \n",
       " 5                                                  NaN               \n",
       " 6    Andorra is a co-principality in which the offi...               \n",
       " 7                                                  NaN               \n",
       " 8    Antigua and Barbuda is a Commonwealth realm[f]...               \n",
       " 9    Argentina is a federation of 23 provinces and ...               \n",
       " 10   Armenia is not recognised by Pakistan due to t...               \n",
       " 11                       Artsakh → See Artsakh listing               \n",
       " 12   Australia is a Commonwealth realm[f] and a fed...               \n",
       " 13   Member of the European Union.[d] Austria is a ...               \n",
       " 14   Azerbaijan contains one autonomous region, Nak...               \n",
       " 15             The Bahamas is a Commonwealth realm.[f]               \n",
       " 16                                                 NaN               \n",
       " 17                                                 NaN               \n",
       " 18                                                 NaN               \n",
       " 19   Many states rescinded their recognition of Pre...               \n",
       " 20   Member of the EU.[d] Belgium is a federation o...               \n",
       " 21                  Belize is a Commonwealth realm.[f]               \n",
       " 22                                                 NaN               \n",
       " 23                                                 NaN               \n",
       " 24                                                 NaN               \n",
       " 25   Bosnia and Herzegovina has two constituent ent...               \n",
       " 26                                                 NaN               \n",
       " 27   Brazil is a federation of 26 states and one fe...               \n",
       " 28                                                 NaN               \n",
       " 29                                Member of the EU.[d]               \n",
       " 30                                                 NaN               \n",
       " 31                         Burma → See Myanmar listing               \n",
       " 32                                                 NaN               \n",
       " 33                                                 NaN               \n",
       " 34                                                 NaN               \n",
       " 35   Canada is a Commonwealth realm[f] and a federa...               \n",
       " 36                                                 NaN               \n",
       " 37                                                 NaN               \n",
       " 38                                                 NaN               \n",
       " 39   Chile has one special territory, Easter Island...               \n",
       " 40   China contains five autonomous regions, Guangx...               \n",
       " 41             China, Republic of → See Taiwan listing               \n",
       " 42                                                 NaN               \n",
       " 43        Comoros is a federation of three islands.[p]               \n",
       " 44                                                 NaN               \n",
       " 45                                                 NaN               \n",
       " 46             Cook Islands → See Cook Islands listing               \n",
       " 47                                                 NaN               \n",
       " 48             Côte d'Ivoire → See Ivory Coast listing               \n",
       " 49                                Member of the EU.[d]               \n",
       " 50                                                 NaN               \n",
       " 51   Member of the EU.[d] The northeastern part of ...               \n",
       " 52                                Member of the EU.[d]               \n",
       " 53   Democratic People's Republic of Korea → See Ko...               \n",
       " 54   Democratic Republic of the Congo → See Congo, ...               \n",
       " 55   Member of the EU.[d] The Kingdom of Denmark in...               \n",
       " 56                                                 NaN               \n",
       " 57                                                 NaN               \n",
       " 58                                                 NaN               \n",
       " 59   Donetsk People's Republic → See Donetsk People...               \n",
       " 60                                                 NaN               \n",
       " 61                                                 NaN               \n",
       " 62                                                 NaN               \n",
       " 63                                                 NaN               \n",
       " 64                                                 NaN               \n",
       " 65                                                 NaN               \n",
       " 66                                Member of the EU.[d]               \n",
       " 67                                                 NaN               \n",
       " 68   Ethiopia is a federation of nine regions and t...               \n",
       " 69   Fiji contains one autonomous region, Rotuma.[g...               \n",
       " 70   Member of the EU.[d]  Åland is a neutral and d...               \n",
       " 71   Member of the EU.[d] France contains five over...               \n",
       " 72                                                 NaN               \n",
       " 73                                                 NaN               \n",
       " 74   Georgia contains two autonomous republics, Adj...               \n",
       " 75   Member of the EU.[d] Germany is a federation o...               \n",
       " 76                                                 NaN               \n",
       " 77   Member of the EU.[d] Greece contains one auton...               \n",
       " 78                 Grenada is a Commonwealth realm.[f]               \n",
       " 79                                                 NaN               \n",
       " 80                                                 NaN               \n",
       " 81                                                 NaN               \n",
       " 82                                                 NaN               \n",
       " 83                                                 NaN               \n",
       " 84               Holland → See the Netherlands listing               \n",
       " 85                 Holy See → See Vatican City listing               \n",
       " 86                                                 NaN               \n",
       " 87                                Member of the EU.[d]               \n",
       " 88                                                 NaN               \n",
       " 89   India is a federation of 28 states and eight u...               \n",
       " 90   Indonesia has eight autonomous provinces, Aceh...               \n",
       " 91                                                 NaN               \n",
       " 92   Iraq is a federation[p][30] of 19 governorates...               \n",
       " 93                                Member of the EU.[d]               \n",
       " 94   Israel exerts strong control over the territor...               \n",
       " 95   Member of the EU.[d] Italy has 5 autonomous re...               \n",
       " 96                                                 NaN               \n",
       " 97                 Jamaica is a Commonwealth realm.[f]               \n",
       " 98                                                 NaN               \n",
       " 99                                                 NaN               \n",
       " 100                                                NaN               \n",
       " 101                                                NaN               \n",
       " 102                                                NaN               \n",
       " 103  North Korea is not recognised by three UN memb...               \n",
       " 104  South Korea has one autonomous region, Jejudo....               \n",
       " 105                        Kosovo → See Kosovo listing               \n",
       " 106                                                NaN               \n",
       " 107                                                NaN               \n",
       " 108                                                NaN               \n",
       " 109                               Member of the EU.[d]               \n",
       " 110                                                NaN               \n",
       " 111                                                NaN               \n",
       " 112                                                NaN               \n",
       " 113                                                NaN               \n",
       " 114                                                NaN               \n",
       " 115                               Member of the EU.[d]               \n",
       " 116  Luhansk People's Republic → See Luhansk People...               \n",
       " 117                               Member of the EU.[d]               \n",
       " 118            Macedonia → See North Macedonia listing               \n",
       " 119                                                NaN               \n",
       " 120                                                NaN               \n",
       " 121  Malaysia is a federation of 13 states and thre...               \n",
       " 122                                                NaN               \n",
       " 123                                                NaN               \n",
       " 124                               Member of the EU.[d]               \n",
       " 125  Under Compact of Free Association with the Uni...               \n",
       " 126                                                NaN               \n",
       " 127  Mauritius has an autonomous island, Rodrigues.[g]               \n",
       " 128  Mexico is a federation of 31 states and one au...               \n",
       " 129  Under Compact of Free Association with the Uni...               \n",
       " 130  Moldova has the autonomous regions of Gagauzia...               \n",
       " 131                                                NaN               \n",
       " 132                                                NaN               \n",
       " 133                                                NaN               \n",
       " 134  Part of the Moroccan-claimed Western Sahara is...               \n",
       " 135                                                NaN               \n",
       " 136  Wa State is a de facto autonomous state within...               \n",
       " 137             Nagorno-Karabakh → See Artsakh listing               \n",
       " 138                                                NaN               \n",
       " 139                                                NaN               \n",
       " 140     Nepal is a federation composed of 7 provinces.               \n",
       " 141  Member of the EU.[d] The Kingdom of the Nether...               \n",
       " 142  New Zealand is a Commonwealth realm,[f] and ha...               \n",
       " 143  Nicaragua contains two autonomous regions, Atl...               \n",
       " 144                                                NaN               \n",
       " 145  Nigeria is a federation of 36 states and one f...               \n",
       " 146                            Niue → See Niue listing               \n",
       " 147             North Korea → See Korea, North listing               \n",
       " 148                                                NaN               \n",
       " 149      Northern Cyprus → See Northern Cyprus listing               \n",
       " 150  Norway has two unincorporated areas in Europe:...               \n",
       " 151                                                NaN               \n",
       " 152  Pakistan is a federation of four provinces and...               \n",
       " 153  Under Compact of Free Association with the Uni...               \n",
       " 154  The State of Palestine, declared in 1988, is n...               \n",
       " 155                                                NaN               \n",
       " 156  Papua New Guinea is a Commonwealth realm[f] wi...               \n",
       " 157                                                NaN               \n",
       " 158                                                NaN               \n",
       " 159  The Philippines contains one autonomous region...               \n",
       " 160                               Member of the EU.[d]               \n",
       " 161  Member of the EU.[d] Portugal contains two aut...               \n",
       " 162           Pridnestrovie → See Transnistria listing               \n",
       " 163                                                NaN               \n",
       " 164       Republic of Korea → See Korea, South listing               \n",
       " 165  Republic of the Congo → See Congo, Republic of...               \n",
       " 166                               Member of the EU.[d]               \n",
       " 167  Russia is a federation of 85 federal subjects ...               \n",
       " 168                                                NaN               \n",
       " 169  Sahrawi Arab Democratic Republic → See Sahrawi...               \n",
       " 170  Saint Kitts and Nevis is a Commonwealth realm[...               \n",
       " 171            Saint Lucia is a Commonwealth realm.[f]               \n",
       " 172  Saint Vincent and the Grenadines is a Commonwe...               \n",
       " 173                                                NaN               \n",
       " 174                                                NaN               \n",
       " 175  São Tomé and Príncipe contains one autonomous ...               \n",
       " 176                                                NaN               \n",
       " 177                                                NaN               \n",
       " 178  Serbia contains two autonomous regions, Vojvod...               \n",
       " 179                                                NaN               \n",
       " 180                                                NaN               \n",
       " 181                                                NaN               \n",
       " 182                               Member of the EU.[d]               \n",
       " 183                               Member of the EU.[d]               \n",
       " 184        Solomon Islands is a Commonwealth realm.[f]               \n",
       " 185  Somalia is a federation of six states. Two, Pu...               \n",
       " 186                Somaliland → See Somaliland listing               \n",
       " 187                                                NaN               \n",
       " 188             South Korea → See Korea, South listing               \n",
       " 189          South Ossetia → See South Ossetia listing               \n",
       " 190  South Sudan is a federation of 10 states and t...               \n",
       " 191  Member of the EU.[d] Spain is divided into 17 ...               \n",
       " 192                                                NaN               \n",
       " 193  Sudan is a federation of 18 states. The Abyei ...               \n",
       " 194             Sudan, South → See South Sudan listing               \n",
       " 195                                                NaN               \n",
       " 196                   Swaziland → See Eswatini listing               \n",
       " 197                               Member of the EU.[d]               \n",
       " 198         Switzerland is a federation of 26 cantons.               \n",
       " 199  The Syrian National Coalition, which is recogn...               \n",
       " 200    Taiwan (Republic of China) → See Taiwan listing               \n",
       " 201  Tajikistan contains one autonomous region, Gor...               \n",
       " 202  Tanzania contains one autonomous region, Zanzi...               \n",
       " 203                                                NaN               \n",
       " 204             The Bahamas → See Bahamas, The listing               \n",
       " 205               The Gambia → See Gambia, The listing               \n",
       " 206               Timor-Leste → See East Timor listing               \n",
       " 207                                                NaN               \n",
       " 208                                                NaN               \n",
       " 209            Transnistria → See Transnistria listing               \n",
       " 210  Trinidad and Tobago contains one autonomous re...               \n",
       " 211                                                NaN               \n",
       " 212                                                NaN               \n",
       " 213                                                NaN               \n",
       " 214                 Tuvalu is a Commonwealth realm.[f]               \n",
       " 215                                                NaN               \n",
       " 216  Ukraine contains one autonomous region, the Au...               \n",
       " 217  The United Arab Emirates is a federation of se...               \n",
       " 218  The United Kingdom is a Commonwealth realm[f] ...               \n",
       " 219  The United States is a federation of 50 states...               \n",
       " 220                                                NaN               \n",
       " 221  Uzbekistan contains one autonomous region, Kar...               \n",
       " 222                                                NaN               \n",
       " 223  Administered by the Holy See, a sovereign enti...               \n",
       " 224  Venezuela is a federation of 23 states, one ca...               \n",
       " 225                                                NaN               \n",
       " 226  Western Sahara → See Sahrawi Arab Democratic R...               \n",
       " 227                                                NaN               \n",
       " 228                                                NaN               \n",
       " 229                                                NaN               \n",
       " 230                                                NaN               \n",
       " 231                                                NaN               \n",
       " 232                                                NaN               \n",
       " 233  Recognised by Russia, Nauru, Nicaragua, Syria,...               \n",
       " 234  A de facto independent state,[61][62][63] reco...               \n",
       " 235  A state in free association with New Zealand, ...               \n",
       " 236  Recognised by Russia, Syria, North Korea, Sout...               \n",
       " 237  Pursuant to United Nations Security Council Re...               \n",
       " 238  Recognised by Russia, Syria, North Korea, Sout...               \n",
       " 239  A state in free association with New Zealand, ...               \n",
       " 240  Recognised only by Turkey. Under the name \"Tur...               \n",
       " 241  Recognised at some stage by 84 UN member state...               \n",
       " 242  A de facto independent state,[61][71][72][73][...               \n",
       " 243  A de facto independent state,[76] recognised b...               \n",
       " 244  A state competing (nominally) for recognition ...               \n",
       " 245  A de facto independent state,[61] recognised o...               \n",
       " 246                                                NaN               \n",
       " 247                                                NaN               ,\n",
       "                                                    0  \\\n",
       " 0  \"Membership within the UN System\" column legen...   \n",
       " \n",
       "                                                    1  \n",
       " 0  \"Sovereignty dispute\" column legend Undisputed...  ,\n",
       "   .mw-parser-output .navbar{display:inline;font-size:88%;font-weight:normal}.mw-parser-output .navbar-collapse{float:left;text-align:left}.mw-parser-output .navbar-boxtext{word-spacing:0}.mw-parser-output .navbar ul{display:inline-block;white-space:nowrap;line-height:inherit}.mw-parser-output .navbar-brackets::before{margin-right:-0.125em;content:\"[ \"}.mw-parser-output .navbar-brackets::after{margin-left:-0.125em;content:\" ]\"}.mw-parser-output .navbar li{word-spacing:-0.125em}.mw-parser-output .navbar a>span,.mw-parser-output .navbar a>abbr{text-decoration:inherit}.mw-parser-output .navbar-mini abbr{font-variant:small-caps;border-bottom:none;text-decoration:none;cursor:inherit}.mw-parser-output .navbar-ct-full{font-size:114%;margin:0 7em}.mw-parser-output .navbar-ct-mini{font-size:114%;margin:0 4em}vteEarth  \\\n",
       " 0                                         Continents                                                                                                                                                                                                                                                                                                                                                                                                                                                                                                                                                                                                                                                                                                                                                                                                 \n",
       " 1                                             Oceans                                                                                                                                                                                                                                                                                                                                                                                                                                                                                                                                                                                                                                                                                                                                                                                                 \n",
       " 2                                            Geology                                                                                                                                                                                                                                                                                                                                                                                                                                                                                                                                                                                                                                                                                                                                                                                                 \n",
       " 3                                         Atmosphere                                                                                                                                                                                                                                                                                                                                                                                                                                                                                                                                                                                                                                                                                                                                                                                                 \n",
       " 4                                            Climate                                                                                                                                                                                                                                                                                                                                                                                                                                                                                                                                                                                                                                                                                                                                                                                                 \n",
       " 5                                        Environment                                                                                                                                                                                                                                                                                                                                                                                                                                                                                                                                                                                                                                                                                                                                                                                                 \n",
       " 6                                        Cartography                                                                                                                                                                                                                                                                                                                                                                                                                                                                                                                                                                                                                                                                                                                                                                                                 \n",
       " 7                                Culture and society                                                                                                                                                                                                                                                                                                                                                                                                                                                                                                                                                                                                                                                                                                                                                                                                 \n",
       " 8                                  Planetary science                                                                                                                                                                                                                                                                                                                                                                                                                                                                                                                                                                                                                                                                                                                                                                                                 \n",
       " 9  Category  Commons Outline  World portal  Earth...                                                                                                                                                                                                                                                                                                                                                                                                                                                                                                                                                                                                                                                                                                                                                                                                 \n",
       " \n",
       "   .mw-parser-output .navbar{display:inline;font-size:88%;font-weight:normal}.mw-parser-output .navbar-collapse{float:left;text-align:left}.mw-parser-output .navbar-boxtext{word-spacing:0}.mw-parser-output .navbar ul{display:inline-block;white-space:nowrap;line-height:inherit}.mw-parser-output .navbar-brackets::before{margin-right:-0.125em;content:\"[ \"}.mw-parser-output .navbar-brackets::after{margin-left:-0.125em;content:\" ]\"}.mw-parser-output .navbar li{word-spacing:-0.125em}.mw-parser-output .navbar a>span,.mw-parser-output .navbar a>abbr{text-decoration:inherit}.mw-parser-output .navbar-mini abbr{font-variant:small-caps;border-bottom:none;text-decoration:none;cursor:inherit}.mw-parser-output .navbar-ct-full{font-size:114%;margin:0 7em}.mw-parser-output .navbar-ct-mini{font-size:114%;margin:0 4em}vteEarth.1  \\\n",
       " 0  Africa Antarctica Asia Australia Europe North ...                                                                                                                                                                                                                                                                                                                                                                                                                                                                                                                                                                                                                                                                                                                                                                                                   \n",
       " 1  Arctic Ocean Atlantic Ocean Indian Ocean Pacif...                                                                                                                                                                                                                                                                                                                                                                                                                                                                                                                                                                                                                                                                                                                                                                                                   \n",
       " 2  Age of Earth Geology Earth science Erosion Ext...                                                                                                                                                                                                                                                                                                                                                                                                                                                                                                                                                                                                                                                                                                                                                                                                   \n",
       " 3  Atmosphere of Earth Prebiotic atmosphere Tropo...                                                                                                                                                                                                                                                                                                                                                                                                                                                                                                                                                                                                                                                                                                                                                                                                   \n",
       " 4  Climate system Energy balance Climate change C...                                                                                                                                                                                                                                                                                                                                                                                                                                                                                                                                                                                                                                                                                                                                                                                                   \n",
       " 5  Biome Biosphere Biogeochemical cycles Ecology ...                                                                                                                                                                                                                                                                                                                                                                                                                                                                                                                                                                                                                                                                                                                                                                                                   \n",
       " 6  Digital mapping Satellite imagery Virtual glob...                                                                                                                                                                                                                                                                                                                                                                                                                                                                                                                                                                                                                                                                                                                                                                                                   \n",
       " 7  List of sovereign states dependent territories...                                                                                                                                                                                                                                                                                                                                                                                                                                                                                                                                                                                                                                                                                                                                                                                                   \n",
       " 8  Earth's orbit Evolution of the Solar System Ge...                                                                                                                                                                                                                                                                                                                                                                                                                                                                                                                                                                                                                                                                                                                                                                                                   \n",
       " 9  Category  Commons Outline  World portal  Earth...                                                                                                                                                                                                                                                                                                                                                                                                                                                                                                                                                                                                                                                                                                                                                                                                   \n",
       " \n",
       "   .mw-parser-output .navbar{display:inline;font-size:88%;font-weight:normal}.mw-parser-output .navbar-collapse{float:left;text-align:left}.mw-parser-output .navbar-boxtext{word-spacing:0}.mw-parser-output .navbar ul{display:inline-block;white-space:nowrap;line-height:inherit}.mw-parser-output .navbar-brackets::before{margin-right:-0.125em;content:\"[ \"}.mw-parser-output .navbar-brackets::after{margin-left:-0.125em;content:\" ]\"}.mw-parser-output .navbar li{word-spacing:-0.125em}.mw-parser-output .navbar a>span,.mw-parser-output .navbar a>abbr{text-decoration:inherit}.mw-parser-output .navbar-mini abbr{font-variant:small-caps;border-bottom:none;text-decoration:none;cursor:inherit}.mw-parser-output .navbar-ct-full{font-size:114%;margin:0 7em}.mw-parser-output .navbar-ct-mini{font-size:114%;margin:0 4em}vteEarth.2  \n",
       " 0                                                NaN                                                                                                                                                                                                                                                                                                                                                                                                                                                                                                                                                                                                                                                                                                                                                                                                  \n",
       " 1                                                NaN                                                                                                                                                                                                                                                                                                                                                                                                                                                                                                                                                                                                                                                                                                                                                                                                  \n",
       " 2                                                NaN                                                                                                                                                                                                                                                                                                                                                                                                                                                                                                                                                                                                                                                                                                                                                                                                  \n",
       " 3                                                NaN                                                                                                                                                                                                                                                                                                                                                                                                                                                                                                                                                                                                                                                                                                                                                                                                  \n",
       " 4                                                NaN                                                                                                                                                                                                                                                                                                                                                                                                                                                                                                                                                                                                                                                                                                                                                                                                  \n",
       " 5                                                NaN                                                                                                                                                                                                                                                                                                                                                                                                                                                                                                                                                                                                                                                                                                                                                                                                  \n",
       " 6                                                NaN                                                                                                                                                                                                                                                                                                                                                                                                                                                                                                                                                                                                                                                                                                                                                                                                  \n",
       " 7                                                NaN                                                                                                                                                                                                                                                                                                                                                                                                                                                                                                                                                                                                                                                                                                                                                                                                  \n",
       " 8                                                NaN                                                                                                                                                                                                                                                                                                                                                                                                                                                                                                                                                                                                                                                                                                                                                                                                  \n",
       " 9  Category  Commons Outline  World portal  Earth...                                                                                                                                                                                                                                                                                                                                                                                                                                                                                                                                                                                                                                                                                                                                                                                                  ,\n",
       "   vteList of sovereign states and dependent territories by continent  \\\n",
       " 0                                         Continents                   \n",
       " 1                             Continental landmasses                   \n",
       " 2                                            Islands                   \n",
       " \n",
       "   vteList of sovereign states and dependent territories by continent.1  \n",
       " 0  Africa Antarctica Asia Europe North America Oc...                    \n",
       " 1                                   Americas Eurasia                    \n",
       " 2                           List of island countries                    ,\n",
       "   vteLists of political entities by century  \\\n",
       " 0                                   AD (CE)   \n",
       " 1          Current list of sovereign states   \n",
       " 2                                 Centuries   \n",
       " 3                                   Decades   \n",
       " 4                                      Ages   \n",
       " 5                                  BC (BCE)   \n",
       " 6                                 Centuries   \n",
       " 7                                      Ages   \n",
       " \n",
       "          vteLists of political entities by century.1  \n",
       " 0  Current list of sovereign states Centuries 1st...  \n",
       " 1                   Current list of sovereign states  \n",
       " 2  1st 2nd 3rd 4th 5th 6th 7th 8th 9th 10th 11th ...  \n",
       " 3  1400s 1460s 1520s 1620s 1660s 1750s 1760s 1770...  \n",
       " 4                    Classical Late Antiquity Middle  \n",
       " 5  Centuries 35th BC 21st BC 20th BC 19th BC 18th...  \n",
       " 6  35th BC 21st BC 20th BC 19th BC 18th BC 17th B...  \n",
       " 7                       Copper Bronze Iron Classical  ,\n",
       "                                   0  \\\n",
       " 0  Current list of sovereign states   \n",
       " 1                         Centuries   \n",
       " 2                           Decades   \n",
       " 3                              Ages   \n",
       " \n",
       "                                                    1  \n",
       " 0                   Current list of sovereign states  \n",
       " 1  1st 2nd 3rd 4th 5th 6th 7th 8th 9th 10th 11th ...  \n",
       " 2  1400s 1460s 1520s 1620s 1660s 1750s 1760s 1770...  \n",
       " 3                    Classical Late Antiquity Middle  ,\n",
       "            0                                                  1\n",
       " 0  Centuries  35th BC 21st BC 20th BC 19th BC 18th BC 17th B...\n",
       " 1       Ages                       Copper Bronze Iron Classical,\n",
       "                   vteStates with limited recognition  \\\n",
       " 0  Details concerning international recognition a...   \n",
       " 1                                   UN member states   \n",
       " 2                             Partially unrecognised   \n",
       " 3                              UN GA observer states   \n",
       " 4                             Partially unrecognised   \n",
       " 5                                Non-UN memberstates   \n",
       " 6                Recognised by at leastone UN member   \n",
       " 7                   Recognised only bynon-UN members   \n",
       " 8                                       Unrecognised   \n",
       " \n",
       "                 vteStates with limited recognition.1  \n",
       " 0  Details concerning international recognition a...  \n",
       " 1  Partially unrecognised Republic of Armenia rel...  \n",
       " 2  Republic of Armenia relations People's Republi...  \n",
       " 3  Partially unrecognised State of Palestine reco...  \n",
       " 4           State of Palestine recognition relations  \n",
       " 5  Recognised by at leastone UN member Republic o...  \n",
       " 6  Republic of Abkhazia recognition relations Rep...  \n",
       " 7  Republic of Artsakh recognition relations Prid...  \n",
       " 8                   Republic of Somaliland relations  ,\n",
       "                         0                                                  1\n",
       " 0  Partially unrecognised  Republic of Armenia relations People's Republi...,\n",
       "                         0                                         1\n",
       " 0  Partially unrecognised  State of Palestine recognition relations,\n",
       "                                      0  \\\n",
       " 0  Recognised by at leastone UN member   \n",
       " 1     Recognised only bynon-UN members   \n",
       " 2                         Unrecognised   \n",
       " \n",
       "                                                    1  \n",
       " 0  Republic of Abkhazia recognition relations Rep...  \n",
       " 1  Republic of Artsakh recognition relations Prid...  \n",
       " 2                   Republic of Somaliland relations  ]"
      ]
     },
     "execution_count": 26,
     "metadata": {},
     "output_type": "execute_result"
    }
   ],
   "source": [
    "country"
   ]
  },
  {
   "cell_type": "code",
   "execution_count": 27,
   "id": "a5b0c13e",
   "metadata": {},
   "outputs": [],
   "source": [
    "# pandas data structure:series\n",
    "# series is one dimensional array with label which can hold data of any type such as integer,string,float,python object etc\n",
    "# in series,we can set own index label like 'a','b','c'.....\n",
    "# passed index is the list of axis label"
   ]
  },
  {
   "cell_type": "code",
   "execution_count": 31,
   "id": "8b5ee3c0",
   "metadata": {},
   "outputs": [],
   "source": [
    "list1=[53,63,63,39,92,20]\n",
    "s1=pd.Series(list1)"
   ]
  },
  {
   "cell_type": "code",
   "execution_count": 32,
   "id": "a75ddf4d",
   "metadata": {},
   "outputs": [
    {
     "data": {
      "text/plain": [
       "0    53\n",
       "1    63\n",
       "2    63\n",
       "3    39\n",
       "4    92\n",
       "5    20\n",
       "dtype: int64"
      ]
     },
     "execution_count": 32,
     "metadata": {},
     "output_type": "execute_result"
    }
   ],
   "source": [
    "s1"
   ]
  },
  {
   "cell_type": "code",
   "execution_count": 33,
   "id": "8cb9849a",
   "metadata": {},
   "outputs": [],
   "source": [
    "s2=pd.Series(list1,index=['a','b','c','d','e','f'])"
   ]
  },
  {
   "cell_type": "code",
   "execution_count": 34,
   "id": "722a6d6d",
   "metadata": {},
   "outputs": [
    {
     "data": {
      "text/plain": [
       "a    53\n",
       "b    63\n",
       "c    63\n",
       "d    39\n",
       "e    92\n",
       "f    20\n",
       "dtype: int64"
      ]
     },
     "execution_count": 34,
     "metadata": {},
     "output_type": "execute_result"
    }
   ],
   "source": [
    "s2"
   ]
  },
  {
   "cell_type": "code",
   "execution_count": 35,
   "id": "1c0bb89e",
   "metadata": {},
   "outputs": [
    {
     "data": {
      "text/plain": [
       "Index(['a', 'b', 'c', 'd', 'e', 'f'], dtype='object')"
      ]
     },
     "execution_count": 35,
     "metadata": {},
     "output_type": "execute_result"
    }
   ],
   "source": [
    "s2.index"
   ]
  },
  {
   "cell_type": "code",
   "execution_count": 36,
   "id": "9d7b3269",
   "metadata": {},
   "outputs": [],
   "source": [
    "dict1={'a':300,'b':450,'c':643,'d':432}"
   ]
  },
  {
   "cell_type": "code",
   "execution_count": 43,
   "id": "de1a5510",
   "metadata": {},
   "outputs": [],
   "source": [
    "s3=pd.Series(dict1)"
   ]
  },
  {
   "cell_type": "code",
   "execution_count": 44,
   "id": "a4f71af7",
   "metadata": {},
   "outputs": [
    {
     "data": {
      "text/plain": [
       "a    300\n",
       "b    450\n",
       "c    643\n",
       "d    432\n",
       "dtype: int64"
      ]
     },
     "execution_count": 44,
     "metadata": {},
     "output_type": "execute_result"
    }
   ],
   "source": [
    "s3"
   ]
  },
  {
   "cell_type": "code",
   "execution_count": 46,
   "id": "1c191d21",
   "metadata": {},
   "outputs": [],
   "source": [
    "s4=pd.Series(dict1,index=['a','b','c','a','d','b'])"
   ]
  },
  {
   "cell_type": "code",
   "execution_count": 47,
   "id": "c95841a1",
   "metadata": {},
   "outputs": [
    {
     "data": {
      "text/plain": [
       "a    300\n",
       "b    450\n",
       "c    643\n",
       "a    300\n",
       "d    432\n",
       "b    450\n",
       "dtype: int64"
      ]
     },
     "execution_count": 47,
     "metadata": {},
     "output_type": "execute_result"
    }
   ],
   "source": [
    "s4"
   ]
  },
  {
   "cell_type": "code",
   "execution_count": 49,
   "id": "d826491f",
   "metadata": {},
   "outputs": [],
   "source": [
    "s5=pd.Series(100,index=['aa','bb','cc'])"
   ]
  },
  {
   "cell_type": "code",
   "execution_count": 50,
   "id": "0b0299c5",
   "metadata": {},
   "outputs": [
    {
     "data": {
      "text/plain": [
       "aa    100\n",
       "bb    100\n",
       "cc    100\n",
       "dtype: int64"
      ]
     },
     "execution_count": 50,
     "metadata": {},
     "output_type": "execute_result"
    }
   ],
   "source": [
    "s5"
   ]
  },
  {
   "cell_type": "code",
   "execution_count": 51,
   "id": "3b44398a",
   "metadata": {},
   "outputs": [
    {
     "data": {
      "text/plain": [
       "a    300\n",
       "b    450\n",
       "c    643\n",
       "a    300\n",
       "d    432\n",
       "b    450\n",
       "dtype: int64"
      ]
     },
     "execution_count": 51,
     "metadata": {},
     "output_type": "execute_result"
    }
   ],
   "source": [
    "s4"
   ]
  },
  {
   "cell_type": "code",
   "execution_count": 52,
   "id": "3eaa2a3d",
   "metadata": {},
   "outputs": [
    {
     "data": {
      "text/plain": [
       "array([300, 450, 643, 300, 432, 450], dtype=int64)"
      ]
     },
     "execution_count": 52,
     "metadata": {},
     "output_type": "execute_result"
    }
   ],
   "source": [
    "s4.to_numpy()"
   ]
  },
  {
   "cell_type": "code",
   "execution_count": 53,
   "id": "956715b9",
   "metadata": {},
   "outputs": [],
   "source": [
    "arr=s4.to_numpy()"
   ]
  },
  {
   "cell_type": "code",
   "execution_count": 54,
   "id": "e3e2b0d4",
   "metadata": {},
   "outputs": [
    {
     "data": {
      "text/plain": [
       "array([300, 450, 643, 300, 432, 450], dtype=int64)"
      ]
     },
     "execution_count": 54,
     "metadata": {},
     "output_type": "execute_result"
    }
   ],
   "source": [
    "arr"
   ]
  },
  {
   "cell_type": "code",
   "execution_count": 55,
   "id": "3c04df78",
   "metadata": {},
   "outputs": [
    {
     "data": {
      "text/plain": [
       "a    300\n",
       "b    450\n",
       "c    643\n",
       "a    300\n",
       "d    432\n",
       "b    450\n",
       "dtype: int64"
      ]
     },
     "execution_count": 55,
     "metadata": {},
     "output_type": "execute_result"
    }
   ],
   "source": [
    "s4"
   ]
  },
  {
   "cell_type": "code",
   "execution_count": 56,
   "id": "8b1a02a7",
   "metadata": {},
   "outputs": [
    {
     "data": {
      "text/plain": [
       "a     600\n",
       "b     900\n",
       "c    1286\n",
       "a     600\n",
       "d     864\n",
       "b     900\n",
       "dtype: int64"
      ]
     },
     "execution_count": 56,
     "metadata": {},
     "output_type": "execute_result"
    }
   ],
   "source": [
    "s4+s4"
   ]
  },
  {
   "cell_type": "code",
   "execution_count": 58,
   "id": "5fc1164d",
   "metadata": {},
   "outputs": [],
   "source": [
    "s7=s4*10"
   ]
  },
  {
   "cell_type": "code",
   "execution_count": 59,
   "id": "484574ac",
   "metadata": {},
   "outputs": [
    {
     "data": {
      "text/plain": [
       "a    3000\n",
       "b    4500\n",
       "c    6430\n",
       "a    3000\n",
       "d    4320\n",
       "b    4500\n",
       "dtype: int64"
      ]
     },
     "execution_count": 59,
     "metadata": {},
     "output_type": "execute_result"
    }
   ],
   "source": [
    "s7"
   ]
  },
  {
   "cell_type": "code",
   "execution_count": 80,
   "id": "e5605f6c",
   "metadata": {},
   "outputs": [],
   "source": [
    "# numpy ke function me series ko pas kar sakte hai"
   ]
  },
  {
   "cell_type": "code",
   "execution_count": 81,
   "id": "9ec17785",
   "metadata": {},
   "outputs": [],
   "source": [
    "import numpy as np"
   ]
  },
  {
   "cell_type": "code",
   "execution_count": 82,
   "id": "b5e41327",
   "metadata": {},
   "outputs": [],
   "source": [
    "Arr1=np.exp(s4)"
   ]
  },
  {
   "cell_type": "code",
   "execution_count": 83,
   "id": "709d21bf",
   "metadata": {},
   "outputs": [
    {
     "data": {
      "text/plain": [
       "a    1.942426e+130\n",
       "b    2.707178e+195\n",
       "c    1.783823e+279\n",
       "a    1.942426e+130\n",
       "d    4.123027e+187\n",
       "b    2.707178e+195\n",
       "dtype: float64"
      ]
     },
     "execution_count": 83,
     "metadata": {},
     "output_type": "execute_result"
    }
   ],
   "source": [
    "Arr1"
   ]
  },
  {
   "cell_type": "code",
   "execution_count": 84,
   "id": "25d7285f",
   "metadata": {},
   "outputs": [],
   "source": [
    "Arr2=np.sin(s4)"
   ]
  },
  {
   "cell_type": "code",
   "execution_count": 85,
   "id": "93799c07",
   "metadata": {},
   "outputs": [
    {
     "data": {
      "text/plain": [
       "a   -0.999756\n",
       "b   -0.683284\n",
       "c    0.855489\n",
       "a   -0.999756\n",
       "d   -0.999519\n",
       "b   -0.683284\n",
       "dtype: float64"
      ]
     },
     "execution_count": 85,
     "metadata": {},
     "output_type": "execute_result"
    }
   ],
   "source": [
    "Arr2"
   ]
  },
  {
   "cell_type": "code",
   "execution_count": 86,
   "id": "33ec86c4",
   "metadata": {},
   "outputs": [],
   "source": [
    "Arr3=np.sqrt(s4)"
   ]
  },
  {
   "cell_type": "code",
   "execution_count": 87,
   "id": "b041cc37",
   "metadata": {},
   "outputs": [
    {
     "data": {
      "text/plain": [
       "a    17.320508\n",
       "b    21.213203\n",
       "c    25.357445\n",
       "a    17.320508\n",
       "d    20.784610\n",
       "b    21.213203\n",
       "dtype: float64"
      ]
     },
     "execution_count": 87,
     "metadata": {},
     "output_type": "execute_result"
    }
   ],
   "source": [
    "Arr3"
   ]
  },
  {
   "cell_type": "code",
   "execution_count": 88,
   "id": "9c3849f4",
   "metadata": {},
   "outputs": [],
   "source": [
    "Arr4=np.max(s4)"
   ]
  },
  {
   "cell_type": "code",
   "execution_count": 89,
   "id": "dcb9e6c3",
   "metadata": {},
   "outputs": [
    {
     "data": {
      "text/plain": [
       "643"
      ]
     },
     "execution_count": 89,
     "metadata": {},
     "output_type": "execute_result"
    }
   ],
   "source": [
    "Arr4"
   ]
  },
  {
   "cell_type": "code",
   "execution_count": 90,
   "id": "211946bd",
   "metadata": {},
   "outputs": [],
   "source": [
    "Arr5=np.log(s4)"
   ]
  },
  {
   "cell_type": "code",
   "execution_count": 91,
   "id": "afba181c",
   "metadata": {},
   "outputs": [
    {
     "data": {
      "text/plain": [
       "a    5.703782\n",
       "b    6.109248\n",
       "c    6.466145\n",
       "a    5.703782\n",
       "d    6.068426\n",
       "b    6.109248\n",
       "dtype: float64"
      ]
     },
     "execution_count": 91,
     "metadata": {},
     "output_type": "execute_result"
    }
   ],
   "source": [
    "Arr5"
   ]
  },
  {
   "cell_type": "code",
   "execution_count": 92,
   "id": "84888cae",
   "metadata": {},
   "outputs": [],
   "source": [
    "Arr6=np.mean(s4)"
   ]
  },
  {
   "cell_type": "code",
   "execution_count": 93,
   "id": "db8165c4",
   "metadata": {},
   "outputs": [
    {
     "data": {
      "text/plain": [
       "429.1666666666667"
      ]
     },
     "execution_count": 93,
     "metadata": {},
     "output_type": "execute_result"
    }
   ],
   "source": [
    "Arr6"
   ]
  },
  {
   "cell_type": "code",
   "execution_count": 94,
   "id": "0cef83c9",
   "metadata": {},
   "outputs": [],
   "source": [
    "Arr6=np.median(s4)"
   ]
  },
  {
   "cell_type": "code",
   "execution_count": 95,
   "id": "fdcc6447",
   "metadata": {},
   "outputs": [
    {
     "data": {
      "text/plain": [
       "441.0"
      ]
     },
     "execution_count": 95,
     "metadata": {},
     "output_type": "execute_result"
    }
   ],
   "source": [
    "Arr6"
   ]
  },
  {
   "cell_type": "code",
   "execution_count": 96,
   "id": "d5c07928",
   "metadata": {},
   "outputs": [],
   "source": [
    "Arr7=np.std(s4)"
   ]
  },
  {
   "cell_type": "code",
   "execution_count": 97,
   "id": "7e8eb36e",
   "metadata": {},
   "outputs": [
    {
     "data": {
      "text/plain": [
       "115.44755904257522"
      ]
     },
     "execution_count": 97,
     "metadata": {},
     "output_type": "execute_result"
    }
   ],
   "source": [
    "Arr7"
   ]
  },
  {
   "cell_type": "code",
   "execution_count": 98,
   "id": "78d5be4b",
   "metadata": {},
   "outputs": [],
   "source": [
    "Arr8=np.var(s4)"
   ]
  },
  {
   "cell_type": "code",
   "execution_count": 99,
   "id": "450301aa",
   "metadata": {},
   "outputs": [
    {
     "data": {
      "text/plain": [
       "13328.13888888889"
      ]
     },
     "execution_count": 99,
     "metadata": {},
     "output_type": "execute_result"
    }
   ],
   "source": [
    "Arr8"
   ]
  },
  {
   "cell_type": "code",
   "execution_count": 2,
   "id": "0da91cfc",
   "metadata": {},
   "outputs": [],
   "source": [
    "import pandas as pd"
   ]
  },
  {
   "cell_type": "code",
   "execution_count": 3,
   "id": "51c40c4f",
   "metadata": {},
   "outputs": [],
   "source": [
    "List2=[653,74,837]\n",
    "s6=pd.Series(List2,name=\"simplynumber\")"
   ]
  },
  {
   "cell_type": "code",
   "execution_count": 4,
   "id": "fea8de86",
   "metadata": {},
   "outputs": [
    {
     "data": {
      "text/plain": [
       "0    653\n",
       "1     74\n",
       "2    837\n",
       "Name: simplynumber, dtype: int64"
      ]
     },
     "execution_count": 4,
     "metadata": {},
     "output_type": "execute_result"
    }
   ],
   "source": [
    "s6"
   ]
  },
  {
   "cell_type": "code",
   "execution_count": 5,
   "id": "37267655",
   "metadata": {},
   "outputs": [],
   "source": [
    "s8=s6.rename('simplyinteger')"
   ]
  },
  {
   "cell_type": "code",
   "execution_count": 6,
   "id": "edc8aa5b",
   "metadata": {},
   "outputs": [
    {
     "data": {
      "text/plain": [
       "0    653\n",
       "1     74\n",
       "2    837\n",
       "Name: simplyinteger, dtype: int64"
      ]
     },
     "execution_count": 6,
     "metadata": {},
     "output_type": "execute_result"
    }
   ],
   "source": [
    "s8"
   ]
  },
  {
   "cell_type": "code",
   "execution_count": 8,
   "id": "873515fe",
   "metadata": {},
   "outputs": [
    {
     "data": {
      "text/plain": [
       "653"
      ]
     },
     "execution_count": 8,
     "metadata": {},
     "output_type": "execute_result"
    }
   ],
   "source": [
    "s8[0]"
   ]
  },
  {
   "cell_type": "code",
   "execution_count": 9,
   "id": "5378898d",
   "metadata": {},
   "outputs": [
    {
     "data": {
      "text/plain": [
       "0    653\n",
       "1     74\n",
       "2    837\n",
       "Name: simplyinteger, dtype: int64"
      ]
     },
     "execution_count": 9,
     "metadata": {},
     "output_type": "execute_result"
    }
   ],
   "source": [
    "s8[:]"
   ]
  },
  {
   "cell_type": "code",
   "execution_count": 10,
   "id": "1a153609",
   "metadata": {},
   "outputs": [
    {
     "data": {
      "text/plain": [
       "0    653\n",
       "1     74\n",
       "2    837\n",
       "Name: simplyinteger, dtype: int64"
      ]
     },
     "execution_count": 10,
     "metadata": {},
     "output_type": "execute_result"
    }
   ],
   "source": [
    "s8[s8>50]"
   ]
  },
  {
   "cell_type": "code",
   "execution_count": 11,
   "id": "43abf595",
   "metadata": {},
   "outputs": [
    {
     "data": {
      "text/plain": [
       "0    653\n",
       "2    837\n",
       "Name: simplyinteger, dtype: int64"
      ]
     },
     "execution_count": 11,
     "metadata": {},
     "output_type": "execute_result"
    }
   ],
   "source": [
    "s8[s8>s8.mean()]"
   ]
  },
  {
   "cell_type": "code",
   "execution_count": 12,
   "id": "847acc4d",
   "metadata": {},
   "outputs": [
    {
     "data": {
      "text/plain": [
       "0    653\n",
       "1     74\n",
       "2    837\n",
       "Name: simplyinteger, dtype: int64"
      ]
     },
     "execution_count": 12,
     "metadata": {},
     "output_type": "execute_result"
    }
   ],
   "source": [
    "s8"
   ]
  },
  {
   "cell_type": "code",
   "execution_count": 15,
   "id": "8cea6408",
   "metadata": {},
   "outputs": [],
   "source": [
    "s8[2]=100  #value change"
   ]
  },
  {
   "cell_type": "code",
   "execution_count": 16,
   "id": "a709ffe8",
   "metadata": {},
   "outputs": [
    {
     "data": {
      "text/plain": [
       "0    653\n",
       "1     74\n",
       "2    100\n",
       "Name: simplyinteger, dtype: int64"
      ]
     },
     "execution_count": 16,
     "metadata": {},
     "output_type": "execute_result"
    }
   ],
   "source": [
    "s8"
   ]
  },
  {
   "cell_type": "code",
   "execution_count": 23,
   "id": "0d8a36ad",
   "metadata": {},
   "outputs": [],
   "source": [
    "List=[1,2,3,6,3,9]\n",
    "s9=pd.Series(List,index=['a','b','c','d','e','f'])"
   ]
  },
  {
   "cell_type": "code",
   "execution_count": 24,
   "id": "5530470f",
   "metadata": {},
   "outputs": [
    {
     "data": {
      "text/plain": [
       "a    1\n",
       "b    2\n",
       "c    3\n",
       "d    6\n",
       "e    3\n",
       "f    9\n",
       "dtype: int64"
      ]
     },
     "execution_count": 24,
     "metadata": {},
     "output_type": "execute_result"
    }
   ],
   "source": [
    "s9"
   ]
  },
  {
   "cell_type": "code",
   "execution_count": 25,
   "id": "8c056943",
   "metadata": {},
   "outputs": [
    {
     "data": {
      "text/plain": [
       "6"
      ]
     },
     "execution_count": 25,
     "metadata": {},
     "output_type": "execute_result"
    }
   ],
   "source": [
    "s9['d']"
   ]
  },
  {
   "cell_type": "code",
   "execution_count": 28,
   "id": "c8becf34",
   "metadata": {},
   "outputs": [],
   "source": [
    "df=pd.DataFrame(List)"
   ]
  },
  {
   "cell_type": "code",
   "execution_count": 29,
   "id": "5d8c85dd",
   "metadata": {},
   "outputs": [],
   "source": [
    "df.to_csv('List.csv')"
   ]
  },
  {
   "cell_type": "markdown",
   "id": "07ce2dae",
   "metadata": {},
   "source": [
    "PANDAS DATA STRUCTURE:DataFrame\n",
    "\n",
    "dataframe is a 2 dimensional labelled(row and column) datastructure like an array with possibility of different datatype columns.\n",
    "\n",
    "it is a table in sql , spreadsheet etc\n",
    "\n",
    "dataframe can be created using dictionary, two dimensional array of numpy, series and another dataframe"
   ]
  },
  {
   "cell_type": "code",
   "execution_count": 17,
   "id": "9be8c00b",
   "metadata": {},
   "outputs": [],
   "source": [
    "import numpy as np "
   ]
  },
  {
   "cell_type": "code",
   "execution_count": 18,
   "id": "72804cf9",
   "metadata": {},
   "outputs": [],
   "source": [
    "import pandas as pd"
   ]
  },
  {
   "cell_type": "code",
   "execution_count": 19,
   "id": "47bf6c07",
   "metadata": {},
   "outputs": [],
   "source": [
    "dict1={'roll':[1,2,3,4,5,6,7],'marks':[32,54,43,60,56,46,65]}"
   ]
  },
  {
   "cell_type": "code",
   "execution_count": 20,
   "id": "bab5389e",
   "metadata": {},
   "outputs": [],
   "source": [
    "df1=pd.DataFrame(dict1,index=[0,1,2,3,4,5,6])"
   ]
  },
  {
   "cell_type": "code",
   "execution_count": 21,
   "id": "972a35cc",
   "metadata": {},
   "outputs": [
    {
     "data": {
      "text/html": [
       "<div>\n",
       "<style scoped>\n",
       "    .dataframe tbody tr th:only-of-type {\n",
       "        vertical-align: middle;\n",
       "    }\n",
       "\n",
       "    .dataframe tbody tr th {\n",
       "        vertical-align: top;\n",
       "    }\n",
       "\n",
       "    .dataframe thead th {\n",
       "        text-align: right;\n",
       "    }\n",
       "</style>\n",
       "<table border=\"1\" class=\"dataframe\">\n",
       "  <thead>\n",
       "    <tr style=\"text-align: right;\">\n",
       "      <th></th>\n",
       "      <th>roll</th>\n",
       "      <th>marks</th>\n",
       "    </tr>\n",
       "  </thead>\n",
       "  <tbody>\n",
       "    <tr>\n",
       "      <th>0</th>\n",
       "      <td>1</td>\n",
       "      <td>32</td>\n",
       "    </tr>\n",
       "    <tr>\n",
       "      <th>1</th>\n",
       "      <td>2</td>\n",
       "      <td>54</td>\n",
       "    </tr>\n",
       "    <tr>\n",
       "      <th>2</th>\n",
       "      <td>3</td>\n",
       "      <td>43</td>\n",
       "    </tr>\n",
       "    <tr>\n",
       "      <th>3</th>\n",
       "      <td>4</td>\n",
       "      <td>60</td>\n",
       "    </tr>\n",
       "    <tr>\n",
       "      <th>4</th>\n",
       "      <td>5</td>\n",
       "      <td>56</td>\n",
       "    </tr>\n",
       "    <tr>\n",
       "      <th>5</th>\n",
       "      <td>6</td>\n",
       "      <td>46</td>\n",
       "    </tr>\n",
       "    <tr>\n",
       "      <th>6</th>\n",
       "      <td>7</td>\n",
       "      <td>65</td>\n",
       "    </tr>\n",
       "  </tbody>\n",
       "</table>\n",
       "</div>"
      ],
      "text/plain": [
       "   roll  marks\n",
       "0     1     32\n",
       "1     2     54\n",
       "2     3     43\n",
       "3     4     60\n",
       "4     5     56\n",
       "5     6     46\n",
       "6     7     65"
      ]
     },
     "execution_count": 21,
     "metadata": {},
     "output_type": "execute_result"
    }
   ],
   "source": [
    "df1"
   ]
  },
  {
   "cell_type": "code",
   "execution_count": 22,
   "id": "9f460b7c",
   "metadata": {},
   "outputs": [],
   "source": [
    "df2=pd.DataFrame(dict1,index=['a','b','c','d','e','f','g'])"
   ]
  },
  {
   "cell_type": "code",
   "execution_count": 23,
   "id": "e4f9b399",
   "metadata": {},
   "outputs": [
    {
     "data": {
      "text/html": [
       "<div>\n",
       "<style scoped>\n",
       "    .dataframe tbody tr th:only-of-type {\n",
       "        vertical-align: middle;\n",
       "    }\n",
       "\n",
       "    .dataframe tbody tr th {\n",
       "        vertical-align: top;\n",
       "    }\n",
       "\n",
       "    .dataframe thead th {\n",
       "        text-align: right;\n",
       "    }\n",
       "</style>\n",
       "<table border=\"1\" class=\"dataframe\">\n",
       "  <thead>\n",
       "    <tr style=\"text-align: right;\">\n",
       "      <th></th>\n",
       "      <th>roll</th>\n",
       "      <th>marks</th>\n",
       "    </tr>\n",
       "  </thead>\n",
       "  <tbody>\n",
       "    <tr>\n",
       "      <th>a</th>\n",
       "      <td>1</td>\n",
       "      <td>32</td>\n",
       "    </tr>\n",
       "    <tr>\n",
       "      <th>b</th>\n",
       "      <td>2</td>\n",
       "      <td>54</td>\n",
       "    </tr>\n",
       "    <tr>\n",
       "      <th>c</th>\n",
       "      <td>3</td>\n",
       "      <td>43</td>\n",
       "    </tr>\n",
       "    <tr>\n",
       "      <th>d</th>\n",
       "      <td>4</td>\n",
       "      <td>60</td>\n",
       "    </tr>\n",
       "    <tr>\n",
       "      <th>e</th>\n",
       "      <td>5</td>\n",
       "      <td>56</td>\n",
       "    </tr>\n",
       "    <tr>\n",
       "      <th>f</th>\n",
       "      <td>6</td>\n",
       "      <td>46</td>\n",
       "    </tr>\n",
       "    <tr>\n",
       "      <th>g</th>\n",
       "      <td>7</td>\n",
       "      <td>65</td>\n",
       "    </tr>\n",
       "  </tbody>\n",
       "</table>\n",
       "</div>"
      ],
      "text/plain": [
       "   roll  marks\n",
       "a     1     32\n",
       "b     2     54\n",
       "c     3     43\n",
       "d     4     60\n",
       "e     5     56\n",
       "f     6     46\n",
       "g     7     65"
      ]
     },
     "execution_count": 23,
     "metadata": {},
     "output_type": "execute_result"
    }
   ],
   "source": [
    "df2"
   ]
  },
  {
   "cell_type": "code",
   "execution_count": 24,
   "id": "07b997a1",
   "metadata": {},
   "outputs": [],
   "source": [
    "df3=pd.DataFrame(dict1,index=['a','b','c','d','e','f','g'],columns=['marks','roll'])"
   ]
  },
  {
   "cell_type": "code",
   "execution_count": 25,
   "id": "d74a81f4",
   "metadata": {},
   "outputs": [
    {
     "data": {
      "text/html": [
       "<div>\n",
       "<style scoped>\n",
       "    .dataframe tbody tr th:only-of-type {\n",
       "        vertical-align: middle;\n",
       "    }\n",
       "\n",
       "    .dataframe tbody tr th {\n",
       "        vertical-align: top;\n",
       "    }\n",
       "\n",
       "    .dataframe thead th {\n",
       "        text-align: right;\n",
       "    }\n",
       "</style>\n",
       "<table border=\"1\" class=\"dataframe\">\n",
       "  <thead>\n",
       "    <tr style=\"text-align: right;\">\n",
       "      <th></th>\n",
       "      <th>marks</th>\n",
       "      <th>roll</th>\n",
       "    </tr>\n",
       "  </thead>\n",
       "  <tbody>\n",
       "    <tr>\n",
       "      <th>a</th>\n",
       "      <td>32</td>\n",
       "      <td>1</td>\n",
       "    </tr>\n",
       "    <tr>\n",
       "      <th>b</th>\n",
       "      <td>54</td>\n",
       "      <td>2</td>\n",
       "    </tr>\n",
       "    <tr>\n",
       "      <th>c</th>\n",
       "      <td>43</td>\n",
       "      <td>3</td>\n",
       "    </tr>\n",
       "    <tr>\n",
       "      <th>d</th>\n",
       "      <td>60</td>\n",
       "      <td>4</td>\n",
       "    </tr>\n",
       "    <tr>\n",
       "      <th>e</th>\n",
       "      <td>56</td>\n",
       "      <td>5</td>\n",
       "    </tr>\n",
       "    <tr>\n",
       "      <th>f</th>\n",
       "      <td>46</td>\n",
       "      <td>6</td>\n",
       "    </tr>\n",
       "    <tr>\n",
       "      <th>g</th>\n",
       "      <td>65</td>\n",
       "      <td>7</td>\n",
       "    </tr>\n",
       "  </tbody>\n",
       "</table>\n",
       "</div>"
      ],
      "text/plain": [
       "   marks  roll\n",
       "a     32     1\n",
       "b     54     2\n",
       "c     43     3\n",
       "d     60     4\n",
       "e     56     5\n",
       "f     46     6\n",
       "g     65     7"
      ]
     },
     "execution_count": 25,
     "metadata": {},
     "output_type": "execute_result"
    }
   ],
   "source": [
    "df3"
   ]
  },
  {
   "cell_type": "code",
   "execution_count": 26,
   "id": "aef6ff4c",
   "metadata": {},
   "outputs": [
    {
     "data": {
      "text/plain": [
       "Int64Index([0, 1, 2, 3, 4, 5, 6], dtype='int64')"
      ]
     },
     "execution_count": 26,
     "metadata": {},
     "output_type": "execute_result"
    }
   ],
   "source": [
    "df1.index"
   ]
  },
  {
   "cell_type": "code",
   "execution_count": 27,
   "id": "5e872232",
   "metadata": {},
   "outputs": [
    {
     "data": {
      "text/plain": [
       "Index(['a', 'b', 'c', 'd', 'e', 'f', 'g'], dtype='object')"
      ]
     },
     "execution_count": 27,
     "metadata": {},
     "output_type": "execute_result"
    }
   ],
   "source": [
    "df2.index"
   ]
  },
  {
   "cell_type": "code",
   "execution_count": 28,
   "id": "643eb693",
   "metadata": {},
   "outputs": [
    {
     "data": {
      "text/plain": [
       "Index(['roll', 'marks'], dtype='object')"
      ]
     },
     "execution_count": 28,
     "metadata": {},
     "output_type": "execute_result"
    }
   ],
   "source": [
    "df1.columns"
   ]
  },
  {
   "cell_type": "code",
   "execution_count": 29,
   "id": "bc8a541d",
   "metadata": {},
   "outputs": [
    {
     "data": {
      "text/plain": [
       "Index(['roll', 'marks'], dtype='object')"
      ]
     },
     "execution_count": 29,
     "metadata": {},
     "output_type": "execute_result"
    }
   ],
   "source": [
    "df2.columns"
   ]
  },
  {
   "cell_type": "code",
   "execution_count": 30,
   "id": "1c58cd93",
   "metadata": {},
   "outputs": [
    {
     "data": {
      "text/plain": [
       "array([(1, 90., b'Rahul'), (2, 89., b'Rakesh'), (3, 65., b'Roushan')],\n",
       "      dtype=[('Roll', '<i4'), ('marks', '<f4'), ('name', 'S20')])"
      ]
     },
     "execution_count": 30,
     "metadata": {},
     "output_type": "execute_result"
    }
   ],
   "source": [
    "Head=[('Roll',\"i4\"),(\"marks\",\"f4\"),(\"name\",\"S20\")]\n",
    "Value=[(1,90,'Rahul'),(2,89,'Rakesh'),(3,65,'Roushan')]\n",
    "Data=np.array(Value,dtype=Head)\n",
    "Data"
   ]
  },
  {
   "cell_type": "code",
   "execution_count": 31,
   "id": "d05b2b3a",
   "metadata": {},
   "outputs": [],
   "source": [
    "Marks_Data=pd.DataFrame(Data)"
   ]
  },
  {
   "cell_type": "code",
   "execution_count": 32,
   "id": "4467193d",
   "metadata": {},
   "outputs": [
    {
     "data": {
      "text/html": [
       "<div>\n",
       "<style scoped>\n",
       "    .dataframe tbody tr th:only-of-type {\n",
       "        vertical-align: middle;\n",
       "    }\n",
       "\n",
       "    .dataframe tbody tr th {\n",
       "        vertical-align: top;\n",
       "    }\n",
       "\n",
       "    .dataframe thead th {\n",
       "        text-align: right;\n",
       "    }\n",
       "</style>\n",
       "<table border=\"1\" class=\"dataframe\">\n",
       "  <thead>\n",
       "    <tr style=\"text-align: right;\">\n",
       "      <th></th>\n",
       "      <th>Roll</th>\n",
       "      <th>marks</th>\n",
       "      <th>name</th>\n",
       "    </tr>\n",
       "  </thead>\n",
       "  <tbody>\n",
       "    <tr>\n",
       "      <th>0</th>\n",
       "      <td>1</td>\n",
       "      <td>90.0</td>\n",
       "      <td>b'Rahul'</td>\n",
       "    </tr>\n",
       "    <tr>\n",
       "      <th>1</th>\n",
       "      <td>2</td>\n",
       "      <td>89.0</td>\n",
       "      <td>b'Rakesh'</td>\n",
       "    </tr>\n",
       "    <tr>\n",
       "      <th>2</th>\n",
       "      <td>3</td>\n",
       "      <td>65.0</td>\n",
       "      <td>b'Roushan'</td>\n",
       "    </tr>\n",
       "  </tbody>\n",
       "</table>\n",
       "</div>"
      ],
      "text/plain": [
       "   Roll  marks        name\n",
       "0     1   90.0    b'Rahul'\n",
       "1     2   89.0   b'Rakesh'\n",
       "2     3   65.0  b'Roushan'"
      ]
     },
     "execution_count": 32,
     "metadata": {},
     "output_type": "execute_result"
    }
   ],
   "source": [
    "Marks_Data"
   ]
  },
  {
   "cell_type": "code",
   "execution_count": 33,
   "id": "2dbdd841",
   "metadata": {},
   "outputs": [],
   "source": [
    "Student=[{\"roll\":1,\"Name\":\"rakesh\"},{\"roll\":2,\"Name\":\"roshan\"}]\n",
    "Student_Data=pd.DataFrame(Student)"
   ]
  },
  {
   "cell_type": "code",
   "execution_count": 34,
   "id": "3e1663c6",
   "metadata": {},
   "outputs": [
    {
     "data": {
      "text/html": [
       "<div>\n",
       "<style scoped>\n",
       "    .dataframe tbody tr th:only-of-type {\n",
       "        vertical-align: middle;\n",
       "    }\n",
       "\n",
       "    .dataframe tbody tr th {\n",
       "        vertical-align: top;\n",
       "    }\n",
       "\n",
       "    .dataframe thead th {\n",
       "        text-align: right;\n",
       "    }\n",
       "</style>\n",
       "<table border=\"1\" class=\"dataframe\">\n",
       "  <thead>\n",
       "    <tr style=\"text-align: right;\">\n",
       "      <th></th>\n",
       "      <th>roll</th>\n",
       "      <th>Name</th>\n",
       "    </tr>\n",
       "  </thead>\n",
       "  <tbody>\n",
       "    <tr>\n",
       "      <th>0</th>\n",
       "      <td>1</td>\n",
       "      <td>rakesh</td>\n",
       "    </tr>\n",
       "    <tr>\n",
       "      <th>1</th>\n",
       "      <td>2</td>\n",
       "      <td>roshan</td>\n",
       "    </tr>\n",
       "  </tbody>\n",
       "</table>\n",
       "</div>"
      ],
      "text/plain": [
       "   roll    Name\n",
       "0     1  rakesh\n",
       "1     2  roshan"
      ]
     },
     "execution_count": 34,
     "metadata": {},
     "output_type": "execute_result"
    }
   ],
   "source": [
    "Student_Data"
   ]
  },
  {
   "cell_type": "markdown",
   "id": "d4acb8e2",
   "metadata": {},
   "source": [
    "namedtuple()\n"
   ]
  },
  {
   "cell_type": "code",
   "execution_count": 35,
   "id": "abb6dbf2",
   "metadata": {},
   "outputs": [],
   "source": [
    "from collections import namedtuple"
   ]
  },
  {
   "cell_type": "code",
   "execution_count": 36,
   "id": "d4def017",
   "metadata": {},
   "outputs": [],
   "source": [
    "import pandas as pd"
   ]
  },
  {
   "cell_type": "code",
   "execution_count": 37,
   "id": "74206d39",
   "metadata": {},
   "outputs": [],
   "source": [
    "Axis=namedtuple(\"Axis\",\"a b\")"
   ]
  },
  {
   "cell_type": "code",
   "execution_count": 38,
   "id": "20a67bf9",
   "metadata": {},
   "outputs": [],
   "source": [
    "Axis_data=pd.DataFrame([Axis(9,10),Axis(1,0),Axis(0,0)])"
   ]
  },
  {
   "cell_type": "code",
   "execution_count": 39,
   "id": "a6526130",
   "metadata": {},
   "outputs": [
    {
     "data": {
      "text/html": [
       "<div>\n",
       "<style scoped>\n",
       "    .dataframe tbody tr th:only-of-type {\n",
       "        vertical-align: middle;\n",
       "    }\n",
       "\n",
       "    .dataframe tbody tr th {\n",
       "        vertical-align: top;\n",
       "    }\n",
       "\n",
       "    .dataframe thead th {\n",
       "        text-align: right;\n",
       "    }\n",
       "</style>\n",
       "<table border=\"1\" class=\"dataframe\">\n",
       "  <thead>\n",
       "    <tr style=\"text-align: right;\">\n",
       "      <th></th>\n",
       "      <th>a</th>\n",
       "      <th>b</th>\n",
       "    </tr>\n",
       "  </thead>\n",
       "  <tbody>\n",
       "    <tr>\n",
       "      <th>0</th>\n",
       "      <td>9</td>\n",
       "      <td>10</td>\n",
       "    </tr>\n",
       "    <tr>\n",
       "      <th>1</th>\n",
       "      <td>1</td>\n",
       "      <td>0</td>\n",
       "    </tr>\n",
       "    <tr>\n",
       "      <th>2</th>\n",
       "      <td>0</td>\n",
       "      <td>0</td>\n",
       "    </tr>\n",
       "  </tbody>\n",
       "</table>\n",
       "</div>"
      ],
      "text/plain": [
       "   a   b\n",
       "0  9  10\n",
       "1  1   0\n",
       "2  0   0"
      ]
     },
     "execution_count": 39,
     "metadata": {},
     "output_type": "execute_result"
    }
   ],
   "source": [
    "Axis_data"
   ]
  },
  {
   "cell_type": "code",
   "execution_count": 40,
   "id": "202887a4",
   "metadata": {},
   "outputs": [],
   "source": [
    "Axis=namedtuple(\"Axis\",\"a b c d\")"
   ]
  },
  {
   "cell_type": "code",
   "execution_count": 41,
   "id": "52ac1c11",
   "metadata": {},
   "outputs": [],
   "source": [
    "Axis_data=pd.DataFrame([Axis(9,10,6,8),Axis(1,0,7,5),Axis(0,0,9,1)])"
   ]
  },
  {
   "cell_type": "code",
   "execution_count": 42,
   "id": "3e86b954",
   "metadata": {},
   "outputs": [
    {
     "data": {
      "text/html": [
       "<div>\n",
       "<style scoped>\n",
       "    .dataframe tbody tr th:only-of-type {\n",
       "        vertical-align: middle;\n",
       "    }\n",
       "\n",
       "    .dataframe tbody tr th {\n",
       "        vertical-align: top;\n",
       "    }\n",
       "\n",
       "    .dataframe thead th {\n",
       "        text-align: right;\n",
       "    }\n",
       "</style>\n",
       "<table border=\"1\" class=\"dataframe\">\n",
       "  <thead>\n",
       "    <tr style=\"text-align: right;\">\n",
       "      <th></th>\n",
       "      <th>a</th>\n",
       "      <th>b</th>\n",
       "      <th>c</th>\n",
       "      <th>d</th>\n",
       "    </tr>\n",
       "  </thead>\n",
       "  <tbody>\n",
       "    <tr>\n",
       "      <th>0</th>\n",
       "      <td>9</td>\n",
       "      <td>10</td>\n",
       "      <td>6</td>\n",
       "      <td>8</td>\n",
       "    </tr>\n",
       "    <tr>\n",
       "      <th>1</th>\n",
       "      <td>1</td>\n",
       "      <td>0</td>\n",
       "      <td>7</td>\n",
       "      <td>5</td>\n",
       "    </tr>\n",
       "    <tr>\n",
       "      <th>2</th>\n",
       "      <td>0</td>\n",
       "      <td>0</td>\n",
       "      <td>9</td>\n",
       "      <td>1</td>\n",
       "    </tr>\n",
       "  </tbody>\n",
       "</table>\n",
       "</div>"
      ],
      "text/plain": [
       "   a   b  c  d\n",
       "0  9  10  6  8\n",
       "1  1   0  7  5\n",
       "2  0   0  9  1"
      ]
     },
     "execution_count": 42,
     "metadata": {},
     "output_type": "execute_result"
    }
   ],
   "source": [
    "Axis_data"
   ]
  },
  {
   "cell_type": "code",
   "execution_count": 43,
   "id": "10128dd5",
   "metadata": {},
   "outputs": [
    {
     "data": {
      "text/html": [
       "<div>\n",
       "<style scoped>\n",
       "    .dataframe tbody tr th:only-of-type {\n",
       "        vertical-align: middle;\n",
       "    }\n",
       "\n",
       "    .dataframe tbody tr th {\n",
       "        vertical-align: top;\n",
       "    }\n",
       "\n",
       "    .dataframe thead th {\n",
       "        text-align: right;\n",
       "    }\n",
       "</style>\n",
       "<table border=\"1\" class=\"dataframe\">\n",
       "  <thead>\n",
       "    <tr style=\"text-align: right;\">\n",
       "      <th></th>\n",
       "      <th>Roll</th>\n",
       "      <th>marks</th>\n",
       "      <th>name</th>\n",
       "    </tr>\n",
       "  </thead>\n",
       "  <tbody>\n",
       "    <tr>\n",
       "      <th>0</th>\n",
       "      <td>1</td>\n",
       "      <td>90.0</td>\n",
       "      <td>b'Rahul'</td>\n",
       "    </tr>\n",
       "    <tr>\n",
       "      <th>1</th>\n",
       "      <td>2</td>\n",
       "      <td>89.0</td>\n",
       "      <td>b'Rakesh'</td>\n",
       "    </tr>\n",
       "    <tr>\n",
       "      <th>2</th>\n",
       "      <td>3</td>\n",
       "      <td>65.0</td>\n",
       "      <td>b'Roushan'</td>\n",
       "    </tr>\n",
       "  </tbody>\n",
       "</table>\n",
       "</div>"
      ],
      "text/plain": [
       "   Roll  marks        name\n",
       "0     1   90.0    b'Rahul'\n",
       "1     2   89.0   b'Rakesh'\n",
       "2     3   65.0  b'Roushan'"
      ]
     },
     "execution_count": 43,
     "metadata": {},
     "output_type": "execute_result"
    }
   ],
   "source": [
    "Marks_Data"
   ]
  },
  {
   "cell_type": "markdown",
   "id": "b280e62b",
   "metadata": {},
   "source": [
    "from_records ka use karke roll,markes,names me se kisi ko bhi index bana sakte hai"
   ]
  },
  {
   "cell_type": "code",
   "execution_count": 44,
   "id": "25846e9a",
   "metadata": {},
   "outputs": [],
   "source": [
    "data1=pd.DataFrame.from_records(Data,index='Roll')"
   ]
  },
  {
   "cell_type": "code",
   "execution_count": 45,
   "id": "0887edea",
   "metadata": {},
   "outputs": [
    {
     "data": {
      "text/html": [
       "<div>\n",
       "<style scoped>\n",
       "    .dataframe tbody tr th:only-of-type {\n",
       "        vertical-align: middle;\n",
       "    }\n",
       "\n",
       "    .dataframe tbody tr th {\n",
       "        vertical-align: top;\n",
       "    }\n",
       "\n",
       "    .dataframe thead th {\n",
       "        text-align: right;\n",
       "    }\n",
       "</style>\n",
       "<table border=\"1\" class=\"dataframe\">\n",
       "  <thead>\n",
       "    <tr style=\"text-align: right;\">\n",
       "      <th></th>\n",
       "      <th>marks</th>\n",
       "      <th>name</th>\n",
       "    </tr>\n",
       "    <tr>\n",
       "      <th>Roll</th>\n",
       "      <th></th>\n",
       "      <th></th>\n",
       "    </tr>\n",
       "  </thead>\n",
       "  <tbody>\n",
       "    <tr>\n",
       "      <th>1</th>\n",
       "      <td>90.0</td>\n",
       "      <td>b'Rahul'</td>\n",
       "    </tr>\n",
       "    <tr>\n",
       "      <th>2</th>\n",
       "      <td>89.0</td>\n",
       "      <td>b'Rakesh'</td>\n",
       "    </tr>\n",
       "    <tr>\n",
       "      <th>3</th>\n",
       "      <td>65.0</td>\n",
       "      <td>b'Roushan'</td>\n",
       "    </tr>\n",
       "  </tbody>\n",
       "</table>\n",
       "</div>"
      ],
      "text/plain": [
       "      marks        name\n",
       "Roll                   \n",
       "1      90.0    b'Rahul'\n",
       "2      89.0   b'Rakesh'\n",
       "3      65.0  b'Roushan'"
      ]
     },
     "execution_count": 45,
     "metadata": {},
     "output_type": "execute_result"
    }
   ],
   "source": [
    "data1"
   ]
  },
  {
   "cell_type": "code",
   "execution_count": 47,
   "id": "d7f623af",
   "metadata": {},
   "outputs": [
    {
     "data": {
      "text/html": [
       "<div>\n",
       "<style scoped>\n",
       "    .dataframe tbody tr th:only-of-type {\n",
       "        vertical-align: middle;\n",
       "    }\n",
       "\n",
       "    .dataframe tbody tr th {\n",
       "        vertical-align: top;\n",
       "    }\n",
       "\n",
       "    .dataframe thead th {\n",
       "        text-align: right;\n",
       "    }\n",
       "</style>\n",
       "<table border=\"1\" class=\"dataframe\">\n",
       "  <thead>\n",
       "    <tr style=\"text-align: right;\">\n",
       "      <th></th>\n",
       "      <th>Roll</th>\n",
       "      <th>marks</th>\n",
       "      <th>name</th>\n",
       "    </tr>\n",
       "  </thead>\n",
       "  <tbody>\n",
       "    <tr>\n",
       "      <th>0</th>\n",
       "      <td>1</td>\n",
       "      <td>90.0</td>\n",
       "      <td>b'Rahul'</td>\n",
       "    </tr>\n",
       "    <tr>\n",
       "      <th>1</th>\n",
       "      <td>2</td>\n",
       "      <td>89.0</td>\n",
       "      <td>b'Rakesh'</td>\n",
       "    </tr>\n",
       "    <tr>\n",
       "      <th>2</th>\n",
       "      <td>3</td>\n",
       "      <td>65.0</td>\n",
       "      <td>b'Roushan'</td>\n",
       "    </tr>\n",
       "  </tbody>\n",
       "</table>\n",
       "</div>"
      ],
      "text/plain": [
       "   Roll  marks        name\n",
       "0     1   90.0    b'Rahul'\n",
       "1     2   89.0   b'Rakesh'\n",
       "2     3   65.0  b'Roushan'"
      ]
     },
     "execution_count": 47,
     "metadata": {},
     "output_type": "execute_result"
    }
   ],
   "source": [
    "Marks_Data"
   ]
  },
  {
   "cell_type": "markdown",
   "id": "06b4cb42",
   "metadata": {},
   "source": [
    "new column ko add karna hai"
   ]
  },
  {
   "cell_type": "code",
   "execution_count": 48,
   "id": "cdd2cfd4",
   "metadata": {},
   "outputs": [],
   "source": [
    "Marks_Data['subjects']=[3,4,2]"
   ]
  },
  {
   "cell_type": "code",
   "execution_count": 49,
   "id": "89660fd4",
   "metadata": {},
   "outputs": [
    {
     "data": {
      "text/html": [
       "<div>\n",
       "<style scoped>\n",
       "    .dataframe tbody tr th:only-of-type {\n",
       "        vertical-align: middle;\n",
       "    }\n",
       "\n",
       "    .dataframe tbody tr th {\n",
       "        vertical-align: top;\n",
       "    }\n",
       "\n",
       "    .dataframe thead th {\n",
       "        text-align: right;\n",
       "    }\n",
       "</style>\n",
       "<table border=\"1\" class=\"dataframe\">\n",
       "  <thead>\n",
       "    <tr style=\"text-align: right;\">\n",
       "      <th></th>\n",
       "      <th>Roll</th>\n",
       "      <th>marks</th>\n",
       "      <th>name</th>\n",
       "      <th>subjects</th>\n",
       "    </tr>\n",
       "  </thead>\n",
       "  <tbody>\n",
       "    <tr>\n",
       "      <th>0</th>\n",
       "      <td>1</td>\n",
       "      <td>90.0</td>\n",
       "      <td>b'Rahul'</td>\n",
       "      <td>3</td>\n",
       "    </tr>\n",
       "    <tr>\n",
       "      <th>1</th>\n",
       "      <td>2</td>\n",
       "      <td>89.0</td>\n",
       "      <td>b'Rakesh'</td>\n",
       "      <td>4</td>\n",
       "    </tr>\n",
       "    <tr>\n",
       "      <th>2</th>\n",
       "      <td>3</td>\n",
       "      <td>65.0</td>\n",
       "      <td>b'Roushan'</td>\n",
       "      <td>2</td>\n",
       "    </tr>\n",
       "  </tbody>\n",
       "</table>\n",
       "</div>"
      ],
      "text/plain": [
       "   Roll  marks        name  subjects\n",
       "0     1   90.0    b'Rahul'         3\n",
       "1     2   89.0   b'Rakesh'         4\n",
       "2     3   65.0  b'Roushan'         2"
      ]
     },
     "execution_count": 49,
     "metadata": {},
     "output_type": "execute_result"
    }
   ],
   "source": [
    "Marks_Data"
   ]
  },
  {
   "cell_type": "code",
   "execution_count": 51,
   "id": "195b1177",
   "metadata": {},
   "outputs": [],
   "source": [
    "Marks_Data[\"Total_Marks\"]=Marks_Data['marks']*Marks_Data['subjects']"
   ]
  },
  {
   "cell_type": "code",
   "execution_count": 52,
   "id": "a02b76a4",
   "metadata": {},
   "outputs": [
    {
     "data": {
      "text/html": [
       "<div>\n",
       "<style scoped>\n",
       "    .dataframe tbody tr th:only-of-type {\n",
       "        vertical-align: middle;\n",
       "    }\n",
       "\n",
       "    .dataframe tbody tr th {\n",
       "        vertical-align: top;\n",
       "    }\n",
       "\n",
       "    .dataframe thead th {\n",
       "        text-align: right;\n",
       "    }\n",
       "</style>\n",
       "<table border=\"1\" class=\"dataframe\">\n",
       "  <thead>\n",
       "    <tr style=\"text-align: right;\">\n",
       "      <th></th>\n",
       "      <th>Roll</th>\n",
       "      <th>marks</th>\n",
       "      <th>name</th>\n",
       "      <th>subjects</th>\n",
       "      <th>Total_Marks</th>\n",
       "    </tr>\n",
       "  </thead>\n",
       "  <tbody>\n",
       "    <tr>\n",
       "      <th>0</th>\n",
       "      <td>1</td>\n",
       "      <td>90.0</td>\n",
       "      <td>b'Rahul'</td>\n",
       "      <td>3</td>\n",
       "      <td>270.0</td>\n",
       "    </tr>\n",
       "    <tr>\n",
       "      <th>1</th>\n",
       "      <td>2</td>\n",
       "      <td>89.0</td>\n",
       "      <td>b'Rakesh'</td>\n",
       "      <td>4</td>\n",
       "      <td>356.0</td>\n",
       "    </tr>\n",
       "    <tr>\n",
       "      <th>2</th>\n",
       "      <td>3</td>\n",
       "      <td>65.0</td>\n",
       "      <td>b'Roushan'</td>\n",
       "      <td>2</td>\n",
       "      <td>130.0</td>\n",
       "    </tr>\n",
       "  </tbody>\n",
       "</table>\n",
       "</div>"
      ],
      "text/plain": [
       "   Roll  marks        name  subjects  Total_Marks\n",
       "0     1   90.0    b'Rahul'         3        270.0\n",
       "1     2   89.0   b'Rakesh'         4        356.0\n",
       "2     3   65.0  b'Roushan'         2        130.0"
      ]
     },
     "execution_count": 52,
     "metadata": {},
     "output_type": "execute_result"
    }
   ],
   "source": [
    "Marks_Data"
   ]
  },
  {
   "cell_type": "code",
   "execution_count": 61,
   "id": "f696819b",
   "metadata": {},
   "outputs": [],
   "source": [
    "Marks_Data['results']=Marks_Data['Total_Marks']>200"
   ]
  },
  {
   "cell_type": "code",
   "execution_count": 62,
   "id": "b71b0548",
   "metadata": {},
   "outputs": [
    {
     "data": {
      "text/html": [
       "<div>\n",
       "<style scoped>\n",
       "    .dataframe tbody tr th:only-of-type {\n",
       "        vertical-align: middle;\n",
       "    }\n",
       "\n",
       "    .dataframe tbody tr th {\n",
       "        vertical-align: top;\n",
       "    }\n",
       "\n",
       "    .dataframe thead th {\n",
       "        text-align: right;\n",
       "    }\n",
       "</style>\n",
       "<table border=\"1\" class=\"dataframe\">\n",
       "  <thead>\n",
       "    <tr style=\"text-align: right;\">\n",
       "      <th></th>\n",
       "      <th>Roll</th>\n",
       "      <th>marks</th>\n",
       "      <th>name</th>\n",
       "      <th>city</th>\n",
       "      <th>subjects</th>\n",
       "      <th>Total_Marks</th>\n",
       "      <th>results</th>\n",
       "    </tr>\n",
       "  </thead>\n",
       "  <tbody>\n",
       "    <tr>\n",
       "      <th>0</th>\n",
       "      <td>1</td>\n",
       "      <td>90.0</td>\n",
       "      <td>b'Rahul'</td>\n",
       "      <td>delhi</td>\n",
       "      <td>3</td>\n",
       "      <td>270.0</td>\n",
       "      <td>True</td>\n",
       "    </tr>\n",
       "    <tr>\n",
       "      <th>1</th>\n",
       "      <td>2</td>\n",
       "      <td>89.0</td>\n",
       "      <td>b'Rakesh'</td>\n",
       "      <td>kolkata</td>\n",
       "      <td>4</td>\n",
       "      <td>356.0</td>\n",
       "      <td>True</td>\n",
       "    </tr>\n",
       "    <tr>\n",
       "      <th>2</th>\n",
       "      <td>3</td>\n",
       "      <td>65.0</td>\n",
       "      <td>b'Roushan'</td>\n",
       "      <td>mumbai</td>\n",
       "      <td>2</td>\n",
       "      <td>130.0</td>\n",
       "      <td>False</td>\n",
       "    </tr>\n",
       "  </tbody>\n",
       "</table>\n",
       "</div>"
      ],
      "text/plain": [
       "   Roll  marks        name     city  subjects  Total_Marks  results\n",
       "0     1   90.0    b'Rahul'    delhi         3        270.0     True\n",
       "1     2   89.0   b'Rakesh'  kolkata         4        356.0     True\n",
       "2     3   65.0  b'Roushan'   mumbai         2        130.0    False"
      ]
     },
     "execution_count": 62,
     "metadata": {},
     "output_type": "execute_result"
    }
   ],
   "source": [
    "Marks_Data"
   ]
  },
  {
   "cell_type": "markdown",
   "id": "e816b424",
   "metadata": {},
   "source": [
    "hame third index me ek new columns insert karna hai "
   ]
  },
  {
   "cell_type": "code",
   "execution_count": 64,
   "id": "30822ff2",
   "metadata": {},
   "outputs": [],
   "source": [
    "Marks_Data.insert(3,\"City\",[\"delhi\",\"kolkata\",\"mumbai\"])"
   ]
  },
  {
   "cell_type": "code",
   "execution_count": 65,
   "id": "892e27bf",
   "metadata": {},
   "outputs": [
    {
     "data": {
      "text/html": [
       "<div>\n",
       "<style scoped>\n",
       "    .dataframe tbody tr th:only-of-type {\n",
       "        vertical-align: middle;\n",
       "    }\n",
       "\n",
       "    .dataframe tbody tr th {\n",
       "        vertical-align: top;\n",
       "    }\n",
       "\n",
       "    .dataframe thead th {\n",
       "        text-align: right;\n",
       "    }\n",
       "</style>\n",
       "<table border=\"1\" class=\"dataframe\">\n",
       "  <thead>\n",
       "    <tr style=\"text-align: right;\">\n",
       "      <th></th>\n",
       "      <th>Roll</th>\n",
       "      <th>marks</th>\n",
       "      <th>name</th>\n",
       "      <th>City</th>\n",
       "      <th>city</th>\n",
       "      <th>subjects</th>\n",
       "      <th>Total_Marks</th>\n",
       "      <th>results</th>\n",
       "    </tr>\n",
       "  </thead>\n",
       "  <tbody>\n",
       "    <tr>\n",
       "      <th>0</th>\n",
       "      <td>1</td>\n",
       "      <td>90.0</td>\n",
       "      <td>b'Rahul'</td>\n",
       "      <td>delhi</td>\n",
       "      <td>delhi</td>\n",
       "      <td>3</td>\n",
       "      <td>270.0</td>\n",
       "      <td>True</td>\n",
       "    </tr>\n",
       "    <tr>\n",
       "      <th>1</th>\n",
       "      <td>2</td>\n",
       "      <td>89.0</td>\n",
       "      <td>b'Rakesh'</td>\n",
       "      <td>kolkata</td>\n",
       "      <td>kolkata</td>\n",
       "      <td>4</td>\n",
       "      <td>356.0</td>\n",
       "      <td>True</td>\n",
       "    </tr>\n",
       "    <tr>\n",
       "      <th>2</th>\n",
       "      <td>3</td>\n",
       "      <td>65.0</td>\n",
       "      <td>b'Roushan'</td>\n",
       "      <td>mumbai</td>\n",
       "      <td>mumbai</td>\n",
       "      <td>2</td>\n",
       "      <td>130.0</td>\n",
       "      <td>False</td>\n",
       "    </tr>\n",
       "  </tbody>\n",
       "</table>\n",
       "</div>"
      ],
      "text/plain": [
       "   Roll  marks        name     City     city  subjects  Total_Marks  results\n",
       "0     1   90.0    b'Rahul'    delhi    delhi         3        270.0     True\n",
       "1     2   89.0   b'Rakesh'  kolkata  kolkata         4        356.0     True\n",
       "2     3   65.0  b'Roushan'   mumbai   mumbai         2        130.0    False"
      ]
     },
     "execution_count": 65,
     "metadata": {},
     "output_type": "execute_result"
    }
   ],
   "source": [
    "Marks_Data"
   ]
  },
  {
   "cell_type": "markdown",
   "id": "c0005bac",
   "metadata": {},
   "source": [
    "transpose of data frame"
   ]
  },
  {
   "cell_type": "markdown",
   "id": "8d1b6d2e",
   "metadata": {},
   "source": [
    "rows ko column me convert karna hai and columns ko row me"
   ]
  },
  {
   "cell_type": "code",
   "execution_count": 66,
   "id": "1f8f2594",
   "metadata": {},
   "outputs": [
    {
     "data": {
      "text/html": [
       "<div>\n",
       "<style scoped>\n",
       "    .dataframe tbody tr th:only-of-type {\n",
       "        vertical-align: middle;\n",
       "    }\n",
       "\n",
       "    .dataframe tbody tr th {\n",
       "        vertical-align: top;\n",
       "    }\n",
       "\n",
       "    .dataframe thead th {\n",
       "        text-align: right;\n",
       "    }\n",
       "</style>\n",
       "<table border=\"1\" class=\"dataframe\">\n",
       "  <thead>\n",
       "    <tr style=\"text-align: right;\">\n",
       "      <th></th>\n",
       "      <th>0</th>\n",
       "      <th>1</th>\n",
       "      <th>2</th>\n",
       "    </tr>\n",
       "  </thead>\n",
       "  <tbody>\n",
       "    <tr>\n",
       "      <th>Roll</th>\n",
       "      <td>1</td>\n",
       "      <td>2</td>\n",
       "      <td>3</td>\n",
       "    </tr>\n",
       "    <tr>\n",
       "      <th>marks</th>\n",
       "      <td>90.0</td>\n",
       "      <td>89.0</td>\n",
       "      <td>65.0</td>\n",
       "    </tr>\n",
       "    <tr>\n",
       "      <th>name</th>\n",
       "      <td>b'Rahul'</td>\n",
       "      <td>b'Rakesh'</td>\n",
       "      <td>b'Roushan'</td>\n",
       "    </tr>\n",
       "    <tr>\n",
       "      <th>City</th>\n",
       "      <td>delhi</td>\n",
       "      <td>kolkata</td>\n",
       "      <td>mumbai</td>\n",
       "    </tr>\n",
       "    <tr>\n",
       "      <th>city</th>\n",
       "      <td>delhi</td>\n",
       "      <td>kolkata</td>\n",
       "      <td>mumbai</td>\n",
       "    </tr>\n",
       "    <tr>\n",
       "      <th>subjects</th>\n",
       "      <td>3</td>\n",
       "      <td>4</td>\n",
       "      <td>2</td>\n",
       "    </tr>\n",
       "    <tr>\n",
       "      <th>Total_Marks</th>\n",
       "      <td>270.0</td>\n",
       "      <td>356.0</td>\n",
       "      <td>130.0</td>\n",
       "    </tr>\n",
       "    <tr>\n",
       "      <th>results</th>\n",
       "      <td>True</td>\n",
       "      <td>True</td>\n",
       "      <td>False</td>\n",
       "    </tr>\n",
       "  </tbody>\n",
       "</table>\n",
       "</div>"
      ],
      "text/plain": [
       "                    0          1           2\n",
       "Roll                1          2           3\n",
       "marks            90.0       89.0        65.0\n",
       "name         b'Rahul'  b'Rakesh'  b'Roushan'\n",
       "City            delhi    kolkata      mumbai\n",
       "city            delhi    kolkata      mumbai\n",
       "subjects            3          4           2\n",
       "Total_Marks     270.0      356.0       130.0\n",
       "results          True       True       False"
      ]
     },
     "execution_count": 66,
     "metadata": {},
     "output_type": "execute_result"
    }
   ],
   "source": [
    "Marks_Data.T"
   ]
  },
  {
   "cell_type": "code",
   "execution_count": 67,
   "id": "0609eb08",
   "metadata": {},
   "outputs": [
    {
     "data": {
      "text/html": [
       "<div>\n",
       "<style scoped>\n",
       "    .dataframe tbody tr th:only-of-type {\n",
       "        vertical-align: middle;\n",
       "    }\n",
       "\n",
       "    .dataframe tbody tr th {\n",
       "        vertical-align: top;\n",
       "    }\n",
       "\n",
       "    .dataframe thead th {\n",
       "        text-align: right;\n",
       "    }\n",
       "</style>\n",
       "<table border=\"1\" class=\"dataframe\">\n",
       "  <thead>\n",
       "    <tr style=\"text-align: right;\">\n",
       "      <th></th>\n",
       "      <th>Roll</th>\n",
       "      <th>marks</th>\n",
       "      <th>name</th>\n",
       "      <th>City</th>\n",
       "      <th>city</th>\n",
       "      <th>subjects</th>\n",
       "      <th>Total_Marks</th>\n",
       "      <th>results</th>\n",
       "    </tr>\n",
       "  </thead>\n",
       "  <tbody>\n",
       "    <tr>\n",
       "      <th>0</th>\n",
       "      <td>1</td>\n",
       "      <td>90.0</td>\n",
       "      <td>b'Rahul'</td>\n",
       "      <td>delhi</td>\n",
       "      <td>delhi</td>\n",
       "      <td>3</td>\n",
       "      <td>270.0</td>\n",
       "      <td>True</td>\n",
       "    </tr>\n",
       "    <tr>\n",
       "      <th>1</th>\n",
       "      <td>2</td>\n",
       "      <td>89.0</td>\n",
       "      <td>b'Rakesh'</td>\n",
       "      <td>kolkata</td>\n",
       "      <td>kolkata</td>\n",
       "      <td>4</td>\n",
       "      <td>356.0</td>\n",
       "      <td>True</td>\n",
       "    </tr>\n",
       "    <tr>\n",
       "      <th>2</th>\n",
       "      <td>3</td>\n",
       "      <td>65.0</td>\n",
       "      <td>b'Roushan'</td>\n",
       "      <td>mumbai</td>\n",
       "      <td>mumbai</td>\n",
       "      <td>2</td>\n",
       "      <td>130.0</td>\n",
       "      <td>False</td>\n",
       "    </tr>\n",
       "  </tbody>\n",
       "</table>\n",
       "</div>"
      ],
      "text/plain": [
       "   Roll  marks        name     City     city  subjects  Total_Marks  results\n",
       "0     1   90.0    b'Rahul'    delhi    delhi         3        270.0     True\n",
       "1     2   89.0   b'Rakesh'  kolkata  kolkata         4        356.0     True\n",
       "2     3   65.0  b'Roushan'   mumbai   mumbai         2        130.0    False"
      ]
     },
     "execution_count": 67,
     "metadata": {},
     "output_type": "execute_result"
    }
   ],
   "source": [
    "Marks_Data"
   ]
  },
  {
   "cell_type": "markdown",
   "id": "a750fbe5",
   "metadata": {},
   "source": [
    "first row se lekar and second column se lekar last tak ka dataframe dekhna hai "
   ]
  },
  {
   "cell_type": "code",
   "execution_count": 69,
   "id": "0c4981e1",
   "metadata": {},
   "outputs": [
    {
     "data": {
      "text/html": [
       "<div>\n",
       "<style scoped>\n",
       "    .dataframe tbody tr th:only-of-type {\n",
       "        vertical-align: middle;\n",
       "    }\n",
       "\n",
       "    .dataframe tbody tr th {\n",
       "        vertical-align: top;\n",
       "    }\n",
       "\n",
       "    .dataframe thead th {\n",
       "        text-align: right;\n",
       "    }\n",
       "</style>\n",
       "<table border=\"1\" class=\"dataframe\">\n",
       "  <thead>\n",
       "    <tr style=\"text-align: right;\">\n",
       "      <th></th>\n",
       "      <th>name</th>\n",
       "      <th>City</th>\n",
       "      <th>city</th>\n",
       "      <th>subjects</th>\n",
       "      <th>Total_Marks</th>\n",
       "      <th>results</th>\n",
       "    </tr>\n",
       "  </thead>\n",
       "  <tbody>\n",
       "    <tr>\n",
       "      <th>1</th>\n",
       "      <td>b'Rakesh'</td>\n",
       "      <td>kolkata</td>\n",
       "      <td>kolkata</td>\n",
       "      <td>4</td>\n",
       "      <td>356.0</td>\n",
       "      <td>True</td>\n",
       "    </tr>\n",
       "    <tr>\n",
       "      <th>2</th>\n",
       "      <td>b'Roushan'</td>\n",
       "      <td>mumbai</td>\n",
       "      <td>mumbai</td>\n",
       "      <td>2</td>\n",
       "      <td>130.0</td>\n",
       "      <td>False</td>\n",
       "    </tr>\n",
       "  </tbody>\n",
       "</table>\n",
       "</div>"
      ],
      "text/plain": [
       "         name     City     city  subjects  Total_Marks  results\n",
       "1   b'Rakesh'  kolkata  kolkata         4        356.0     True\n",
       "2  b'Roushan'   mumbai   mumbai         2        130.0    False"
      ]
     },
     "execution_count": 69,
     "metadata": {},
     "output_type": "execute_result"
    }
   ],
   "source": [
    "Marks_Data.iloc[1:,2:]"
   ]
  },
  {
   "cell_type": "markdown",
   "id": "5286b6ec",
   "metadata": {},
   "source": [
    "hame dataframe ka sabhi rows and column me 2 se 5 index tak ka column chahiye"
   ]
  },
  {
   "cell_type": "code",
   "execution_count": 70,
   "id": "080ac670",
   "metadata": {},
   "outputs": [
    {
     "data": {
      "text/html": [
       "<div>\n",
       "<style scoped>\n",
       "    .dataframe tbody tr th:only-of-type {\n",
       "        vertical-align: middle;\n",
       "    }\n",
       "\n",
       "    .dataframe tbody tr th {\n",
       "        vertical-align: top;\n",
       "    }\n",
       "\n",
       "    .dataframe thead th {\n",
       "        text-align: right;\n",
       "    }\n",
       "</style>\n",
       "<table border=\"1\" class=\"dataframe\">\n",
       "  <thead>\n",
       "    <tr style=\"text-align: right;\">\n",
       "      <th></th>\n",
       "      <th>name</th>\n",
       "      <th>City</th>\n",
       "      <th>city</th>\n",
       "    </tr>\n",
       "  </thead>\n",
       "  <tbody>\n",
       "    <tr>\n",
       "      <th>0</th>\n",
       "      <td>b'Rahul'</td>\n",
       "      <td>delhi</td>\n",
       "      <td>delhi</td>\n",
       "    </tr>\n",
       "    <tr>\n",
       "      <th>1</th>\n",
       "      <td>b'Rakesh'</td>\n",
       "      <td>kolkata</td>\n",
       "      <td>kolkata</td>\n",
       "    </tr>\n",
       "    <tr>\n",
       "      <th>2</th>\n",
       "      <td>b'Roushan'</td>\n",
       "      <td>mumbai</td>\n",
       "      <td>mumbai</td>\n",
       "    </tr>\n",
       "  </tbody>\n",
       "</table>\n",
       "</div>"
      ],
      "text/plain": [
       "         name     City     city\n",
       "0    b'Rahul'    delhi    delhi\n",
       "1   b'Rakesh'  kolkata  kolkata\n",
       "2  b'Roushan'   mumbai   mumbai"
      ]
     },
     "execution_count": 70,
     "metadata": {},
     "output_type": "execute_result"
    }
   ],
   "source": [
    "Marks_Data.iloc[:,2:5]"
   ]
  },
  {
   "cell_type": "markdown",
   "id": "486c7334",
   "metadata": {},
   "source": [
    "merging joining and concatening"
   ]
  },
  {
   "cell_type": "code",
   "execution_count": null,
   "id": "f5f7773e",
   "metadata": {},
   "outputs": [],
   "source": []
  }
 ],
 "metadata": {
  "kernelspec": {
   "display_name": "Python 3 (ipykernel)",
   "language": "python",
   "name": "python3"
  },
  "language_info": {
   "codemirror_mode": {
    "name": "ipython",
    "version": 3
   },
   "file_extension": ".py",
   "mimetype": "text/x-python",
   "name": "python",
   "nbconvert_exporter": "python",
   "pygments_lexer": "ipython3",
   "version": "3.9.12"
  }
 },
 "nbformat": 4,
 "nbformat_minor": 5
}
